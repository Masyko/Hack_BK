{
 "cells": [
  {
   "cell_type": "code",
   "execution_count": 1,
   "metadata": {
    "collapsed": true
   },
   "outputs": [],
   "source": [
    "import pandas as pd\n",
    "import numpy as np"
   ]
  },
  {
   "cell_type": "code",
   "execution_count": 4,
   "outputs": [],
   "source": [
    "df_test = pd.read_parquet('test_with_feats_v2.parquet')\n",
    "df_train = pd.read_parquet('train_with_feats_v2.parquet')"
   ],
   "metadata": {
    "collapsed": false
   }
  },
  {
   "cell_type": "code",
   "execution_count": 5,
   "outputs": [
    {
     "data": {
      "text/plain": "        buy_post  customer_id  receipt_sum_mean  receipt_sum_std  \\\n0              0        45006        522.613333       395.184669   \n1              0        45303        148.943478        88.418075   \n2              0       102488        186.978333       331.158229   \n3              0       119045        396.970000       191.625756   \n4              0       157470        679.296667       621.355704   \n...          ...          ...               ...              ...   \n499995         1     46598535        353.000000       129.722781   \n499996         1     46609455        528.290000       125.825938   \n499997         1     46617009        562.470000       321.818220   \n499998         1     46639170        363.306667       177.842347   \n499999         1     46654016        406.643333       202.558140   \n\n        receipt_count  items_receipt_mean  items_receipt_mean_std  \\\n0                   3            6.333333                5.773503   \n1                  23            1.260870                0.751809   \n2                   6            3.000000                4.427189   \n3                   3            2.000000                1.000000   \n4                   3            5.000000                3.605551   \n...               ...                 ...                     ...   \n499995              3            5.333333                5.859465   \n499996              3            4.333333                0.577350   \n499997              4            3.000000                1.414214   \n499998              3            3.666667                1.527525   \n499999              3            2.000000                1.000000   \n\n        sum_delta_min  sum_delta_max  sum_delta_mean  ...  second_half_max  \\\n0             -765.91         213.99     -275.960000  ...           409.97   \n1             -250.00         288.99       -0.908182  ...           259.99   \n2             -830.94         830.94        0.200000  ...           860.93   \n3             -300.97         -55.00     -177.985000  ...           314.98   \n4             -806.96        -414.97     -610.965000  ...           809.96   \n...               ...            ...             ...  ...              ...   \n499995        -242.00          40.00     -101.000000  ...           299.00   \n499996        -249.99          99.99      -75.000000  ...           644.95   \n499997        -584.98         130.01     -249.990000  ...           699.97   \n499998         119.99         229.98      174.985000  ...           519.96   \n499999        -289.97         389.99       50.010000  ...           569.98   \n\n        second_half_min  second_half_std        diff     ratio  \\\n0                195.98       151.313780 -658.915000  0.314979   \n1                 39.99        80.267503   -2.173106  0.985520   \n2                 29.99       473.797616  253.983333  5.233996   \n3                259.98        38.890873 -328.470000  0.466726   \n4                  3.00       570.606888 -818.450000  0.331839   \n...                 ...              ...         ...       ...   \n499995           259.00        28.284271 -222.000000  0.556886   \n499996           394.96       176.769624  -25.005000  0.954116   \n499997           114.99       413.643325 -309.980000  0.567948   \n499998           399.97        84.845743  289.975000  2.705836   \n499999           179.99       275.764574  -94.975000  0.797908   \n\n        cosine_similarity  was_promo_mean  was_promo_std  was_1rub_mean  \\\n0                0.080332        0.666667       0.577350       0.000000   \n1                0.086801        0.391304       0.499011       0.000000   \n2                0.123457        0.833333       0.408248       0.000000   \n3                0.222222        0.666667       0.577350       0.333333   \n4                0.084444        1.000000       0.000000       0.333333   \n...                   ...             ...            ...            ...   \n499995           0.125000        0.666667       0.577350       0.000000   \n499996           0.147929        0.000000       0.000000       0.000000   \n499997           0.166667        0.000000       0.000000       0.000000   \n499998           0.355372        1.000000       0.000000       0.000000   \n499999           0.166667        0.000000       0.000000       0.000000   \n\n        was_1rub_std  \n0            0.00000  \n1            0.00000  \n2            0.00000  \n3            0.57735  \n4            0.57735  \n...              ...  \n499995       0.00000  \n499996       0.00000  \n499997       0.00000  \n499998       0.00000  \n499999       0.00000  \n\n[500000 rows x 67 columns]",
      "text/html": "<div>\n<style scoped>\n    .dataframe tbody tr th:only-of-type {\n        vertical-align: middle;\n    }\n\n    .dataframe tbody tr th {\n        vertical-align: top;\n    }\n\n    .dataframe thead th {\n        text-align: right;\n    }\n</style>\n<table border=\"1\" class=\"dataframe\">\n  <thead>\n    <tr style=\"text-align: right;\">\n      <th></th>\n      <th>buy_post</th>\n      <th>customer_id</th>\n      <th>receipt_sum_mean</th>\n      <th>receipt_sum_std</th>\n      <th>receipt_count</th>\n      <th>items_receipt_mean</th>\n      <th>items_receipt_mean_std</th>\n      <th>sum_delta_min</th>\n      <th>sum_delta_max</th>\n      <th>sum_delta_mean</th>\n      <th>...</th>\n      <th>second_half_max</th>\n      <th>second_half_min</th>\n      <th>second_half_std</th>\n      <th>diff</th>\n      <th>ratio</th>\n      <th>cosine_similarity</th>\n      <th>was_promo_mean</th>\n      <th>was_promo_std</th>\n      <th>was_1rub_mean</th>\n      <th>was_1rub_std</th>\n    </tr>\n  </thead>\n  <tbody>\n    <tr>\n      <th>0</th>\n      <td>0</td>\n      <td>45006</td>\n      <td>522.613333</td>\n      <td>395.184669</td>\n      <td>3</td>\n      <td>6.333333</td>\n      <td>5.773503</td>\n      <td>-765.91</td>\n      <td>213.99</td>\n      <td>-275.960000</td>\n      <td>...</td>\n      <td>409.97</td>\n      <td>195.98</td>\n      <td>151.313780</td>\n      <td>-658.915000</td>\n      <td>0.314979</td>\n      <td>0.080332</td>\n      <td>0.666667</td>\n      <td>0.577350</td>\n      <td>0.000000</td>\n      <td>0.00000</td>\n    </tr>\n    <tr>\n      <th>1</th>\n      <td>0</td>\n      <td>45303</td>\n      <td>148.943478</td>\n      <td>88.418075</td>\n      <td>23</td>\n      <td>1.260870</td>\n      <td>0.751809</td>\n      <td>-250.00</td>\n      <td>288.99</td>\n      <td>-0.908182</td>\n      <td>...</td>\n      <td>259.99</td>\n      <td>39.99</td>\n      <td>80.267503</td>\n      <td>-2.173106</td>\n      <td>0.985520</td>\n      <td>0.086801</td>\n      <td>0.391304</td>\n      <td>0.499011</td>\n      <td>0.000000</td>\n      <td>0.00000</td>\n    </tr>\n    <tr>\n      <th>2</th>\n      <td>0</td>\n      <td>102488</td>\n      <td>186.978333</td>\n      <td>331.158229</td>\n      <td>6</td>\n      <td>3.000000</td>\n      <td>4.427189</td>\n      <td>-830.94</td>\n      <td>830.94</td>\n      <td>0.200000</td>\n      <td>...</td>\n      <td>860.93</td>\n      <td>29.99</td>\n      <td>473.797616</td>\n      <td>253.983333</td>\n      <td>5.233996</td>\n      <td>0.123457</td>\n      <td>0.833333</td>\n      <td>0.408248</td>\n      <td>0.000000</td>\n      <td>0.00000</td>\n    </tr>\n    <tr>\n      <th>3</th>\n      <td>0</td>\n      <td>119045</td>\n      <td>396.970000</td>\n      <td>191.625756</td>\n      <td>3</td>\n      <td>2.000000</td>\n      <td>1.000000</td>\n      <td>-300.97</td>\n      <td>-55.00</td>\n      <td>-177.985000</td>\n      <td>...</td>\n      <td>314.98</td>\n      <td>259.98</td>\n      <td>38.890873</td>\n      <td>-328.470000</td>\n      <td>0.466726</td>\n      <td>0.222222</td>\n      <td>0.666667</td>\n      <td>0.577350</td>\n      <td>0.333333</td>\n      <td>0.57735</td>\n    </tr>\n    <tr>\n      <th>4</th>\n      <td>0</td>\n      <td>157470</td>\n      <td>679.296667</td>\n      <td>621.355704</td>\n      <td>3</td>\n      <td>5.000000</td>\n      <td>3.605551</td>\n      <td>-806.96</td>\n      <td>-414.97</td>\n      <td>-610.965000</td>\n      <td>...</td>\n      <td>809.96</td>\n      <td>3.00</td>\n      <td>570.606888</td>\n      <td>-818.450000</td>\n      <td>0.331839</td>\n      <td>0.084444</td>\n      <td>1.000000</td>\n      <td>0.000000</td>\n      <td>0.333333</td>\n      <td>0.57735</td>\n    </tr>\n    <tr>\n      <th>...</th>\n      <td>...</td>\n      <td>...</td>\n      <td>...</td>\n      <td>...</td>\n      <td>...</td>\n      <td>...</td>\n      <td>...</td>\n      <td>...</td>\n      <td>...</td>\n      <td>...</td>\n      <td>...</td>\n      <td>...</td>\n      <td>...</td>\n      <td>...</td>\n      <td>...</td>\n      <td>...</td>\n      <td>...</td>\n      <td>...</td>\n      <td>...</td>\n      <td>...</td>\n      <td>...</td>\n    </tr>\n    <tr>\n      <th>499995</th>\n      <td>1</td>\n      <td>46598535</td>\n      <td>353.000000</td>\n      <td>129.722781</td>\n      <td>3</td>\n      <td>5.333333</td>\n      <td>5.859465</td>\n      <td>-242.00</td>\n      <td>40.00</td>\n      <td>-101.000000</td>\n      <td>...</td>\n      <td>299.00</td>\n      <td>259.00</td>\n      <td>28.284271</td>\n      <td>-222.000000</td>\n      <td>0.556886</td>\n      <td>0.125000</td>\n      <td>0.666667</td>\n      <td>0.577350</td>\n      <td>0.000000</td>\n      <td>0.00000</td>\n    </tr>\n    <tr>\n      <th>499996</th>\n      <td>1</td>\n      <td>46609455</td>\n      <td>528.290000</td>\n      <td>125.825938</td>\n      <td>3</td>\n      <td>4.333333</td>\n      <td>0.577350</td>\n      <td>-249.99</td>\n      <td>99.99</td>\n      <td>-75.000000</td>\n      <td>...</td>\n      <td>644.95</td>\n      <td>394.96</td>\n      <td>176.769624</td>\n      <td>-25.005000</td>\n      <td>0.954116</td>\n      <td>0.147929</td>\n      <td>0.000000</td>\n      <td>0.000000</td>\n      <td>0.000000</td>\n      <td>0.00000</td>\n    </tr>\n    <tr>\n      <th>499997</th>\n      <td>1</td>\n      <td>46617009</td>\n      <td>562.470000</td>\n      <td>321.818220</td>\n      <td>4</td>\n      <td>3.000000</td>\n      <td>1.414214</td>\n      <td>-584.98</td>\n      <td>130.01</td>\n      <td>-249.990000</td>\n      <td>...</td>\n      <td>699.97</td>\n      <td>114.99</td>\n      <td>413.643325</td>\n      <td>-309.980000</td>\n      <td>0.567948</td>\n      <td>0.166667</td>\n      <td>0.000000</td>\n      <td>0.000000</td>\n      <td>0.000000</td>\n      <td>0.00000</td>\n    </tr>\n    <tr>\n      <th>499998</th>\n      <td>1</td>\n      <td>46639170</td>\n      <td>363.306667</td>\n      <td>177.842347</td>\n      <td>3</td>\n      <td>3.666667</td>\n      <td>1.527525</td>\n      <td>119.99</td>\n      <td>229.98</td>\n      <td>174.985000</td>\n      <td>...</td>\n      <td>519.96</td>\n      <td>399.97</td>\n      <td>84.845743</td>\n      <td>289.975000</td>\n      <td>2.705836</td>\n      <td>0.355372</td>\n      <td>1.000000</td>\n      <td>0.000000</td>\n      <td>0.000000</td>\n      <td>0.00000</td>\n    </tr>\n    <tr>\n      <th>499999</th>\n      <td>1</td>\n      <td>46654016</td>\n      <td>406.643333</td>\n      <td>202.558140</td>\n      <td>3</td>\n      <td>2.000000</td>\n      <td>1.000000</td>\n      <td>-289.97</td>\n      <td>389.99</td>\n      <td>50.010000</td>\n      <td>...</td>\n      <td>569.98</td>\n      <td>179.99</td>\n      <td>275.764574</td>\n      <td>-94.975000</td>\n      <td>0.797908</td>\n      <td>0.166667</td>\n      <td>0.000000</td>\n      <td>0.000000</td>\n      <td>0.000000</td>\n      <td>0.00000</td>\n    </tr>\n  </tbody>\n</table>\n<p>500000 rows × 67 columns</p>\n</div>"
     },
     "execution_count": 5,
     "metadata": {},
     "output_type": "execute_result"
    }
   ],
   "source": [
    "df_train"
   ],
   "metadata": {
    "collapsed": false
   }
  },
  {
   "cell_type": "code",
   "execution_count": null,
   "outputs": [],
   "source": [],
   "metadata": {
    "collapsed": false
   }
  },
  {
   "cell_type": "code",
   "execution_count": 3,
   "outputs": [],
   "source": [
    "\n",
    "df_train_cut = df_train.iloc[:, :-11]\n",
    "\n",
    "df_origin = pd.read_parquet('train_dataset')\n",
    "df_customer_datediffpoststats = df_origin.groupby(['customer_id']).agg({'date_diff_post': ['mean', 'max', 'min']})\n",
    "df_customer_datediffpoststats.reset_index(inplace=True)\n",
    "df_customer_datediffpoststats.columns = ['customer_id', 'mean', 'max', 'min']\n",
    "df_customer_lastdatediffpost = df_origin.sort_values(by=['startdatetime']).drop_duplicates('customer_id', keep='last')[['customer_id', 'date_diff_post']]\n",
    "df_targets = pd.merge(df_customer_datediffpoststats, df_customer_lastdatediffpost, on='customer_id')\n",
    "\n",
    "df_targets_nonchurn_only = df_targets.dropna()\n",
    "df_with_feats = pd.merge(df_targets_nonchurn_only, df_train_cut, on='customer_id')\n",
    "\n",
    "from sklearn import preprocessing\n",
    "scaler = preprocessing.StandardScaler()\n",
    "df_feats = df_with_feats.iloc[:, 6:]\n",
    "\n",
    "\n",
    "df_feats = scaler.fit_transform(df_feats)"
   ],
   "metadata": {
    "collapsed": false
   }
  },
  {
   "cell_type": "code",
   "execution_count": null,
   "outputs": [],
   "source": [],
   "metadata": {
    "collapsed": false
   }
  },
  {
   "cell_type": "code",
   "execution_count": null,
   "outputs": [],
   "source": [],
   "metadata": {
    "collapsed": false
   }
  },
  {
   "cell_type": "code",
   "execution_count": 2,
   "outputs": [],
   "source": [
    "df_train_v4 = pd.read_parquet('train_with_feats_v4.parquet')"
   ],
   "metadata": {
    "collapsed": false
   }
  },
  {
   "cell_type": "code",
   "execution_count": 3,
   "outputs": [
    {
     "data": {
      "text/plain": "        buy_post  customer_id  receipt_sum_mean  receipt_sum_std  \\\n0              0        45006        522.613333       395.184669   \n1              0        45303        148.943478        88.418075   \n2              0       102488        186.978333       331.158229   \n3              0       119045        396.970000       191.625756   \n4              0       157470        679.296667       621.355704   \n...          ...          ...               ...              ...   \n499995         1     46598535        353.000000       129.722781   \n499996         1     46609455        528.290000       125.825938   \n499997         1     46617009        562.470000       321.818220   \n499998         1     46639170        363.306667       177.842347   \n499999         1     46654016        406.643333       202.558140   \n\n        receipt_count  items_receipt_mean  items_receipt_mean_std  \\\n0                   3            6.333333                5.773503   \n1                  23            1.260870                0.751809   \n2                   6            3.000000                4.427189   \n3                   3            2.000000                1.000000   \n4                   3            5.000000                3.605551   \n...               ...                 ...                     ...   \n499995              3            5.333333                5.859465   \n499996              3            4.333333                0.577350   \n499997              4            3.000000                1.414214   \n499998              3            3.666667                1.527525   \n499999              3            2.000000                1.000000   \n\n        sum_delta_min  sum_delta_max  sum_delta_mean  ...  is_sauce_mean  \\\n0             -765.91         213.99     -275.960000  ...       0.052632   \n1             -250.00         288.99       -0.908182  ...       0.241379   \n2             -830.94         830.94        0.200000  ...       0.166667   \n3             -300.97         -55.00     -177.985000  ...       0.000000   \n4             -806.96        -414.97     -610.965000  ...       0.333333   \n...               ...            ...             ...  ...            ...   \n499995        -242.00          40.00     -101.000000  ...       0.000000   \n499996        -249.99          99.99      -75.000000  ...       0.230769   \n499997        -584.98         130.01     -249.990000  ...       0.166667   \n499998         119.99         229.98      174.985000  ...       0.181818   \n499999        -289.97         389.99       50.010000  ...       0.000000   \n\n        is_sauce_std  with_toilet_std  with_toilet_mean  food_court_std  \\\n0           0.229416         0.374634          0.157895        0.374634   \n1           0.435494         0.000000          1.000000        0.000000   \n2           0.383482         0.383482          0.833333        0.383482   \n3           0.000000         0.000000          1.000000        0.000000   \n4           0.487950         0.000000          0.000000        0.000000   \n...              ...              ...               ...             ...   \n499995      0.000000         0.000000          1.000000        0.000000   \n499996      0.438529         0.000000          1.000000        0.000000   \n499997      0.389249         0.000000          1.000000        0.000000   \n499998      0.404520         0.000000          0.000000        0.000000   \n499999      0.000000         0.000000          1.000000        0.000000   \n\n        food_court_mean  countable_std  countable_mean  external_area_std  \\\n0              0.842105       0.418854        0.210526           0.000000   \n1              0.000000       0.000000        0.000000           0.000000   \n2              0.166667       0.323381        0.111111           0.427793   \n3              1.000000       0.516398        0.333333           0.000000   \n4              1.000000       0.000000        0.000000           0.000000   \n...                 ...            ...             ...                ...   \n499995         0.000000       0.341565        0.125000           0.000000   \n499996         0.000000       0.518875        0.461538           0.000000   \n499997         0.000000       0.389249        0.166667           0.000000   \n499998         1.000000       0.404520        0.181818           0.000000   \n499999         0.000000       0.408248        0.166667           0.000000   \n\n        external_area_mean  \n0                 0.000000  \n1                 0.000000  \n2                 0.777778  \n3                 0.000000  \n4                 0.000000  \n...                    ...  \n499995            1.000000  \n499996            1.000000  \n499997            0.000000  \n499998            0.000000  \n499999            0.000000  \n\n[500000 rows x 110 columns]",
      "text/html": "<div>\n<style scoped>\n    .dataframe tbody tr th:only-of-type {\n        vertical-align: middle;\n    }\n\n    .dataframe tbody tr th {\n        vertical-align: top;\n    }\n\n    .dataframe thead th {\n        text-align: right;\n    }\n</style>\n<table border=\"1\" class=\"dataframe\">\n  <thead>\n    <tr style=\"text-align: right;\">\n      <th></th>\n      <th>buy_post</th>\n      <th>customer_id</th>\n      <th>receipt_sum_mean</th>\n      <th>receipt_sum_std</th>\n      <th>receipt_count</th>\n      <th>items_receipt_mean</th>\n      <th>items_receipt_mean_std</th>\n      <th>sum_delta_min</th>\n      <th>sum_delta_max</th>\n      <th>sum_delta_mean</th>\n      <th>...</th>\n      <th>is_sauce_mean</th>\n      <th>is_sauce_std</th>\n      <th>with_toilet_std</th>\n      <th>with_toilet_mean</th>\n      <th>food_court_std</th>\n      <th>food_court_mean</th>\n      <th>countable_std</th>\n      <th>countable_mean</th>\n      <th>external_area_std</th>\n      <th>external_area_mean</th>\n    </tr>\n  </thead>\n  <tbody>\n    <tr>\n      <th>0</th>\n      <td>0</td>\n      <td>45006</td>\n      <td>522.613333</td>\n      <td>395.184669</td>\n      <td>3</td>\n      <td>6.333333</td>\n      <td>5.773503</td>\n      <td>-765.91</td>\n      <td>213.99</td>\n      <td>-275.960000</td>\n      <td>...</td>\n      <td>0.052632</td>\n      <td>0.229416</td>\n      <td>0.374634</td>\n      <td>0.157895</td>\n      <td>0.374634</td>\n      <td>0.842105</td>\n      <td>0.418854</td>\n      <td>0.210526</td>\n      <td>0.000000</td>\n      <td>0.000000</td>\n    </tr>\n    <tr>\n      <th>1</th>\n      <td>0</td>\n      <td>45303</td>\n      <td>148.943478</td>\n      <td>88.418075</td>\n      <td>23</td>\n      <td>1.260870</td>\n      <td>0.751809</td>\n      <td>-250.00</td>\n      <td>288.99</td>\n      <td>-0.908182</td>\n      <td>...</td>\n      <td>0.241379</td>\n      <td>0.435494</td>\n      <td>0.000000</td>\n      <td>1.000000</td>\n      <td>0.000000</td>\n      <td>0.000000</td>\n      <td>0.000000</td>\n      <td>0.000000</td>\n      <td>0.000000</td>\n      <td>0.000000</td>\n    </tr>\n    <tr>\n      <th>2</th>\n      <td>0</td>\n      <td>102488</td>\n      <td>186.978333</td>\n      <td>331.158229</td>\n      <td>6</td>\n      <td>3.000000</td>\n      <td>4.427189</td>\n      <td>-830.94</td>\n      <td>830.94</td>\n      <td>0.200000</td>\n      <td>...</td>\n      <td>0.166667</td>\n      <td>0.383482</td>\n      <td>0.383482</td>\n      <td>0.833333</td>\n      <td>0.383482</td>\n      <td>0.166667</td>\n      <td>0.323381</td>\n      <td>0.111111</td>\n      <td>0.427793</td>\n      <td>0.777778</td>\n    </tr>\n    <tr>\n      <th>3</th>\n      <td>0</td>\n      <td>119045</td>\n      <td>396.970000</td>\n      <td>191.625756</td>\n      <td>3</td>\n      <td>2.000000</td>\n      <td>1.000000</td>\n      <td>-300.97</td>\n      <td>-55.00</td>\n      <td>-177.985000</td>\n      <td>...</td>\n      <td>0.000000</td>\n      <td>0.000000</td>\n      <td>0.000000</td>\n      <td>1.000000</td>\n      <td>0.000000</td>\n      <td>1.000000</td>\n      <td>0.516398</td>\n      <td>0.333333</td>\n      <td>0.000000</td>\n      <td>0.000000</td>\n    </tr>\n    <tr>\n      <th>4</th>\n      <td>0</td>\n      <td>157470</td>\n      <td>679.296667</td>\n      <td>621.355704</td>\n      <td>3</td>\n      <td>5.000000</td>\n      <td>3.605551</td>\n      <td>-806.96</td>\n      <td>-414.97</td>\n      <td>-610.965000</td>\n      <td>...</td>\n      <td>0.333333</td>\n      <td>0.487950</td>\n      <td>0.000000</td>\n      <td>0.000000</td>\n      <td>0.000000</td>\n      <td>1.000000</td>\n      <td>0.000000</td>\n      <td>0.000000</td>\n      <td>0.000000</td>\n      <td>0.000000</td>\n    </tr>\n    <tr>\n      <th>...</th>\n      <td>...</td>\n      <td>...</td>\n      <td>...</td>\n      <td>...</td>\n      <td>...</td>\n      <td>...</td>\n      <td>...</td>\n      <td>...</td>\n      <td>...</td>\n      <td>...</td>\n      <td>...</td>\n      <td>...</td>\n      <td>...</td>\n      <td>...</td>\n      <td>...</td>\n      <td>...</td>\n      <td>...</td>\n      <td>...</td>\n      <td>...</td>\n      <td>...</td>\n      <td>...</td>\n    </tr>\n    <tr>\n      <th>499995</th>\n      <td>1</td>\n      <td>46598535</td>\n      <td>353.000000</td>\n      <td>129.722781</td>\n      <td>3</td>\n      <td>5.333333</td>\n      <td>5.859465</td>\n      <td>-242.00</td>\n      <td>40.00</td>\n      <td>-101.000000</td>\n      <td>...</td>\n      <td>0.000000</td>\n      <td>0.000000</td>\n      <td>0.000000</td>\n      <td>1.000000</td>\n      <td>0.000000</td>\n      <td>0.000000</td>\n      <td>0.341565</td>\n      <td>0.125000</td>\n      <td>0.000000</td>\n      <td>1.000000</td>\n    </tr>\n    <tr>\n      <th>499996</th>\n      <td>1</td>\n      <td>46609455</td>\n      <td>528.290000</td>\n      <td>125.825938</td>\n      <td>3</td>\n      <td>4.333333</td>\n      <td>0.577350</td>\n      <td>-249.99</td>\n      <td>99.99</td>\n      <td>-75.000000</td>\n      <td>...</td>\n      <td>0.230769</td>\n      <td>0.438529</td>\n      <td>0.000000</td>\n      <td>1.000000</td>\n      <td>0.000000</td>\n      <td>0.000000</td>\n      <td>0.518875</td>\n      <td>0.461538</td>\n      <td>0.000000</td>\n      <td>1.000000</td>\n    </tr>\n    <tr>\n      <th>499997</th>\n      <td>1</td>\n      <td>46617009</td>\n      <td>562.470000</td>\n      <td>321.818220</td>\n      <td>4</td>\n      <td>3.000000</td>\n      <td>1.414214</td>\n      <td>-584.98</td>\n      <td>130.01</td>\n      <td>-249.990000</td>\n      <td>...</td>\n      <td>0.166667</td>\n      <td>0.389249</td>\n      <td>0.000000</td>\n      <td>1.000000</td>\n      <td>0.000000</td>\n      <td>0.000000</td>\n      <td>0.389249</td>\n      <td>0.166667</td>\n      <td>0.000000</td>\n      <td>0.000000</td>\n    </tr>\n    <tr>\n      <th>499998</th>\n      <td>1</td>\n      <td>46639170</td>\n      <td>363.306667</td>\n      <td>177.842347</td>\n      <td>3</td>\n      <td>3.666667</td>\n      <td>1.527525</td>\n      <td>119.99</td>\n      <td>229.98</td>\n      <td>174.985000</td>\n      <td>...</td>\n      <td>0.181818</td>\n      <td>0.404520</td>\n      <td>0.000000</td>\n      <td>0.000000</td>\n      <td>0.000000</td>\n      <td>1.000000</td>\n      <td>0.404520</td>\n      <td>0.181818</td>\n      <td>0.000000</td>\n      <td>0.000000</td>\n    </tr>\n    <tr>\n      <th>499999</th>\n      <td>1</td>\n      <td>46654016</td>\n      <td>406.643333</td>\n      <td>202.558140</td>\n      <td>3</td>\n      <td>2.000000</td>\n      <td>1.000000</td>\n      <td>-289.97</td>\n      <td>389.99</td>\n      <td>50.010000</td>\n      <td>...</td>\n      <td>0.000000</td>\n      <td>0.000000</td>\n      <td>0.000000</td>\n      <td>1.000000</td>\n      <td>0.000000</td>\n      <td>0.000000</td>\n      <td>0.408248</td>\n      <td>0.166667</td>\n      <td>0.000000</td>\n      <td>0.000000</td>\n    </tr>\n  </tbody>\n</table>\n<p>500000 rows × 110 columns</p>\n</div>"
     },
     "execution_count": 3,
     "metadata": {},
     "output_type": "execute_result"
    }
   ],
   "source": [
    "df_train_v4"
   ],
   "metadata": {
    "collapsed": false
   }
  },
  {
   "cell_type": "code",
   "execution_count": 4,
   "outputs": [],
   "source": [
    "df_original_train = pd.read_parquet(\"train_dataset_hackaton2023_train.gzip\")\n",
    "df_targets_raw = df_original_train.sort_values(by=['startdatetime']).drop_duplicates('customer_id', keep='last')[['customer_id', 'date_diff_post']]"
   ],
   "metadata": {
    "collapsed": false
   }
  },
  {
   "cell_type": "code",
   "execution_count": 5,
   "outputs": [],
   "source": [
    "df_targets_raw.to_parquet('train_targets.parquet')"
   ],
   "metadata": {
    "collapsed": false
   }
  },
  {
   "cell_type": "code",
   "execution_count": 6,
   "outputs": [
    {
     "data": {
      "text/plain": "          customer_id  date_diff_post\n15701653     24774791             NaN\n5846902       9876699             NaN\n21353897     34241371             NaN\n21130854     33583919             NaN\n4712985       8340331             NaN\n...               ...             ...\n24253993     46198579            44.0\n23643988     41586357            23.0\n13373504     22436078             5.0\n20321652     30984546             3.0\n24110549     44695278             5.0\n\n[500000 rows x 2 columns]",
      "text/html": "<div>\n<style scoped>\n    .dataframe tbody tr th:only-of-type {\n        vertical-align: middle;\n    }\n\n    .dataframe tbody tr th {\n        vertical-align: top;\n    }\n\n    .dataframe thead th {\n        text-align: right;\n    }\n</style>\n<table border=\"1\" class=\"dataframe\">\n  <thead>\n    <tr style=\"text-align: right;\">\n      <th></th>\n      <th>customer_id</th>\n      <th>date_diff_post</th>\n    </tr>\n  </thead>\n  <tbody>\n    <tr>\n      <th>15701653</th>\n      <td>24774791</td>\n      <td>NaN</td>\n    </tr>\n    <tr>\n      <th>5846902</th>\n      <td>9876699</td>\n      <td>NaN</td>\n    </tr>\n    <tr>\n      <th>21353897</th>\n      <td>34241371</td>\n      <td>NaN</td>\n    </tr>\n    <tr>\n      <th>21130854</th>\n      <td>33583919</td>\n      <td>NaN</td>\n    </tr>\n    <tr>\n      <th>4712985</th>\n      <td>8340331</td>\n      <td>NaN</td>\n    </tr>\n    <tr>\n      <th>...</th>\n      <td>...</td>\n      <td>...</td>\n    </tr>\n    <tr>\n      <th>24253993</th>\n      <td>46198579</td>\n      <td>44.0</td>\n    </tr>\n    <tr>\n      <th>23643988</th>\n      <td>41586357</td>\n      <td>23.0</td>\n    </tr>\n    <tr>\n      <th>13373504</th>\n      <td>22436078</td>\n      <td>5.0</td>\n    </tr>\n    <tr>\n      <th>20321652</th>\n      <td>30984546</td>\n      <td>3.0</td>\n    </tr>\n    <tr>\n      <th>24110549</th>\n      <td>44695278</td>\n      <td>5.0</td>\n    </tr>\n  </tbody>\n</table>\n<p>500000 rows × 2 columns</p>\n</div>"
     },
     "execution_count": 6,
     "metadata": {},
     "output_type": "execute_result"
    }
   ],
   "source": [
    "df_targets_raw"
   ],
   "metadata": {
    "collapsed": false
   }
  },
  {
   "cell_type": "code",
   "execution_count": 7,
   "outputs": [],
   "source": [
    "df_train_feats = df_train_v4.drop(columns=['buy_post', 'customer_id'])"
   ],
   "metadata": {
    "collapsed": false
   }
  },
  {
   "cell_type": "code",
   "execution_count": 17,
   "outputs": [],
   "source": [
    "df_train_feats_non_churn = df_train_v4[df_train_v4.buy_post == 1].drop(columns=['buy_post', 'customer_id'])\n",
    "df_targets_non_churn = df_targets_raw.dropna().date_diff_post"
   ],
   "metadata": {
    "collapsed": false
   }
  },
  {
   "cell_type": "code",
   "execution_count": 26,
   "outputs": [],
   "source": [
    "df_all = pd.merge(df_train_v4, df_targets_raw, on=['customer_id'])\n",
    "df_all_dropna = df_all.dropna()\n",
    "df_train_feats_non_churn = df_all_dropna.drop(columns=['buy_post', 'customer_id', 'date_diff_post'])\n",
    "df_targets_non_churn = df_all_dropna.date_diff_post"
   ],
   "metadata": {
    "collapsed": false
   }
  },
  {
   "cell_type": "code",
   "execution_count": 27,
   "outputs": [],
   "source": [
    "from sklearn.linear_model import LogisticRegression\n",
    "from sklearn.pipeline import make_pipeline\n",
    "from sklearn.preprocessing import StandardScaler"
   ],
   "metadata": {
    "collapsed": false
   }
  },
  {
   "cell_type": "code",
   "execution_count": 28,
   "outputs": [
    {
     "name": "stderr",
     "output_type": "stream",
     "text": [
      "C:\\Users\\rakhmerov\\.virtualenvs\\pythonProject3\\Lib\\site-packages\\sklearn\\linear_model\\_logistic.py:460: ConvergenceWarning: lbfgs failed to converge (status=1):\n",
      "STOP: TOTAL NO. of ITERATIONS REACHED LIMIT.\n",
      "\n",
      "Increase the number of iterations (max_iter) or scale the data as shown in:\n",
      "    https://scikit-learn.org/stable/modules/preprocessing.html\n",
      "Please also refer to the documentation for alternative solver options:\n",
      "    https://scikit-learn.org/stable/modules/linear_model.html#logistic-regression\n",
      "  n_iter_i = _check_optimize_result(\n"
     ]
    },
    {
     "data": {
      "text/plain": "Pipeline(steps=[('standardscaler', StandardScaler()),\n                ('logisticregression', LogisticRegression())])",
      "text/html": "<style>#sk-container-id-1 {color: black;}#sk-container-id-1 pre{padding: 0;}#sk-container-id-1 div.sk-toggleable {background-color: white;}#sk-container-id-1 label.sk-toggleable__label {cursor: pointer;display: block;width: 100%;margin-bottom: 0;padding: 0.3em;box-sizing: border-box;text-align: center;}#sk-container-id-1 label.sk-toggleable__label-arrow:before {content: \"▸\";float: left;margin-right: 0.25em;color: #696969;}#sk-container-id-1 label.sk-toggleable__label-arrow:hover:before {color: black;}#sk-container-id-1 div.sk-estimator:hover label.sk-toggleable__label-arrow:before {color: black;}#sk-container-id-1 div.sk-toggleable__content {max-height: 0;max-width: 0;overflow: hidden;text-align: left;background-color: #f0f8ff;}#sk-container-id-1 div.sk-toggleable__content pre {margin: 0.2em;color: black;border-radius: 0.25em;background-color: #f0f8ff;}#sk-container-id-1 input.sk-toggleable__control:checked~div.sk-toggleable__content {max-height: 200px;max-width: 100%;overflow: auto;}#sk-container-id-1 input.sk-toggleable__control:checked~label.sk-toggleable__label-arrow:before {content: \"▾\";}#sk-container-id-1 div.sk-estimator input.sk-toggleable__control:checked~label.sk-toggleable__label {background-color: #d4ebff;}#sk-container-id-1 div.sk-label input.sk-toggleable__control:checked~label.sk-toggleable__label {background-color: #d4ebff;}#sk-container-id-1 input.sk-hidden--visually {border: 0;clip: rect(1px 1px 1px 1px);clip: rect(1px, 1px, 1px, 1px);height: 1px;margin: -1px;overflow: hidden;padding: 0;position: absolute;width: 1px;}#sk-container-id-1 div.sk-estimator {font-family: monospace;background-color: #f0f8ff;border: 1px dotted black;border-radius: 0.25em;box-sizing: border-box;margin-bottom: 0.5em;}#sk-container-id-1 div.sk-estimator:hover {background-color: #d4ebff;}#sk-container-id-1 div.sk-parallel-item::after {content: \"\";width: 100%;border-bottom: 1px solid gray;flex-grow: 1;}#sk-container-id-1 div.sk-label:hover label.sk-toggleable__label {background-color: #d4ebff;}#sk-container-id-1 div.sk-serial::before {content: \"\";position: absolute;border-left: 1px solid gray;box-sizing: border-box;top: 0;bottom: 0;left: 50%;z-index: 0;}#sk-container-id-1 div.sk-serial {display: flex;flex-direction: column;align-items: center;background-color: white;padding-right: 0.2em;padding-left: 0.2em;position: relative;}#sk-container-id-1 div.sk-item {position: relative;z-index: 1;}#sk-container-id-1 div.sk-parallel {display: flex;align-items: stretch;justify-content: center;background-color: white;position: relative;}#sk-container-id-1 div.sk-item::before, #sk-container-id-1 div.sk-parallel-item::before {content: \"\";position: absolute;border-left: 1px solid gray;box-sizing: border-box;top: 0;bottom: 0;left: 50%;z-index: -1;}#sk-container-id-1 div.sk-parallel-item {display: flex;flex-direction: column;z-index: 1;position: relative;background-color: white;}#sk-container-id-1 div.sk-parallel-item:first-child::after {align-self: flex-end;width: 50%;}#sk-container-id-1 div.sk-parallel-item:last-child::after {align-self: flex-start;width: 50%;}#sk-container-id-1 div.sk-parallel-item:only-child::after {width: 0;}#sk-container-id-1 div.sk-dashed-wrapped {border: 1px dashed gray;margin: 0 0.4em 0.5em 0.4em;box-sizing: border-box;padding-bottom: 0.4em;background-color: white;}#sk-container-id-1 div.sk-label label {font-family: monospace;font-weight: bold;display: inline-block;line-height: 1.2em;}#sk-container-id-1 div.sk-label-container {text-align: center;}#sk-container-id-1 div.sk-container {/* jupyter's `normalize.less` sets `[hidden] { display: none; }` but bootstrap.min.css set `[hidden] { display: none !important; }` so we also need the `!important` here to be able to override the default hidden behavior on the sphinx rendered scikit-learn.org. See: https://github.com/scikit-learn/scikit-learn/issues/21755 */display: inline-block !important;position: relative;}#sk-container-id-1 div.sk-text-repr-fallback {display: none;}</style><div id=\"sk-container-id-1\" class=\"sk-top-container\"><div class=\"sk-text-repr-fallback\"><pre>Pipeline(steps=[(&#x27;standardscaler&#x27;, StandardScaler()),\n                (&#x27;logisticregression&#x27;, LogisticRegression())])</pre><b>In a Jupyter environment, please rerun this cell to show the HTML representation or trust the notebook. <br />On GitHub, the HTML representation is unable to render, please try loading this page with nbviewer.org.</b></div><div class=\"sk-container\" hidden><div class=\"sk-item sk-dashed-wrapped\"><div class=\"sk-label-container\"><div class=\"sk-label sk-toggleable\"><input class=\"sk-toggleable__control sk-hidden--visually\" id=\"sk-estimator-id-1\" type=\"checkbox\" ><label for=\"sk-estimator-id-1\" class=\"sk-toggleable__label sk-toggleable__label-arrow\">Pipeline</label><div class=\"sk-toggleable__content\"><pre>Pipeline(steps=[(&#x27;standardscaler&#x27;, StandardScaler()),\n                (&#x27;logisticregression&#x27;, LogisticRegression())])</pre></div></div></div><div class=\"sk-serial\"><div class=\"sk-item\"><div class=\"sk-estimator sk-toggleable\"><input class=\"sk-toggleable__control sk-hidden--visually\" id=\"sk-estimator-id-2\" type=\"checkbox\" ><label for=\"sk-estimator-id-2\" class=\"sk-toggleable__label sk-toggleable__label-arrow\">StandardScaler</label><div class=\"sk-toggleable__content\"><pre>StandardScaler()</pre></div></div></div><div class=\"sk-item\"><div class=\"sk-estimator sk-toggleable\"><input class=\"sk-toggleable__control sk-hidden--visually\" id=\"sk-estimator-id-3\" type=\"checkbox\" ><label for=\"sk-estimator-id-3\" class=\"sk-toggleable__label sk-toggleable__label-arrow\">LogisticRegression</label><div class=\"sk-toggleable__content\"><pre>LogisticRegression()</pre></div></div></div></div></div></div></div>"
     },
     "execution_count": 28,
     "metadata": {},
     "output_type": "execute_result"
    }
   ],
   "source": [
    "pipeline = make_pipeline(StandardScaler(), LogisticRegression())\n",
    "pipeline.fit(df_train_feats_non_churn, df_targets_non_churn)"
   ],
   "metadata": {
    "collapsed": false
   }
  },
  {
   "cell_type": "code",
   "execution_count": null,
   "outputs": [],
   "source": [
    "from sklearn.model_selection import train_test_split\n",
    "from sklearn.metrics import mean_squared_error\n",
    "X_train_v4, X_val_v4, y_train_v4, y_val_v4 = train_test_split(df_train_feats_non_churn, df_targets_non_churn, test_size=0.2,\n",
    "                                                  random_state=42)\n",
    "\n",
    "\n",
    "np.sqrt(mean_squared_error(y_))"
   ],
   "metadata": {
    "collapsed": false
   }
  },
  {
   "cell_type": "code",
   "execution_count": null,
   "outputs": [],
   "source": [],
   "metadata": {
    "collapsed": false
   }
  },
  {
   "cell_type": "code",
   "execution_count": 29,
   "outputs": [],
   "source": [
    "df_5 = pd.read_parquet('train_with_feats_v5.parquet')"
   ],
   "metadata": {
    "collapsed": false
   }
  },
  {
   "cell_type": "code",
   "execution_count": 30,
   "outputs": [
    {
     "data": {
      "text/plain": "        buy_post  customer_id  receipt_sum_mean  receipt_sum_std  \\\n0              0        45006        522.613333       395.184669   \n1              0        45303        148.943478        88.418075   \n2              0       102488        186.978333       331.158229   \n3              0       119045        396.970000       191.625756   \n4              0       157470        679.296667       621.355704   \n...          ...          ...               ...              ...   \n499995         1     46598535        353.000000       129.722781   \n499996         1     46609455        528.290000       125.825938   \n499997         1     46617009        562.470000       321.818220   \n499998         1     46639170        363.306667       177.842347   \n499999         1     46654016        406.643333       202.558140   \n\n        receipt_count  items_receipt_mean  items_receipt_mean_std  \\\n0                   3            6.333333                5.773503   \n1                  23            1.260870                0.751809   \n2                   6            3.000000                4.427189   \n3                   3            2.000000                1.000000   \n4                   3            5.000000                3.605551   \n...               ...                 ...                     ...   \n499995              3            5.333333                5.859465   \n499996              3            4.333333                0.577350   \n499997              4            3.000000                1.414214   \n499998              3            3.666667                1.527525   \n499999              3            2.000000                1.000000   \n\n        sum_delta_min  sum_delta_max  sum_delta_mean  ...  countable_mean  \\\n0             -765.91         213.99     -275.960000  ...        0.210526   \n1             -250.00         288.99       -0.908182  ...        0.000000   \n2             -830.94         830.94        0.200000  ...        0.111111   \n3             -300.97         -55.00     -177.985000  ...        0.333333   \n4             -806.96        -414.97     -610.965000  ...        0.000000   \n...               ...            ...             ...  ...             ...   \n499995        -242.00          40.00     -101.000000  ...        0.125000   \n499996        -249.99          99.99      -75.000000  ...        0.461538   \n499997        -584.98         130.01     -249.990000  ...        0.166667   \n499998         119.99         229.98      174.985000  ...        0.181818   \n499999        -289.97         389.99       50.010000  ...        0.166667   \n\n        external_area_std  external_area_mean  Friday_perc  Monday_perc  \\\n0                0.000000            0.000000         0.00         0.00   \n1                0.000000            0.000000         0.13         0.26   \n2                0.427793            0.777778         0.33         0.00   \n3                0.000000            0.000000         0.00         0.00   \n4                0.000000            0.000000         0.00         0.00   \n...                   ...                 ...          ...          ...   \n499995           0.000000            1.000000         0.00         0.67   \n499996           0.000000            1.000000         0.00         0.33   \n499997           0.000000            0.000000         0.00         1.00   \n499998           0.000000            0.000000         0.00         1.00   \n499999           0.000000            0.000000         0.00         0.00   \n\n        Saturday_perc  Sunday_perc  Thursday_perc  Tuesday_perc  \\\n0                0.00         0.00           0.67          0.00   \n1                0.09         0.09           0.13          0.13   \n2                0.33         0.00           0.00          0.17   \n3                0.00         1.00           0.00          0.00   \n4                0.00         0.00           0.00          0.00   \n...               ...          ...            ...           ...   \n499995           0.00         0.33           0.00          0.00   \n499996           0.00         0.33           0.00          0.33   \n499997           0.00         0.00           0.00          0.00   \n499998           0.00         0.00           0.00          0.00   \n499999           0.00         0.00           0.00          1.00   \n\n        Wednesday_perc  \n0                 0.33  \n1                 0.17  \n2                 0.17  \n3                 0.00  \n4                 1.00  \n...                ...  \n499995            0.00  \n499996            0.00  \n499997            0.00  \n499998            0.00  \n499999            0.00  \n\n[500000 rows x 117 columns]",
      "text/html": "<div>\n<style scoped>\n    .dataframe tbody tr th:only-of-type {\n        vertical-align: middle;\n    }\n\n    .dataframe tbody tr th {\n        vertical-align: top;\n    }\n\n    .dataframe thead th {\n        text-align: right;\n    }\n</style>\n<table border=\"1\" class=\"dataframe\">\n  <thead>\n    <tr style=\"text-align: right;\">\n      <th></th>\n      <th>buy_post</th>\n      <th>customer_id</th>\n      <th>receipt_sum_mean</th>\n      <th>receipt_sum_std</th>\n      <th>receipt_count</th>\n      <th>items_receipt_mean</th>\n      <th>items_receipt_mean_std</th>\n      <th>sum_delta_min</th>\n      <th>sum_delta_max</th>\n      <th>sum_delta_mean</th>\n      <th>...</th>\n      <th>countable_mean</th>\n      <th>external_area_std</th>\n      <th>external_area_mean</th>\n      <th>Friday_perc</th>\n      <th>Monday_perc</th>\n      <th>Saturday_perc</th>\n      <th>Sunday_perc</th>\n      <th>Thursday_perc</th>\n      <th>Tuesday_perc</th>\n      <th>Wednesday_perc</th>\n    </tr>\n  </thead>\n  <tbody>\n    <tr>\n      <th>0</th>\n      <td>0</td>\n      <td>45006</td>\n      <td>522.613333</td>\n      <td>395.184669</td>\n      <td>3</td>\n      <td>6.333333</td>\n      <td>5.773503</td>\n      <td>-765.91</td>\n      <td>213.99</td>\n      <td>-275.960000</td>\n      <td>...</td>\n      <td>0.210526</td>\n      <td>0.000000</td>\n      <td>0.000000</td>\n      <td>0.00</td>\n      <td>0.00</td>\n      <td>0.00</td>\n      <td>0.00</td>\n      <td>0.67</td>\n      <td>0.00</td>\n      <td>0.33</td>\n    </tr>\n    <tr>\n      <th>1</th>\n      <td>0</td>\n      <td>45303</td>\n      <td>148.943478</td>\n      <td>88.418075</td>\n      <td>23</td>\n      <td>1.260870</td>\n      <td>0.751809</td>\n      <td>-250.00</td>\n      <td>288.99</td>\n      <td>-0.908182</td>\n      <td>...</td>\n      <td>0.000000</td>\n      <td>0.000000</td>\n      <td>0.000000</td>\n      <td>0.13</td>\n      <td>0.26</td>\n      <td>0.09</td>\n      <td>0.09</td>\n      <td>0.13</td>\n      <td>0.13</td>\n      <td>0.17</td>\n    </tr>\n    <tr>\n      <th>2</th>\n      <td>0</td>\n      <td>102488</td>\n      <td>186.978333</td>\n      <td>331.158229</td>\n      <td>6</td>\n      <td>3.000000</td>\n      <td>4.427189</td>\n      <td>-830.94</td>\n      <td>830.94</td>\n      <td>0.200000</td>\n      <td>...</td>\n      <td>0.111111</td>\n      <td>0.427793</td>\n      <td>0.777778</td>\n      <td>0.33</td>\n      <td>0.00</td>\n      <td>0.33</td>\n      <td>0.00</td>\n      <td>0.00</td>\n      <td>0.17</td>\n      <td>0.17</td>\n    </tr>\n    <tr>\n      <th>3</th>\n      <td>0</td>\n      <td>119045</td>\n      <td>396.970000</td>\n      <td>191.625756</td>\n      <td>3</td>\n      <td>2.000000</td>\n      <td>1.000000</td>\n      <td>-300.97</td>\n      <td>-55.00</td>\n      <td>-177.985000</td>\n      <td>...</td>\n      <td>0.333333</td>\n      <td>0.000000</td>\n      <td>0.000000</td>\n      <td>0.00</td>\n      <td>0.00</td>\n      <td>0.00</td>\n      <td>1.00</td>\n      <td>0.00</td>\n      <td>0.00</td>\n      <td>0.00</td>\n    </tr>\n    <tr>\n      <th>4</th>\n      <td>0</td>\n      <td>157470</td>\n      <td>679.296667</td>\n      <td>621.355704</td>\n      <td>3</td>\n      <td>5.000000</td>\n      <td>3.605551</td>\n      <td>-806.96</td>\n      <td>-414.97</td>\n      <td>-610.965000</td>\n      <td>...</td>\n      <td>0.000000</td>\n      <td>0.000000</td>\n      <td>0.000000</td>\n      <td>0.00</td>\n      <td>0.00</td>\n      <td>0.00</td>\n      <td>0.00</td>\n      <td>0.00</td>\n      <td>0.00</td>\n      <td>1.00</td>\n    </tr>\n    <tr>\n      <th>...</th>\n      <td>...</td>\n      <td>...</td>\n      <td>...</td>\n      <td>...</td>\n      <td>...</td>\n      <td>...</td>\n      <td>...</td>\n      <td>...</td>\n      <td>...</td>\n      <td>...</td>\n      <td>...</td>\n      <td>...</td>\n      <td>...</td>\n      <td>...</td>\n      <td>...</td>\n      <td>...</td>\n      <td>...</td>\n      <td>...</td>\n      <td>...</td>\n      <td>...</td>\n      <td>...</td>\n    </tr>\n    <tr>\n      <th>499995</th>\n      <td>1</td>\n      <td>46598535</td>\n      <td>353.000000</td>\n      <td>129.722781</td>\n      <td>3</td>\n      <td>5.333333</td>\n      <td>5.859465</td>\n      <td>-242.00</td>\n      <td>40.00</td>\n      <td>-101.000000</td>\n      <td>...</td>\n      <td>0.125000</td>\n      <td>0.000000</td>\n      <td>1.000000</td>\n      <td>0.00</td>\n      <td>0.67</td>\n      <td>0.00</td>\n      <td>0.33</td>\n      <td>0.00</td>\n      <td>0.00</td>\n      <td>0.00</td>\n    </tr>\n    <tr>\n      <th>499996</th>\n      <td>1</td>\n      <td>46609455</td>\n      <td>528.290000</td>\n      <td>125.825938</td>\n      <td>3</td>\n      <td>4.333333</td>\n      <td>0.577350</td>\n      <td>-249.99</td>\n      <td>99.99</td>\n      <td>-75.000000</td>\n      <td>...</td>\n      <td>0.461538</td>\n      <td>0.000000</td>\n      <td>1.000000</td>\n      <td>0.00</td>\n      <td>0.33</td>\n      <td>0.00</td>\n      <td>0.33</td>\n      <td>0.00</td>\n      <td>0.33</td>\n      <td>0.00</td>\n    </tr>\n    <tr>\n      <th>499997</th>\n      <td>1</td>\n      <td>46617009</td>\n      <td>562.470000</td>\n      <td>321.818220</td>\n      <td>4</td>\n      <td>3.000000</td>\n      <td>1.414214</td>\n      <td>-584.98</td>\n      <td>130.01</td>\n      <td>-249.990000</td>\n      <td>...</td>\n      <td>0.166667</td>\n      <td>0.000000</td>\n      <td>0.000000</td>\n      <td>0.00</td>\n      <td>1.00</td>\n      <td>0.00</td>\n      <td>0.00</td>\n      <td>0.00</td>\n      <td>0.00</td>\n      <td>0.00</td>\n    </tr>\n    <tr>\n      <th>499998</th>\n      <td>1</td>\n      <td>46639170</td>\n      <td>363.306667</td>\n      <td>177.842347</td>\n      <td>3</td>\n      <td>3.666667</td>\n      <td>1.527525</td>\n      <td>119.99</td>\n      <td>229.98</td>\n      <td>174.985000</td>\n      <td>...</td>\n      <td>0.181818</td>\n      <td>0.000000</td>\n      <td>0.000000</td>\n      <td>0.00</td>\n      <td>1.00</td>\n      <td>0.00</td>\n      <td>0.00</td>\n      <td>0.00</td>\n      <td>0.00</td>\n      <td>0.00</td>\n    </tr>\n    <tr>\n      <th>499999</th>\n      <td>1</td>\n      <td>46654016</td>\n      <td>406.643333</td>\n      <td>202.558140</td>\n      <td>3</td>\n      <td>2.000000</td>\n      <td>1.000000</td>\n      <td>-289.97</td>\n      <td>389.99</td>\n      <td>50.010000</td>\n      <td>...</td>\n      <td>0.166667</td>\n      <td>0.000000</td>\n      <td>0.000000</td>\n      <td>0.00</td>\n      <td>0.00</td>\n      <td>0.00</td>\n      <td>0.00</td>\n      <td>0.00</td>\n      <td>1.00</td>\n      <td>0.00</td>\n    </tr>\n  </tbody>\n</table>\n<p>500000 rows × 117 columns</p>\n</div>"
     },
     "execution_count": 30,
     "metadata": {},
     "output_type": "execute_result"
    }
   ],
   "source": [
    "df_5"
   ],
   "metadata": {
    "collapsed": false
   }
  },
  {
   "cell_type": "code",
   "execution_count": null,
   "outputs": [],
   "source": [],
   "metadata": {
    "collapsed": false
   }
  }
 ],
 "metadata": {
  "kernelspec": {
   "display_name": "Python 3",
   "language": "python",
   "name": "python3"
  },
  "language_info": {
   "codemirror_mode": {
    "name": "ipython",
    "version": 2
   },
   "file_extension": ".py",
   "mimetype": "text/x-python",
   "name": "python",
   "nbconvert_exporter": "python",
   "pygments_lexer": "ipython2",
   "version": "2.7.6"
  }
 },
 "nbformat": 4,
 "nbformat_minor": 0
}

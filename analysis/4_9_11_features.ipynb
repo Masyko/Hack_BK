{
 "cells": [
  {
   "cell_type": "code",
   "execution_count": 1,
   "metadata": {
    "collapsed": true
   },
   "outputs": [],
   "source": [
    "import pandas as pd\n",
    "import numpy as np\n",
    "import plotly.express as px\n",
    "import plotly.io as pio\n",
    "\n",
    "import requests"
   ]
  },
  {
   "cell_type": "code",
   "execution_count": 3,
   "outputs": [],
   "source": [
    "df = pd.read_parquet('train_dataset')\n"
   ],
   "metadata": {
    "collapsed": false
   }
  },
  {
   "cell_type": "markdown",
   "source": [
    "# `df_sim_by_checks` - мера схожести чеков у customer"
   ],
   "metadata": {
    "collapsed": false
   }
  },
  {
   "cell_type": "code",
   "execution_count": 19,
   "outputs": [],
   "source": [
    "from sklearn.metrics.pairwise import cosine_similarity\n",
    "\n",
    "df['item_id'], _ = pd.factorize(df['dish_name'])\n",
    "\n",
    "df_check_items = df.groupby(['customer_id', 'startdatetime', 'buy_post']).item_id.apply(np.array)\n",
    "df_check_items.columns = ['customer_id', 'startdatetime', 'buy_post', 'item_id']\n",
    "\n",
    "df_checks = df.groupby(['customer_id', 'startdatetime', 'buy_post'], as_index=True).agg({\n",
    "    \"revenue\": [\"sum\", \"count\"],\n",
    "})\n",
    "df_checks.columns = [\"revenue_sum\", \"items_count\"]\n",
    "df_checks.reset_index(inplace=True)\n",
    "\n",
    "df_checks = pd.merge(df_checks, df_check_items, on=['customer_id', 'startdatetime', 'buy_post'])\n",
    "\n",
    "similarity_by_checks_scores = []\n",
    "df_grouped_checks = df_checks.groupby(['customer_id'])\n",
    "\n",
    "for _, group in df_grouped_checks:\n",
    "  group_onehot = pd.get_dummies(group['item_id'].apply(pd.Series).stack())\n",
    "  if group_onehot.shape[0] > 1:\n",
    "    similarity_matrix = cosine_similarity(group_onehot)\n",
    "    similarity_score = np.mean(similarity_matrix)\n",
    "    similarity_by_checks_scores.append(similarity_score)\n",
    "  else:\n",
    "    similarity_by_checks_scores.append(0)\n",
    "\n",
    "\n",
    "df_sim_by_checks = pd.DataFrame(list(zip(df_grouped_checks.groups.keys(), similarity_by_checks_scores)), columns=['customer_id', 'cosine_similarity'])"
   ],
   "metadata": {
    "collapsed": false
   }
  },
  {
   "cell_type": "code",
   "execution_count": 26,
   "outputs": [
    {
     "data": {
      "text/plain": "   customer_id  cosine_similarity\n0        29891           0.044983\n1        30477           0.069067\n2        31426           0.109519\n3        44491           0.320000\n4        44939           0.075200",
      "text/html": "<div>\n<style scoped>\n    .dataframe tbody tr th:only-of-type {\n        vertical-align: middle;\n    }\n\n    .dataframe tbody tr th {\n        vertical-align: top;\n    }\n\n    .dataframe thead th {\n        text-align: right;\n    }\n</style>\n<table border=\"1\" class=\"dataframe\">\n  <thead>\n    <tr style=\"text-align: right;\">\n      <th></th>\n      <th>customer_id</th>\n      <th>cosine_similarity</th>\n    </tr>\n  </thead>\n  <tbody>\n    <tr>\n      <th>0</th>\n      <td>29891</td>\n      <td>0.044983</td>\n    </tr>\n    <tr>\n      <th>1</th>\n      <td>30477</td>\n      <td>0.069067</td>\n    </tr>\n    <tr>\n      <th>2</th>\n      <td>31426</td>\n      <td>0.109519</td>\n    </tr>\n    <tr>\n      <th>3</th>\n      <td>44491</td>\n      <td>0.320000</td>\n    </tr>\n    <tr>\n      <th>4</th>\n      <td>44939</td>\n      <td>0.075200</td>\n    </tr>\n  </tbody>\n</table>\n</div>"
     },
     "execution_count": 26,
     "metadata": {},
     "output_type": "execute_result"
    }
   ],
   "source": [
    "df_sim_by_checks.head()"
   ],
   "metadata": {
    "collapsed": false
   }
  },
  {
   "cell_type": "markdown",
   "source": [
    "# `df_halves_means` - разница сумм в первой и второй половинах чеков по времени\n"
   ],
   "metadata": {
    "collapsed": false
   }
  },
  {
   "cell_type": "code",
   "execution_count": 38,
   "outputs": [],
   "source": [
    "def calculate_means(group):\n",
    "    group = group.sort_values('startdatetime')\n",
    "    middle_date_idx = group['startdatetime'].values.shape[0] // 2\n",
    "\n",
    "    first_half_df = group.iloc[:middle_date_idx]\n",
    "    second_half_df = group.iloc[middle_date_idx:]\n",
    "\n",
    "    return pd.Series({'first_half_mean': first_half_df['revenue_sum'].mean(),\n",
    "                      'first_half_max': first_half_df['revenue_sum'].max(),\n",
    "                      'first_half_min': first_half_df['revenue_sum'].min(),\n",
    "                      'first_half_std': first_half_df['revenue_sum'].std(),\n",
    "                      'second_half_mean': second_half_df['revenue_sum'].mean(),\n",
    "                      'second_half_max': second_half_df['revenue_sum'].max(),\n",
    "                      'second_half_min': second_half_df['revenue_sum'].min(),\n",
    "                      'second_half_std': second_half_df['revenue_sum'].std()})\n",
    "\n",
    "df_halves_means = df_checks.groupby('customer_id').apply(calculate_means)\n",
    "df_halves_means.reset_index(inplace=True)"
   ],
   "metadata": {
    "collapsed": false
   }
  },
  {
   "cell_type": "code",
   "execution_count": 53,
   "outputs": [],
   "source": [
    "df_halves_means['diff'] = df_halves_means.second_half_mean - df_halves_means.first_half_mean\n",
    "df_halves_means['ratio'] = df_halves_means.second_half_mean / df_halves_means.first_half_mean"
   ],
   "metadata": {
    "collapsed": false
   }
  },
  {
   "cell_type": "code",
   "execution_count": 41,
   "outputs": [
    {
     "data": {
      "text/plain": "        customer_id  first_half_mean  first_half_max  first_half_min  \\\n0             29891       208.805000          389.97           45.99   \n1             30477       255.400833          399.99           99.99   \n2             31426       365.152500          954.98            2.00   \n3             44491       197.470000          344.97           49.97   \n4             44939       604.930000          604.93          604.93   \n...             ...              ...             ...             ...   \n499995     46624509       514.950000          514.95          514.95   \n499996     46625265       349.960000          349.96          349.96   \n499997     46639170       169.990000          169.99          169.99   \n499998     46654016       469.960000          469.96          469.96   \n499999     46661804       259.990000          259.99          259.99   \n\n        first_half_std  second_half_mean  second_half_max  second_half_min  \\\n0           102.497430        198.591538           439.98             1.00   \n1           124.740158        200.830000           499.95            44.99   \n2           323.624182        417.646667          1079.97             1.00   \n3           208.596500         59.980000            69.99            49.97   \n4                  NaN        529.950000           554.94           504.96   \n...                ...               ...              ...              ...   \n499995             NaN        210.475000           320.96            99.99   \n499996             NaN        424.955000           799.92            49.99   \n499997             NaN        459.965000           519.96           399.97   \n499998             NaN        374.985000           569.98           179.99   \n499999             NaN        287.470000           289.97           284.97   \n\n        second_half_std        diff  \n0            143.726628  -10.213462  \n1            124.115843  -54.570833  \n2            358.058023   52.494167  \n3             14.156278 -137.490000  \n4             35.341197  -74.980000  \n...                 ...         ...  \n499995       156.249385 -304.475000  \n499996       530.280588   74.995000  \n499997        84.845743  289.975000  \n499998       275.764574  -94.975000  \n499999         3.535534   27.480000  \n\n[500000 rows x 10 columns]",
      "text/html": "<div>\n<style scoped>\n    .dataframe tbody tr th:only-of-type {\n        vertical-align: middle;\n    }\n\n    .dataframe tbody tr th {\n        vertical-align: top;\n    }\n\n    .dataframe thead th {\n        text-align: right;\n    }\n</style>\n<table border=\"1\" class=\"dataframe\">\n  <thead>\n    <tr style=\"text-align: right;\">\n      <th></th>\n      <th>customer_id</th>\n      <th>first_half_mean</th>\n      <th>first_half_max</th>\n      <th>first_half_min</th>\n      <th>first_half_std</th>\n      <th>second_half_mean</th>\n      <th>second_half_max</th>\n      <th>second_half_min</th>\n      <th>second_half_std</th>\n      <th>diff</th>\n    </tr>\n  </thead>\n  <tbody>\n    <tr>\n      <th>0</th>\n      <td>29891</td>\n      <td>208.805000</td>\n      <td>389.97</td>\n      <td>45.99</td>\n      <td>102.497430</td>\n      <td>198.591538</td>\n      <td>439.98</td>\n      <td>1.00</td>\n      <td>143.726628</td>\n      <td>-10.213462</td>\n    </tr>\n    <tr>\n      <th>1</th>\n      <td>30477</td>\n      <td>255.400833</td>\n      <td>399.99</td>\n      <td>99.99</td>\n      <td>124.740158</td>\n      <td>200.830000</td>\n      <td>499.95</td>\n      <td>44.99</td>\n      <td>124.115843</td>\n      <td>-54.570833</td>\n    </tr>\n    <tr>\n      <th>2</th>\n      <td>31426</td>\n      <td>365.152500</td>\n      <td>954.98</td>\n      <td>2.00</td>\n      <td>323.624182</td>\n      <td>417.646667</td>\n      <td>1079.97</td>\n      <td>1.00</td>\n      <td>358.058023</td>\n      <td>52.494167</td>\n    </tr>\n    <tr>\n      <th>3</th>\n      <td>44491</td>\n      <td>197.470000</td>\n      <td>344.97</td>\n      <td>49.97</td>\n      <td>208.596500</td>\n      <td>59.980000</td>\n      <td>69.99</td>\n      <td>49.97</td>\n      <td>14.156278</td>\n      <td>-137.490000</td>\n    </tr>\n    <tr>\n      <th>4</th>\n      <td>44939</td>\n      <td>604.930000</td>\n      <td>604.93</td>\n      <td>604.93</td>\n      <td>NaN</td>\n      <td>529.950000</td>\n      <td>554.94</td>\n      <td>504.96</td>\n      <td>35.341197</td>\n      <td>-74.980000</td>\n    </tr>\n    <tr>\n      <th>...</th>\n      <td>...</td>\n      <td>...</td>\n      <td>...</td>\n      <td>...</td>\n      <td>...</td>\n      <td>...</td>\n      <td>...</td>\n      <td>...</td>\n      <td>...</td>\n      <td>...</td>\n    </tr>\n    <tr>\n      <th>499995</th>\n      <td>46624509</td>\n      <td>514.950000</td>\n      <td>514.95</td>\n      <td>514.95</td>\n      <td>NaN</td>\n      <td>210.475000</td>\n      <td>320.96</td>\n      <td>99.99</td>\n      <td>156.249385</td>\n      <td>-304.475000</td>\n    </tr>\n    <tr>\n      <th>499996</th>\n      <td>46625265</td>\n      <td>349.960000</td>\n      <td>349.96</td>\n      <td>349.96</td>\n      <td>NaN</td>\n      <td>424.955000</td>\n      <td>799.92</td>\n      <td>49.99</td>\n      <td>530.280588</td>\n      <td>74.995000</td>\n    </tr>\n    <tr>\n      <th>499997</th>\n      <td>46639170</td>\n      <td>169.990000</td>\n      <td>169.99</td>\n      <td>169.99</td>\n      <td>NaN</td>\n      <td>459.965000</td>\n      <td>519.96</td>\n      <td>399.97</td>\n      <td>84.845743</td>\n      <td>289.975000</td>\n    </tr>\n    <tr>\n      <th>499998</th>\n      <td>46654016</td>\n      <td>469.960000</td>\n      <td>469.96</td>\n      <td>469.96</td>\n      <td>NaN</td>\n      <td>374.985000</td>\n      <td>569.98</td>\n      <td>179.99</td>\n      <td>275.764574</td>\n      <td>-94.975000</td>\n    </tr>\n    <tr>\n      <th>499999</th>\n      <td>46661804</td>\n      <td>259.990000</td>\n      <td>259.99</td>\n      <td>259.99</td>\n      <td>NaN</td>\n      <td>287.470000</td>\n      <td>289.97</td>\n      <td>284.97</td>\n      <td>3.535534</td>\n      <td>27.480000</td>\n    </tr>\n  </tbody>\n</table>\n<p>500000 rows × 10 columns</p>\n</div>"
     },
     "execution_count": 41,
     "metadata": {},
     "output_type": "execute_result"
    }
   ],
   "source": [
    "df_halves_means"
   ],
   "metadata": {
    "collapsed": false
   }
  },
  {
   "cell_type": "code",
   "execution_count": 42,
   "outputs": [],
   "source": [
    "def calculate_information_value(dataset, feats, target_col):\n",
    "    iv_by_feat = {}\n",
    "    temp = dataset.copy()\n",
    "    for feat in feats:\n",
    "        temp[\"quant_range\"] = pd.qcut(\n",
    "            x=temp[feat], q=[0, 0.25, 0.5, 0.75, 1.0], duplicates=\"drop\"\n",
    "        )\n",
    "\n",
    "        bins = {}\n",
    "        for i, bin in enumerate(temp[\"quant_range\"].unique()):\n",
    "            bins[bin] = i\n",
    "\n",
    "        temp[\"bin\"] = temp[\"quant_range\"].apply(lambda x: bins[x])\n",
    "\n",
    "        iv = (\n",
    "            pd.crosstab(temp[\"bin\"], temp[target_col], normalize=\"columns\")\n",
    "            .assign(woe=lambda dfx: np.log(dfx[1] / dfx[0]))\n",
    "            .assign(iv=lambda dfx: np.sum(dfx[\"woe\"] * (dfx[1] - dfx[0])))\n",
    "        )[\"iv\"].unique()[0]\n",
    "\n",
    "        iv_by_feat[feat] = [iv]\n",
    "    df = pd.DataFrame(iv_by_feat).T\n",
    "    df.reset_index(inplace=True)\n",
    "    df.columns = [\"feature\", \"IV\"]\n",
    "    return df\n"
   ],
   "metadata": {
    "collapsed": false
   }
  },
  {
   "cell_type": "code",
   "execution_count": 54,
   "outputs": [
    {
     "data": {
      "text/plain": "            feature        IV\n0   first_half_mean  0.005550\n1    first_half_max  0.017305\n2    first_half_min  0.059577\n3    first_half_std  0.012299\n4  second_half_mean  0.005947\n5   second_half_max  0.016568\n6   second_half_min  0.003584\n7   second_half_std  0.012744\n8              diff  0.027565\n9             ratio  0.031495",
      "text/html": "<div>\n<style scoped>\n    .dataframe tbody tr th:only-of-type {\n        vertical-align: middle;\n    }\n\n    .dataframe tbody tr th {\n        vertical-align: top;\n    }\n\n    .dataframe thead th {\n        text-align: right;\n    }\n</style>\n<table border=\"1\" class=\"dataframe\">\n  <thead>\n    <tr style=\"text-align: right;\">\n      <th></th>\n      <th>feature</th>\n      <th>IV</th>\n    </tr>\n  </thead>\n  <tbody>\n    <tr>\n      <th>0</th>\n      <td>first_half_mean</td>\n      <td>0.005550</td>\n    </tr>\n    <tr>\n      <th>1</th>\n      <td>first_half_max</td>\n      <td>0.017305</td>\n    </tr>\n    <tr>\n      <th>2</th>\n      <td>first_half_min</td>\n      <td>0.059577</td>\n    </tr>\n    <tr>\n      <th>3</th>\n      <td>first_half_std</td>\n      <td>0.012299</td>\n    </tr>\n    <tr>\n      <th>4</th>\n      <td>second_half_mean</td>\n      <td>0.005947</td>\n    </tr>\n    <tr>\n      <th>5</th>\n      <td>second_half_max</td>\n      <td>0.016568</td>\n    </tr>\n    <tr>\n      <th>6</th>\n      <td>second_half_min</td>\n      <td>0.003584</td>\n    </tr>\n    <tr>\n      <th>7</th>\n      <td>second_half_std</td>\n      <td>0.012744</td>\n    </tr>\n    <tr>\n      <th>8</th>\n      <td>diff</td>\n      <td>0.027565</td>\n    </tr>\n    <tr>\n      <th>9</th>\n      <td>ratio</td>\n      <td>0.031495</td>\n    </tr>\n  </tbody>\n</table>\n</div>"
     },
     "execution_count": 54,
     "metadata": {},
     "output_type": "execute_result"
    }
   ],
   "source": [
    "calculate_information_value(df_halves_means, ['first_half_mean', 'first_half_max', 'first_half_min', 'first_half_std',\n",
    "                                              'second_half_mean', 'second_half_max', 'second_half_min', 'second_half_std', 'diff', 'ratio'], 'buy_post')"
   ],
   "metadata": {
    "collapsed": false
   }
  },
  {
   "cell_type": "markdown",
   "source": [],
   "metadata": {
    "collapsed": false
   }
  },
  {
   "cell_type": "markdown",
   "source": [
    "Все фичи в `df_total_features` и в файл 4_9_11_features.parquet"
   ],
   "metadata": {
    "collapsed": false
   }
  },
  {
   "cell_type": "code",
   "execution_count": 55,
   "outputs": [],
   "source": [
    "df_total_features = pd.merge(df_halves_means, df_sim_by_checks, on='customer_id')"
   ],
   "metadata": {
    "collapsed": false
   }
  },
  {
   "cell_type": "code",
   "execution_count": 57,
   "outputs": [],
   "source": [
    "df_total_features.to_parquet('4_9_11_features.parquet')"
   ],
   "metadata": {
    "collapsed": false
   }
  },
  {
   "cell_type": "code",
   "execution_count": null,
   "outputs": [],
   "source": [],
   "metadata": {
    "collapsed": false
   }
  }
 ],
 "metadata": {
  "kernelspec": {
   "display_name": "Python 3",
   "language": "python",
   "name": "python3"
  },
  "language_info": {
   "codemirror_mode": {
    "name": "ipython",
    "version": 2
   },
   "file_extension": ".py",
   "mimetype": "text/x-python",
   "name": "python",
   "nbconvert_exporter": "python",
   "pygments_lexer": "ipython2",
   "version": "2.7.6"
  }
 },
 "nbformat": 4,
 "nbformat_minor": 0
}

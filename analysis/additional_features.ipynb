{
 "cells": [
  {
   "cell_type": "code",
   "execution_count": 56,
   "metadata": {
    "collapsed": true
   },
   "outputs": [],
   "source": [
    "# попробуем получить дополнительные фичи, исходя из чужих файликов"
   ]
  },
  {
   "cell_type": "code",
   "execution_count": 57,
   "outputs": [],
   "source": [
    "import pandas as pd\n",
    "import numpy as np\n"
   ],
   "metadata": {
    "collapsed": false
   }
  },
  {
   "cell_type": "code",
   "execution_count": 58,
   "outputs": [],
   "source": [
    "df = pd.read_parquet(\"test_dataset_hackaton2023_test.gzip\")"
   ],
   "metadata": {
    "collapsed": false
   }
  },
  {
   "cell_type": "code",
   "execution_count": 59,
   "outputs": [],
   "source": [
    "def filter_by_keyword(df, keywords_list):\n",
    "    df = df[df['dish_name'].str.lower().str.contains('|'.join([keyword.lower() for keyword in keywords_list]))]\n",
    "    return df"
   ],
   "metadata": {
    "collapsed": false
   }
  },
  {
   "cell_type": "code",
   "execution_count": 60,
   "outputs": [],
   "source": [
    "keywordsList = [\"Латте\", \"Flash\", \"Кола\", \"Липтон\", \"Эвервесс\", \"Адреналин\", \"Эвервесс\", \"Капучино\", \"Кофе\", \"Дюшес\", \"чай\", \"Байкал\", \"Вода\", \"Шейк\", \"Фрустайл\", \"Какао\", \"Пиво\", \"Пепси\", \"Лимонад\", \"Мандарин\", \"Сок\", \"Балтика\", \"Эспрессо\", \"Миринда\", \"Севен\", \"Энергет.нап.\"]\n",
    "\n",
    "values = [0.2, 0.3, 0.4, 0.5, 0.8,1]\n",
    "\n",
    "condition = \"Латте|Flash|Кола|Липтон|Эвервесс|Адреналин|Эвервесс|Капучино|Кофе|Дюшес|чай|Байкал|Вода|Шейк|Фрустайл|Какао|Пиво|Пепси|Лимонад|Мандарин|Сок|Балтика|Эспрессо|Миринда|Севен|Энергет.нап\"\n",
    "\n",
    "df['drink_size'] = np.select(\n",
    "    [ df['dish_name'].str.contains(condition) & df['dish_name'].str.lower().str.contains(\"0,2\"),\n",
    "      df['dish_name'].str.contains(condition) & df['dish_name'].str.lower().str.contains(\"0,3\"),\n",
    "      df['dish_name'].str.contains(condition) & df['dish_name'].str.lower().str.contains(\"0,4|мал\"),\n",
    "      df['dish_name'].str.contains(condition) & df['dish_name'].str.lower().str.contains(\"0,5|станд\"),\n",
    "      df['dish_name'].str.contains(condition) & df['dish_name'].str.lower().str.contains(\"0,8|бол\"),\n",
    "      df['dish_name'].str.contains(condition) & df['dish_name'].str.lower().str.contains(\"1\")], values, default=0)"
   ],
   "metadata": {
    "collapsed": false
   }
  },
  {
   "cell_type": "code",
   "execution_count": 61,
   "outputs": [],
   "source": [
    "df_by_customer = df['customer_id'].drop_duplicates()"
   ],
   "metadata": {
    "collapsed": false
   }
  },
  {
   "cell_type": "code",
   "execution_count": 62,
   "outputs": [],
   "source": [
    "df_drinksize_by_customer = df.groupby(['customer_id']).agg({'drink_size': ['std', 'mean']})"
   ],
   "metadata": {
    "collapsed": false
   }
  },
  {
   "cell_type": "code",
   "execution_count": 63,
   "outputs": [],
   "source": [
    "df_drinksize_by_customer.columns = get_column_names_for_grouping_df({'drink_size': ['std', 'mean']})"
   ],
   "metadata": {
    "collapsed": false
   }
  },
  {
   "cell_type": "markdown",
   "source": [
    "## Тип ресторана"
   ],
   "metadata": {
    "collapsed": false
   }
  },
  {
   "cell_type": "code",
   "execution_count": 64,
   "outputs": [],
   "source": [
    "df['with_toilet'] = np.select(\n",
    "    [ df['format_name'].str.lower().str.contains(\"без туалета\"),\n",
    "      df['format_name'].str.lower().str.contains(\"с туалетом\")], [0, 1], default=1)\n",
    "\n",
    "df['food_court'] = np.select(\n",
    "    [ df['format_name'].str.contains(\"Отдельно\"),\n",
    "      df['format_name'].str.contains(\"Фудкорт\")], [0, 1], default=0)\n",
    "\n",
    "df['countable'] = np.select(\n",
    "    [ df['dish_name'].str.lower().str.contains(\"шт\")], [1], default=0)\n",
    "\n",
    "df['external_area'] = np.select(\n",
    "    [ df['format_name'].str.contains(\"с внешней зоной\"),\n",
    "      df['format_name'].str.contains(\"без внешней зоны\")], [0, 1], default=0)"
   ],
   "metadata": {
    "collapsed": false
   }
  },
  {
   "cell_type": "code",
   "execution_count": 65,
   "outputs": [],
   "source": [
    "df_restaurant_type_by_customer = df.groupby(['customer_id']).agg({'with_toilet': ['std', 'mean'],\n",
    "                                                                  'food_court': ['std', 'mean'],\n",
    "                                                                  'countable': ['std', 'mean'],\n",
    "                                                                  'external_area': ['std', 'mean']})"
   ],
   "metadata": {
    "collapsed": false
   }
  },
  {
   "cell_type": "code",
   "execution_count": 66,
   "outputs": [],
   "source": [
    "def get_column_names_for_grouping_df(agg):\n",
    "    column_names = []\n",
    "\n",
    "    for key, value in agg.items():\n",
    "        for v in value:\n",
    "            column_names.append(f'{key}_{v}')\n",
    "\n",
    "    return column_names"
   ],
   "metadata": {
    "collapsed": false
   }
  },
  {
   "cell_type": "code",
   "execution_count": 67,
   "outputs": [],
   "source": [
    "df_restaurant_type_by_customer.columns = get_column_names_for_grouping_df({'with_toilet': ['std', 'mean'],\n",
    "                                                                  'food_court': ['std', 'mean'],\n",
    "                                                                  'countable': ['std', 'mean'],\n",
    "                                                                  'external_area': ['std', 'mean']})"
   ],
   "metadata": {
    "collapsed": false
   }
  },
  {
   "cell_type": "markdown",
   "source": [
    "# Тип еды"
   ],
   "metadata": {
    "collapsed": false
   }
  },
  {
   "cell_type": "code",
   "execution_count": 68,
   "outputs": [],
   "source": [
    "df['dish_name_filtered'] = df['dish_name']\\\n",
    "    .replace('\\d+', '', regex=True)\\\n",
    "    .replace('\\(|\\)', '', regex=True)\\\n",
    "    .replace('в бутылке|без газа|станд|мал|бол|,|т3', '', regex=True)\\\n",
    "    .str.lower()\\\n",
    "    .replace('up ', '')\\\n",
    "    .replace('.', '')\\\n",
    "    .replace('1rub', '')"
   ],
   "metadata": {
    "collapsed": false
   }
  },
  {
   "cell_type": "code",
   "execution_count": 69,
   "outputs": [
    {
     "data": {
      "text/plain": "1773606             липтон лимон  л\n4035564     пиво балтика  .л розлив\n2507770                   кинг фри \n3963775    цезарь ролл со стрипсами\n859943            up гранд чиз фреш\n                     ...           \n1677742       сырные медальоны  шт.\n4450230             липтон грин дж \n3882998                 воппер ролл\n1356999      двойной воппер с сыром\n3964741                   гранд чиз\nName: dish_name_filtered, Length: 2498034, dtype: object"
     },
     "execution_count": 69,
     "metadata": {},
     "output_type": "execute_result"
    }
   ],
   "source": [
    "df['dish_name_filtered']"
   ],
   "metadata": {
    "collapsed": false
   }
  },
  {
   "cell_type": "code",
   "execution_count": 70,
   "outputs": [
    {
     "data": {
      "text/plain": "'латте|flash|кола|липтон|эвервесс|адреналин|эвервесс|капучино|кофе|дюшес|чай|байкал|вода|шейк|фрустайл|какао|пиво|пепси|лимонад|мандарин|сок|балтика|эспрессо|миринда|севен|энергет.нап'"
     },
     "execution_count": 70,
     "metadata": {},
     "output_type": "execute_result"
    }
   ],
   "source": [
    "drinks = condition.lower()\n",
    "drinks"
   ],
   "metadata": {
    "collapsed": false
   }
  },
  {
   "cell_type": "code",
   "execution_count": 71,
   "outputs": [],
   "source": [
    "burger = 'чиз|бургер|чикен|цезарь|кинг'"
   ],
   "metadata": {
    "collapsed": false
   }
  },
  {
   "cell_type": "code",
   "execution_count": 72,
   "outputs": [],
   "source": [
    "potato = 'карт|фри|медальон'"
   ],
   "metadata": {
    "collapsed": false
   }
  },
  {
   "cell_type": "code",
   "execution_count": 73,
   "outputs": [],
   "source": [
    "sauce = 'соус'"
   ],
   "metadata": {
    "collapsed": false
   }
  },
  {
   "cell_type": "code",
   "execution_count": 74,
   "outputs": [],
   "source": [
    "whopper = 'ролл|воппер|твист'"
   ],
   "metadata": {
    "collapsed": false
   }
  },
  {
   "cell_type": "code",
   "execution_count": 75,
   "outputs": [],
   "source": [
    "df['is_burger'] = np.select([df['dish_name_filtered'].str.contains(burger)], [1], default=0)\n",
    "df['is_drink'] = np.select([df['dish_name_filtered'].str.contains(drinks)], [1], default=0)\n",
    "df['is_potato'] = np.select([df['dish_name_filtered'].str.contains(potato)], [1], default=0)\n",
    "df['is_whopper'] = np.select([df['dish_name_filtered'].str.contains(whopper)], [1], default=0)\n",
    "df['is_sauce'] = np.select([df['dish_name_filtered'].str.contains(sauce)], [1], default=0)"
   ],
   "metadata": {
    "collapsed": false
   }
  },
  {
   "cell_type": "code",
   "execution_count": 76,
   "outputs": [],
   "source": [
    "df_dishtype_by_customer = df.groupby(['customer_id']).agg({\n",
    "    'is_drink': ['mean', 'std'],\n",
    "    'is_burger': ['mean', 'std'],\n",
    "    'is_potato': ['mean', 'std'],\n",
    "    'is_whopper': ['mean', 'std'],\n",
    "    'is_sauce': ['mean', 'std'],\n",
    "})"
   ],
   "metadata": {
    "collapsed": false
   }
  },
  {
   "cell_type": "code",
   "execution_count": 77,
   "outputs": [],
   "source": [
    "column_names = []\n",
    "\n",
    "for key, value in {\n",
    "    'is_drink': ['mean', 'std'],\n",
    "    'is_burger': ['mean', 'std'],\n",
    "    'is_potato': ['mean', 'std'],\n",
    "    'is_whopper': ['mean', 'std'],\n",
    "    'is_sauce': ['mean', 'std'],\n",
    "}.items():\n",
    "    for v in value:\n",
    "        column_names.append(f'{key}_{v}')"
   ],
   "metadata": {
    "collapsed": false
   }
  },
  {
   "cell_type": "code",
   "execution_count": 78,
   "outputs": [
    {
     "data": {
      "text/plain": "['is_drink_mean',\n 'is_drink_std',\n 'is_burger_mean',\n 'is_burger_std',\n 'is_potato_mean',\n 'is_potato_std',\n 'is_whopper_mean',\n 'is_whopper_std',\n 'is_sauce_mean',\n 'is_sauce_std']"
     },
     "execution_count": 78,
     "metadata": {},
     "output_type": "execute_result"
    }
   ],
   "source": [
    "column_names"
   ],
   "metadata": {
    "collapsed": false
   }
  },
  {
   "cell_type": "code",
   "execution_count": 79,
   "outputs": [],
   "source": [
    "df_dishtype_by_customer.columns = column_names"
   ],
   "metadata": {
    "collapsed": false
   }
  },
  {
   "cell_type": "code",
   "execution_count": 80,
   "outputs": [],
   "source": [
    "from functools import reduce\n",
    "\n",
    "df_merged = reduce(lambda left,right: pd.merge(left,right,on=['customer_id'],\n",
    "                                            how='outer'), [df_drinksize_by_customer, df_dishtype_by_customer, df_restaurant_type_by_customer])"
   ],
   "metadata": {
    "collapsed": false
   }
  },
  {
   "cell_type": "code",
   "execution_count": 87,
   "outputs": [],
   "source": [
    "df_merged.reset_index().to_parquet('test_additional_feats.parquet')"
   ],
   "metadata": {
    "collapsed": false
   }
  },
  {
   "cell_type": "code",
   "execution_count": 82,
   "outputs": [
    {
     "data": {
      "text/plain": "             drink_size_std  drink_size_mean  is_drink_mean  is_drink_std  \\\ncustomer_id                                                                 \n52341              0.209149         0.117857       0.250000      0.440959   \n69175              0.156492         0.073469       0.183673      0.391230   \n73427              0.098349         0.028125       0.187500      0.393398   \n134577             0.155700         0.066667       0.166667      0.389249   \n156357             0.262630         0.130769       0.230769      0.438529   \n...                     ...              ...            ...           ...   \n46540272           0.245176         0.230000       0.500000      0.527046   \n46569275           0.167649         0.091667       0.333333      0.492366   \n46601088           0.176777         0.062500       0.125000      0.353553   \n46632765           0.326599         0.133333       0.166667      0.408248   \n46668221           0.202260         0.090909       0.181818      0.404520   \n\n             is_burger_mean  is_burger_std  is_potato_mean  is_potato_std  \\\ncustomer_id                                                                 \n52341              0.285714       0.460044        0.142857       0.356348   \n69175              0.306122       0.465657        0.183673       0.391230   \n73427              0.250000       0.436436        0.140625       0.350382   \n134577             0.000000       0.000000        0.166667       0.389249   \n156357             0.461538       0.518875        0.153846       0.375534   \n...                     ...            ...             ...            ...   \n46540272           0.100000       0.316228        0.100000       0.316228   \n46569275           0.333333       0.492366        0.166667       0.389249   \n46601088           0.500000       0.534522        0.375000       0.517549   \n46632765           0.500000       0.547723        0.166667       0.408248   \n46668221           0.272727       0.467099        0.272727       0.467099   \n\n             is_whopper_mean  is_whopper_std  is_sauce_mean  is_sauce_std  \\\ncustomer_id                                                                 \n52341               0.000000        0.000000       0.142857      0.356348   \n69175               0.081633        0.276642       0.183673      0.391230   \n73427               0.187500        0.393398       0.218750      0.416667   \n134577              0.333333        0.492366       0.250000      0.452267   \n156357              0.000000        0.000000       0.153846      0.375534   \n...                      ...             ...            ...           ...   \n46540272            0.000000        0.000000       0.100000      0.316228   \n46569275            0.166667        0.389249       0.000000      0.000000   \n46601088            0.000000        0.000000       0.000000      0.000000   \n46632765            0.333333        0.516398       0.000000      0.000000   \n46668221            0.363636        0.504525       0.090909      0.301511   \n\n             with_toilet_std  with_toilet_mean  food_court_std  \\\ncustomer_id                                                      \n52341               0.000000           1.00000        0.000000   \n69175               0.000000           1.00000        0.000000   \n73427               0.175368           0.96875        0.365963   \n134577              0.000000           0.00000        0.000000   \n156357              0.000000           1.00000        0.000000   \n...                      ...               ...             ...   \n46540272            0.000000           0.00000        0.000000   \n46569275            0.452267           0.75000        0.452267   \n46601088            0.000000           0.00000        0.000000   \n46632765            0.000000           1.00000        0.000000   \n46668221            0.000000           1.00000        0.000000   \n\n             food_court_mean  countable_std  countable_mean  \\\ncustomer_id                                                   \n52341                0.00000       0.356348        0.142857   \n69175                0.00000       0.199915        0.040816   \n73427                0.15625       0.350382        0.140625   \n134577               1.00000       0.452267        0.250000   \n156357               1.00000       0.375534        0.153846   \n...                      ...            ...             ...   \n46540272             1.00000       0.483046        0.300000   \n46569275             0.25000       0.389249        0.166667   \n46601088             1.00000       0.353553        0.125000   \n46632765             0.00000       0.000000        0.000000   \n46668221             1.00000       0.301511        0.090909   \n\n             external_area_std  external_area_mean  \ncustomer_id                                         \n52341                 0.000000             0.00000  \n69175                 0.421570             0.22449  \n73427                 0.175368             0.03125  \n134577                0.000000             0.00000  \n156357                0.000000             0.00000  \n...                        ...                 ...  \n46540272              0.000000             0.00000  \n46569275              0.000000             0.00000  \n46601088              0.000000             0.00000  \n46632765              0.000000             0.00000  \n46668221              0.000000             0.00000  \n\n[112334 rows x 20 columns]",
      "text/html": "<div>\n<style scoped>\n    .dataframe tbody tr th:only-of-type {\n        vertical-align: middle;\n    }\n\n    .dataframe tbody tr th {\n        vertical-align: top;\n    }\n\n    .dataframe thead th {\n        text-align: right;\n    }\n</style>\n<table border=\"1\" class=\"dataframe\">\n  <thead>\n    <tr style=\"text-align: right;\">\n      <th></th>\n      <th>drink_size_std</th>\n      <th>drink_size_mean</th>\n      <th>is_drink_mean</th>\n      <th>is_drink_std</th>\n      <th>is_burger_mean</th>\n      <th>is_burger_std</th>\n      <th>is_potato_mean</th>\n      <th>is_potato_std</th>\n      <th>is_whopper_mean</th>\n      <th>is_whopper_std</th>\n      <th>is_sauce_mean</th>\n      <th>is_sauce_std</th>\n      <th>with_toilet_std</th>\n      <th>with_toilet_mean</th>\n      <th>food_court_std</th>\n      <th>food_court_mean</th>\n      <th>countable_std</th>\n      <th>countable_mean</th>\n      <th>external_area_std</th>\n      <th>external_area_mean</th>\n    </tr>\n    <tr>\n      <th>customer_id</th>\n      <th></th>\n      <th></th>\n      <th></th>\n      <th></th>\n      <th></th>\n      <th></th>\n      <th></th>\n      <th></th>\n      <th></th>\n      <th></th>\n      <th></th>\n      <th></th>\n      <th></th>\n      <th></th>\n      <th></th>\n      <th></th>\n      <th></th>\n      <th></th>\n      <th></th>\n      <th></th>\n    </tr>\n  </thead>\n  <tbody>\n    <tr>\n      <th>52341</th>\n      <td>0.209149</td>\n      <td>0.117857</td>\n      <td>0.250000</td>\n      <td>0.440959</td>\n      <td>0.285714</td>\n      <td>0.460044</td>\n      <td>0.142857</td>\n      <td>0.356348</td>\n      <td>0.000000</td>\n      <td>0.000000</td>\n      <td>0.142857</td>\n      <td>0.356348</td>\n      <td>0.000000</td>\n      <td>1.00000</td>\n      <td>0.000000</td>\n      <td>0.00000</td>\n      <td>0.356348</td>\n      <td>0.142857</td>\n      <td>0.000000</td>\n      <td>0.00000</td>\n    </tr>\n    <tr>\n      <th>69175</th>\n      <td>0.156492</td>\n      <td>0.073469</td>\n      <td>0.183673</td>\n      <td>0.391230</td>\n      <td>0.306122</td>\n      <td>0.465657</td>\n      <td>0.183673</td>\n      <td>0.391230</td>\n      <td>0.081633</td>\n      <td>0.276642</td>\n      <td>0.183673</td>\n      <td>0.391230</td>\n      <td>0.000000</td>\n      <td>1.00000</td>\n      <td>0.000000</td>\n      <td>0.00000</td>\n      <td>0.199915</td>\n      <td>0.040816</td>\n      <td>0.421570</td>\n      <td>0.22449</td>\n    </tr>\n    <tr>\n      <th>73427</th>\n      <td>0.098349</td>\n      <td>0.028125</td>\n      <td>0.187500</td>\n      <td>0.393398</td>\n      <td>0.250000</td>\n      <td>0.436436</td>\n      <td>0.140625</td>\n      <td>0.350382</td>\n      <td>0.187500</td>\n      <td>0.393398</td>\n      <td>0.218750</td>\n      <td>0.416667</td>\n      <td>0.175368</td>\n      <td>0.96875</td>\n      <td>0.365963</td>\n      <td>0.15625</td>\n      <td>0.350382</td>\n      <td>0.140625</td>\n      <td>0.175368</td>\n      <td>0.03125</td>\n    </tr>\n    <tr>\n      <th>134577</th>\n      <td>0.155700</td>\n      <td>0.066667</td>\n      <td>0.166667</td>\n      <td>0.389249</td>\n      <td>0.000000</td>\n      <td>0.000000</td>\n      <td>0.166667</td>\n      <td>0.389249</td>\n      <td>0.333333</td>\n      <td>0.492366</td>\n      <td>0.250000</td>\n      <td>0.452267</td>\n      <td>0.000000</td>\n      <td>0.00000</td>\n      <td>0.000000</td>\n      <td>1.00000</td>\n      <td>0.452267</td>\n      <td>0.250000</td>\n      <td>0.000000</td>\n      <td>0.00000</td>\n    </tr>\n    <tr>\n      <th>156357</th>\n      <td>0.262630</td>\n      <td>0.130769</td>\n      <td>0.230769</td>\n      <td>0.438529</td>\n      <td>0.461538</td>\n      <td>0.518875</td>\n      <td>0.153846</td>\n      <td>0.375534</td>\n      <td>0.000000</td>\n      <td>0.000000</td>\n      <td>0.153846</td>\n      <td>0.375534</td>\n      <td>0.000000</td>\n      <td>1.00000</td>\n      <td>0.000000</td>\n      <td>1.00000</td>\n      <td>0.375534</td>\n      <td>0.153846</td>\n      <td>0.000000</td>\n      <td>0.00000</td>\n    </tr>\n    <tr>\n      <th>...</th>\n      <td>...</td>\n      <td>...</td>\n      <td>...</td>\n      <td>...</td>\n      <td>...</td>\n      <td>...</td>\n      <td>...</td>\n      <td>...</td>\n      <td>...</td>\n      <td>...</td>\n      <td>...</td>\n      <td>...</td>\n      <td>...</td>\n      <td>...</td>\n      <td>...</td>\n      <td>...</td>\n      <td>...</td>\n      <td>...</td>\n      <td>...</td>\n      <td>...</td>\n    </tr>\n    <tr>\n      <th>46540272</th>\n      <td>0.245176</td>\n      <td>0.230000</td>\n      <td>0.500000</td>\n      <td>0.527046</td>\n      <td>0.100000</td>\n      <td>0.316228</td>\n      <td>0.100000</td>\n      <td>0.316228</td>\n      <td>0.000000</td>\n      <td>0.000000</td>\n      <td>0.100000</td>\n      <td>0.316228</td>\n      <td>0.000000</td>\n      <td>0.00000</td>\n      <td>0.000000</td>\n      <td>1.00000</td>\n      <td>0.483046</td>\n      <td>0.300000</td>\n      <td>0.000000</td>\n      <td>0.00000</td>\n    </tr>\n    <tr>\n      <th>46569275</th>\n      <td>0.167649</td>\n      <td>0.091667</td>\n      <td>0.333333</td>\n      <td>0.492366</td>\n      <td>0.333333</td>\n      <td>0.492366</td>\n      <td>0.166667</td>\n      <td>0.389249</td>\n      <td>0.166667</td>\n      <td>0.389249</td>\n      <td>0.000000</td>\n      <td>0.000000</td>\n      <td>0.452267</td>\n      <td>0.75000</td>\n      <td>0.452267</td>\n      <td>0.25000</td>\n      <td>0.389249</td>\n      <td>0.166667</td>\n      <td>0.000000</td>\n      <td>0.00000</td>\n    </tr>\n    <tr>\n      <th>46601088</th>\n      <td>0.176777</td>\n      <td>0.062500</td>\n      <td>0.125000</td>\n      <td>0.353553</td>\n      <td>0.500000</td>\n      <td>0.534522</td>\n      <td>0.375000</td>\n      <td>0.517549</td>\n      <td>0.000000</td>\n      <td>0.000000</td>\n      <td>0.000000</td>\n      <td>0.000000</td>\n      <td>0.000000</td>\n      <td>0.00000</td>\n      <td>0.000000</td>\n      <td>1.00000</td>\n      <td>0.353553</td>\n      <td>0.125000</td>\n      <td>0.000000</td>\n      <td>0.00000</td>\n    </tr>\n    <tr>\n      <th>46632765</th>\n      <td>0.326599</td>\n      <td>0.133333</td>\n      <td>0.166667</td>\n      <td>0.408248</td>\n      <td>0.500000</td>\n      <td>0.547723</td>\n      <td>0.166667</td>\n      <td>0.408248</td>\n      <td>0.333333</td>\n      <td>0.516398</td>\n      <td>0.000000</td>\n      <td>0.000000</td>\n      <td>0.000000</td>\n      <td>1.00000</td>\n      <td>0.000000</td>\n      <td>0.00000</td>\n      <td>0.000000</td>\n      <td>0.000000</td>\n      <td>0.000000</td>\n      <td>0.00000</td>\n    </tr>\n    <tr>\n      <th>46668221</th>\n      <td>0.202260</td>\n      <td>0.090909</td>\n      <td>0.181818</td>\n      <td>0.404520</td>\n      <td>0.272727</td>\n      <td>0.467099</td>\n      <td>0.272727</td>\n      <td>0.467099</td>\n      <td>0.363636</td>\n      <td>0.504525</td>\n      <td>0.090909</td>\n      <td>0.301511</td>\n      <td>0.000000</td>\n      <td>1.00000</td>\n      <td>0.000000</td>\n      <td>1.00000</td>\n      <td>0.301511</td>\n      <td>0.090909</td>\n      <td>0.000000</td>\n      <td>0.00000</td>\n    </tr>\n  </tbody>\n</table>\n<p>112334 rows × 20 columns</p>\n</div>"
     },
     "execution_count": 82,
     "metadata": {},
     "output_type": "execute_result"
    }
   ],
   "source": [
    "df_merged"
   ],
   "metadata": {
    "collapsed": false
   }
  },
  {
   "cell_type": "code",
   "execution_count": 83,
   "outputs": [],
   "source": [
    "dd = pd.read_parquet('train_additional_feats.parquet')"
   ],
   "metadata": {
    "collapsed": false
   }
  },
  {
   "cell_type": "code",
   "execution_count": 88,
   "outputs": [],
   "source": [
    "dd.reset_index().to_parquet('train_additional_feats.parquet')"
   ],
   "metadata": {
    "collapsed": false
   }
  },
  {
   "cell_type": "code",
   "execution_count": 89,
   "outputs": [],
   "source": [
    "ddd = pd.read_parquet('test_additional_feats.parquet')"
   ],
   "metadata": {
    "collapsed": false
   }
  },
  {
   "cell_type": "code",
   "execution_count": 90,
   "outputs": [
    {
     "data": {
      "text/plain": "        customer_id  drink_size_std  drink_size_mean  is_drink_mean  \\\n0             52341        0.209149         0.117857       0.250000   \n1             69175        0.156492         0.073469       0.183673   \n2             73427        0.098349         0.028125       0.187500   \n3            134577        0.155700         0.066667       0.166667   \n4            156357        0.262630         0.130769       0.230769   \n...             ...             ...              ...            ...   \n112329     46540272        0.245176         0.230000       0.500000   \n112330     46569275        0.167649         0.091667       0.333333   \n112331     46601088        0.176777         0.062500       0.125000   \n112332     46632765        0.326599         0.133333       0.166667   \n112333     46668221        0.202260         0.090909       0.181818   \n\n        is_drink_std  is_burger_mean  is_burger_std  is_potato_mean  \\\n0           0.440959        0.285714       0.460044        0.142857   \n1           0.391230        0.306122       0.465657        0.183673   \n2           0.393398        0.250000       0.436436        0.140625   \n3           0.389249        0.000000       0.000000        0.166667   \n4           0.438529        0.461538       0.518875        0.153846   \n...              ...             ...            ...             ...   \n112329      0.527046        0.100000       0.316228        0.100000   \n112330      0.492366        0.333333       0.492366        0.166667   \n112331      0.353553        0.500000       0.534522        0.375000   \n112332      0.408248        0.500000       0.547723        0.166667   \n112333      0.404520        0.272727       0.467099        0.272727   \n\n        is_potato_std  is_whopper_mean  ...  is_sauce_mean  is_sauce_std  \\\n0            0.356348         0.000000  ...       0.142857      0.356348   \n1            0.391230         0.081633  ...       0.183673      0.391230   \n2            0.350382         0.187500  ...       0.218750      0.416667   \n3            0.389249         0.333333  ...       0.250000      0.452267   \n4            0.375534         0.000000  ...       0.153846      0.375534   \n...               ...              ...  ...            ...           ...   \n112329       0.316228         0.000000  ...       0.100000      0.316228   \n112330       0.389249         0.166667  ...       0.000000      0.000000   \n112331       0.517549         0.000000  ...       0.000000      0.000000   \n112332       0.408248         0.333333  ...       0.000000      0.000000   \n112333       0.467099         0.363636  ...       0.090909      0.301511   \n\n        with_toilet_std  with_toilet_mean  food_court_std  food_court_mean  \\\n0              0.000000           1.00000        0.000000          0.00000   \n1              0.000000           1.00000        0.000000          0.00000   \n2              0.175368           0.96875        0.365963          0.15625   \n3              0.000000           0.00000        0.000000          1.00000   \n4              0.000000           1.00000        0.000000          1.00000   \n...                 ...               ...             ...              ...   \n112329         0.000000           0.00000        0.000000          1.00000   \n112330         0.452267           0.75000        0.452267          0.25000   \n112331         0.000000           0.00000        0.000000          1.00000   \n112332         0.000000           1.00000        0.000000          0.00000   \n112333         0.000000           1.00000        0.000000          1.00000   \n\n        countable_std  countable_mean  external_area_std  external_area_mean  \n0            0.356348        0.142857           0.000000             0.00000  \n1            0.199915        0.040816           0.421570             0.22449  \n2            0.350382        0.140625           0.175368             0.03125  \n3            0.452267        0.250000           0.000000             0.00000  \n4            0.375534        0.153846           0.000000             0.00000  \n...               ...             ...                ...                 ...  \n112329       0.483046        0.300000           0.000000             0.00000  \n112330       0.389249        0.166667           0.000000             0.00000  \n112331       0.353553        0.125000           0.000000             0.00000  \n112332       0.000000        0.000000           0.000000             0.00000  \n112333       0.301511        0.090909           0.000000             0.00000  \n\n[112334 rows x 21 columns]",
      "text/html": "<div>\n<style scoped>\n    .dataframe tbody tr th:only-of-type {\n        vertical-align: middle;\n    }\n\n    .dataframe tbody tr th {\n        vertical-align: top;\n    }\n\n    .dataframe thead th {\n        text-align: right;\n    }\n</style>\n<table border=\"1\" class=\"dataframe\">\n  <thead>\n    <tr style=\"text-align: right;\">\n      <th></th>\n      <th>customer_id</th>\n      <th>drink_size_std</th>\n      <th>drink_size_mean</th>\n      <th>is_drink_mean</th>\n      <th>is_drink_std</th>\n      <th>is_burger_mean</th>\n      <th>is_burger_std</th>\n      <th>is_potato_mean</th>\n      <th>is_potato_std</th>\n      <th>is_whopper_mean</th>\n      <th>...</th>\n      <th>is_sauce_mean</th>\n      <th>is_sauce_std</th>\n      <th>with_toilet_std</th>\n      <th>with_toilet_mean</th>\n      <th>food_court_std</th>\n      <th>food_court_mean</th>\n      <th>countable_std</th>\n      <th>countable_mean</th>\n      <th>external_area_std</th>\n      <th>external_area_mean</th>\n    </tr>\n  </thead>\n  <tbody>\n    <tr>\n      <th>0</th>\n      <td>52341</td>\n      <td>0.209149</td>\n      <td>0.117857</td>\n      <td>0.250000</td>\n      <td>0.440959</td>\n      <td>0.285714</td>\n      <td>0.460044</td>\n      <td>0.142857</td>\n      <td>0.356348</td>\n      <td>0.000000</td>\n      <td>...</td>\n      <td>0.142857</td>\n      <td>0.356348</td>\n      <td>0.000000</td>\n      <td>1.00000</td>\n      <td>0.000000</td>\n      <td>0.00000</td>\n      <td>0.356348</td>\n      <td>0.142857</td>\n      <td>0.000000</td>\n      <td>0.00000</td>\n    </tr>\n    <tr>\n      <th>1</th>\n      <td>69175</td>\n      <td>0.156492</td>\n      <td>0.073469</td>\n      <td>0.183673</td>\n      <td>0.391230</td>\n      <td>0.306122</td>\n      <td>0.465657</td>\n      <td>0.183673</td>\n      <td>0.391230</td>\n      <td>0.081633</td>\n      <td>...</td>\n      <td>0.183673</td>\n      <td>0.391230</td>\n      <td>0.000000</td>\n      <td>1.00000</td>\n      <td>0.000000</td>\n      <td>0.00000</td>\n      <td>0.199915</td>\n      <td>0.040816</td>\n      <td>0.421570</td>\n      <td>0.22449</td>\n    </tr>\n    <tr>\n      <th>2</th>\n      <td>73427</td>\n      <td>0.098349</td>\n      <td>0.028125</td>\n      <td>0.187500</td>\n      <td>0.393398</td>\n      <td>0.250000</td>\n      <td>0.436436</td>\n      <td>0.140625</td>\n      <td>0.350382</td>\n      <td>0.187500</td>\n      <td>...</td>\n      <td>0.218750</td>\n      <td>0.416667</td>\n      <td>0.175368</td>\n      <td>0.96875</td>\n      <td>0.365963</td>\n      <td>0.15625</td>\n      <td>0.350382</td>\n      <td>0.140625</td>\n      <td>0.175368</td>\n      <td>0.03125</td>\n    </tr>\n    <tr>\n      <th>3</th>\n      <td>134577</td>\n      <td>0.155700</td>\n      <td>0.066667</td>\n      <td>0.166667</td>\n      <td>0.389249</td>\n      <td>0.000000</td>\n      <td>0.000000</td>\n      <td>0.166667</td>\n      <td>0.389249</td>\n      <td>0.333333</td>\n      <td>...</td>\n      <td>0.250000</td>\n      <td>0.452267</td>\n      <td>0.000000</td>\n      <td>0.00000</td>\n      <td>0.000000</td>\n      <td>1.00000</td>\n      <td>0.452267</td>\n      <td>0.250000</td>\n      <td>0.000000</td>\n      <td>0.00000</td>\n    </tr>\n    <tr>\n      <th>4</th>\n      <td>156357</td>\n      <td>0.262630</td>\n      <td>0.130769</td>\n      <td>0.230769</td>\n      <td>0.438529</td>\n      <td>0.461538</td>\n      <td>0.518875</td>\n      <td>0.153846</td>\n      <td>0.375534</td>\n      <td>0.000000</td>\n      <td>...</td>\n      <td>0.153846</td>\n      <td>0.375534</td>\n      <td>0.000000</td>\n      <td>1.00000</td>\n      <td>0.000000</td>\n      <td>1.00000</td>\n      <td>0.375534</td>\n      <td>0.153846</td>\n      <td>0.000000</td>\n      <td>0.00000</td>\n    </tr>\n    <tr>\n      <th>...</th>\n      <td>...</td>\n      <td>...</td>\n      <td>...</td>\n      <td>...</td>\n      <td>...</td>\n      <td>...</td>\n      <td>...</td>\n      <td>...</td>\n      <td>...</td>\n      <td>...</td>\n      <td>...</td>\n      <td>...</td>\n      <td>...</td>\n      <td>...</td>\n      <td>...</td>\n      <td>...</td>\n      <td>...</td>\n      <td>...</td>\n      <td>...</td>\n      <td>...</td>\n      <td>...</td>\n    </tr>\n    <tr>\n      <th>112329</th>\n      <td>46540272</td>\n      <td>0.245176</td>\n      <td>0.230000</td>\n      <td>0.500000</td>\n      <td>0.527046</td>\n      <td>0.100000</td>\n      <td>0.316228</td>\n      <td>0.100000</td>\n      <td>0.316228</td>\n      <td>0.000000</td>\n      <td>...</td>\n      <td>0.100000</td>\n      <td>0.316228</td>\n      <td>0.000000</td>\n      <td>0.00000</td>\n      <td>0.000000</td>\n      <td>1.00000</td>\n      <td>0.483046</td>\n      <td>0.300000</td>\n      <td>0.000000</td>\n      <td>0.00000</td>\n    </tr>\n    <tr>\n      <th>112330</th>\n      <td>46569275</td>\n      <td>0.167649</td>\n      <td>0.091667</td>\n      <td>0.333333</td>\n      <td>0.492366</td>\n      <td>0.333333</td>\n      <td>0.492366</td>\n      <td>0.166667</td>\n      <td>0.389249</td>\n      <td>0.166667</td>\n      <td>...</td>\n      <td>0.000000</td>\n      <td>0.000000</td>\n      <td>0.452267</td>\n      <td>0.75000</td>\n      <td>0.452267</td>\n      <td>0.25000</td>\n      <td>0.389249</td>\n      <td>0.166667</td>\n      <td>0.000000</td>\n      <td>0.00000</td>\n    </tr>\n    <tr>\n      <th>112331</th>\n      <td>46601088</td>\n      <td>0.176777</td>\n      <td>0.062500</td>\n      <td>0.125000</td>\n      <td>0.353553</td>\n      <td>0.500000</td>\n      <td>0.534522</td>\n      <td>0.375000</td>\n      <td>0.517549</td>\n      <td>0.000000</td>\n      <td>...</td>\n      <td>0.000000</td>\n      <td>0.000000</td>\n      <td>0.000000</td>\n      <td>0.00000</td>\n      <td>0.000000</td>\n      <td>1.00000</td>\n      <td>0.353553</td>\n      <td>0.125000</td>\n      <td>0.000000</td>\n      <td>0.00000</td>\n    </tr>\n    <tr>\n      <th>112332</th>\n      <td>46632765</td>\n      <td>0.326599</td>\n      <td>0.133333</td>\n      <td>0.166667</td>\n      <td>0.408248</td>\n      <td>0.500000</td>\n      <td>0.547723</td>\n      <td>0.166667</td>\n      <td>0.408248</td>\n      <td>0.333333</td>\n      <td>...</td>\n      <td>0.000000</td>\n      <td>0.000000</td>\n      <td>0.000000</td>\n      <td>1.00000</td>\n      <td>0.000000</td>\n      <td>0.00000</td>\n      <td>0.000000</td>\n      <td>0.000000</td>\n      <td>0.000000</td>\n      <td>0.00000</td>\n    </tr>\n    <tr>\n      <th>112333</th>\n      <td>46668221</td>\n      <td>0.202260</td>\n      <td>0.090909</td>\n      <td>0.181818</td>\n      <td>0.404520</td>\n      <td>0.272727</td>\n      <td>0.467099</td>\n      <td>0.272727</td>\n      <td>0.467099</td>\n      <td>0.363636</td>\n      <td>...</td>\n      <td>0.090909</td>\n      <td>0.301511</td>\n      <td>0.000000</td>\n      <td>1.00000</td>\n      <td>0.000000</td>\n      <td>1.00000</td>\n      <td>0.301511</td>\n      <td>0.090909</td>\n      <td>0.000000</td>\n      <td>0.00000</td>\n    </tr>\n  </tbody>\n</table>\n<p>112334 rows × 21 columns</p>\n</div>"
     },
     "execution_count": 90,
     "metadata": {},
     "output_type": "execute_result"
    }
   ],
   "source": [
    "ddd"
   ],
   "metadata": {
    "collapsed": false
   }
  },
  {
   "cell_type": "code",
   "execution_count": 91,
   "outputs": [],
   "source": [
    "www = pd.read_parquet('test_with_feats_v2.parquet')"
   ],
   "metadata": {
    "collapsed": false
   }
  },
  {
   "cell_type": "code",
   "execution_count": 92,
   "outputs": [
    {
     "data": {
      "text/plain": "        customer_id  receipt_sum_mean  receipt_sum_std  receipt_count  \\\n0             52341        563.942500        65.700330              4   \n1             69175        430.306667        62.142941              9   \n2             73427        254.240323       218.360745             31   \n3            134577        372.970000       310.195853              4   \n4            156357        558.963333       245.551523              3   \n...             ...               ...              ...            ...   \n112329     46540272        441.633333       324.487289              3   \n112330     46569275        377.313333       390.697752              3   \n112331     46601088        193.316667       101.526598              3   \n112332     46632765        246.650000        40.409983              3   \n112333     46668221        609.966667       653.362917              3   \n\n        items_receipt_mean  items_receipt_mean_std  sum_delta_min  \\\n0                 7.000000                0.816497         -50.01   \n1                 5.444444                0.726483        -179.98   \n2                 2.064516                2.112431        -719.96   \n3                 3.000000                2.708013        -218.02   \n4                 4.333333                1.154701        -362.98   \n...                    ...                     ...            ...   \n112329            3.333333                2.516611        -384.97   \n112330            4.000000                4.358899        -430.98   \n112331            2.666667                2.081666        -165.00   \n112332            2.000000                1.000000         -29.99   \n112333            3.666667                3.785939        -954.95   \n\n        sum_delta_max  sum_delta_mean  sum_delta_std  ...  second_half_max  \\\n0              155.99       35.326667     107.447569  ...           655.93   \n1               80.98      -10.498750      82.377989  ...           480.96   \n2              699.97        9.666667     349.223379  ...           669.98   \n3              689.94      133.313333     487.551900  ...           799.93   \n4              467.97       52.495000     587.570380  ...           749.95   \n...               ...             ...            ...  ...              ...   \n112329        -259.98     -322.475000      88.381277  ...           399.97   \n112330        -348.98     -389.980000      57.982756  ...           349.98   \n112331         -19.99      -92.495000     102.537554  ...           144.98   \n112332          79.99       25.000000      77.767604  ...           289.98   \n112333        -294.99     -624.970000     466.662191  ...           389.98   \n\n        second_half_min  second_half_std         diff     ratio  \\\n0                499.94       110.301587    27.985000  1.050886   \n1                374.98        47.429064   -11.098500  0.974572   \n2                  1.00       209.570345    32.792167  1.138180   \n3                109.99       487.861253   163.980000  1.563544   \n4                281.98       330.904760  -128.995000  0.799995   \n...                 ...              ...          ...       ...   \n112329           139.99       183.833621  -514.960000  0.343950   \n112330             1.00       246.766124  -605.470000  0.224711   \n112331           124.99        14.135065  -174.995000  0.435464   \n112332           209.99        56.561471    10.005000  1.041691   \n112333            94.99       208.589429 -1102.445000  0.180296   \n\n        cosine_similarity  was_promo_mean  was_promo_std  was_1rub_mean  \\\n0                0.109694        0.750000       0.500000       0.000000   \n1                0.083715        1.000000       0.000000       0.000000   \n2                0.036133        0.774194       0.425024       0.032258   \n3                0.180556        0.750000       0.500000       0.000000   \n4                0.076923        0.666667       0.577350       0.000000   \n...                   ...             ...            ...            ...   \n112329           0.140000        0.333333       0.577350       0.000000   \n112330           0.097222        0.666667       0.577350       0.000000   \n112331           0.125000        0.333333       0.577350       0.000000   \n112332           0.222222        0.333333       0.577350       0.000000   \n112333           0.123967        0.333333       0.577350       0.000000   \n\n        was_1rub_std  \n0           0.000000  \n1           0.000000  \n2           0.179605  \n3           0.000000  \n4           0.000000  \n...              ...  \n112329      0.000000  \n112330      0.000000  \n112331      0.000000  \n112332      0.000000  \n112333      0.000000  \n\n[112334 rows x 66 columns]",
      "text/html": "<div>\n<style scoped>\n    .dataframe tbody tr th:only-of-type {\n        vertical-align: middle;\n    }\n\n    .dataframe tbody tr th {\n        vertical-align: top;\n    }\n\n    .dataframe thead th {\n        text-align: right;\n    }\n</style>\n<table border=\"1\" class=\"dataframe\">\n  <thead>\n    <tr style=\"text-align: right;\">\n      <th></th>\n      <th>customer_id</th>\n      <th>receipt_sum_mean</th>\n      <th>receipt_sum_std</th>\n      <th>receipt_count</th>\n      <th>items_receipt_mean</th>\n      <th>items_receipt_mean_std</th>\n      <th>sum_delta_min</th>\n      <th>sum_delta_max</th>\n      <th>sum_delta_mean</th>\n      <th>sum_delta_std</th>\n      <th>...</th>\n      <th>second_half_max</th>\n      <th>second_half_min</th>\n      <th>second_half_std</th>\n      <th>diff</th>\n      <th>ratio</th>\n      <th>cosine_similarity</th>\n      <th>was_promo_mean</th>\n      <th>was_promo_std</th>\n      <th>was_1rub_mean</th>\n      <th>was_1rub_std</th>\n    </tr>\n  </thead>\n  <tbody>\n    <tr>\n      <th>0</th>\n      <td>52341</td>\n      <td>563.942500</td>\n      <td>65.700330</td>\n      <td>4</td>\n      <td>7.000000</td>\n      <td>0.816497</td>\n      <td>-50.01</td>\n      <td>155.99</td>\n      <td>35.326667</td>\n      <td>107.447569</td>\n      <td>...</td>\n      <td>655.93</td>\n      <td>499.94</td>\n      <td>110.301587</td>\n      <td>27.985000</td>\n      <td>1.050886</td>\n      <td>0.109694</td>\n      <td>0.750000</td>\n      <td>0.500000</td>\n      <td>0.000000</td>\n      <td>0.000000</td>\n    </tr>\n    <tr>\n      <th>1</th>\n      <td>69175</td>\n      <td>430.306667</td>\n      <td>62.142941</td>\n      <td>9</td>\n      <td>5.444444</td>\n      <td>0.726483</td>\n      <td>-179.98</td>\n      <td>80.98</td>\n      <td>-10.498750</td>\n      <td>82.377989</td>\n      <td>...</td>\n      <td>480.96</td>\n      <td>374.98</td>\n      <td>47.429064</td>\n      <td>-11.098500</td>\n      <td>0.974572</td>\n      <td>0.083715</td>\n      <td>1.000000</td>\n      <td>0.000000</td>\n      <td>0.000000</td>\n      <td>0.000000</td>\n    </tr>\n    <tr>\n      <th>2</th>\n      <td>73427</td>\n      <td>254.240323</td>\n      <td>218.360745</td>\n      <td>31</td>\n      <td>2.064516</td>\n      <td>2.112431</td>\n      <td>-719.96</td>\n      <td>699.97</td>\n      <td>9.666667</td>\n      <td>349.223379</td>\n      <td>...</td>\n      <td>669.98</td>\n      <td>1.00</td>\n      <td>209.570345</td>\n      <td>32.792167</td>\n      <td>1.138180</td>\n      <td>0.036133</td>\n      <td>0.774194</td>\n      <td>0.425024</td>\n      <td>0.032258</td>\n      <td>0.179605</td>\n    </tr>\n    <tr>\n      <th>3</th>\n      <td>134577</td>\n      <td>372.970000</td>\n      <td>310.195853</td>\n      <td>4</td>\n      <td>3.000000</td>\n      <td>2.708013</td>\n      <td>-218.02</td>\n      <td>689.94</td>\n      <td>133.313333</td>\n      <td>487.551900</td>\n      <td>...</td>\n      <td>799.93</td>\n      <td>109.99</td>\n      <td>487.861253</td>\n      <td>163.980000</td>\n      <td>1.563544</td>\n      <td>0.180556</td>\n      <td>0.750000</td>\n      <td>0.500000</td>\n      <td>0.000000</td>\n      <td>0.000000</td>\n    </tr>\n    <tr>\n      <th>4</th>\n      <td>156357</td>\n      <td>558.963333</td>\n      <td>245.551523</td>\n      <td>3</td>\n      <td>4.333333</td>\n      <td>1.154701</td>\n      <td>-362.98</td>\n      <td>467.97</td>\n      <td>52.495000</td>\n      <td>587.570380</td>\n      <td>...</td>\n      <td>749.95</td>\n      <td>281.98</td>\n      <td>330.904760</td>\n      <td>-128.995000</td>\n      <td>0.799995</td>\n      <td>0.076923</td>\n      <td>0.666667</td>\n      <td>0.577350</td>\n      <td>0.000000</td>\n      <td>0.000000</td>\n    </tr>\n    <tr>\n      <th>...</th>\n      <td>...</td>\n      <td>...</td>\n      <td>...</td>\n      <td>...</td>\n      <td>...</td>\n      <td>...</td>\n      <td>...</td>\n      <td>...</td>\n      <td>...</td>\n      <td>...</td>\n      <td>...</td>\n      <td>...</td>\n      <td>...</td>\n      <td>...</td>\n      <td>...</td>\n      <td>...</td>\n      <td>...</td>\n      <td>...</td>\n      <td>...</td>\n      <td>...</td>\n      <td>...</td>\n    </tr>\n    <tr>\n      <th>112329</th>\n      <td>46540272</td>\n      <td>441.633333</td>\n      <td>324.487289</td>\n      <td>3</td>\n      <td>3.333333</td>\n      <td>2.516611</td>\n      <td>-384.97</td>\n      <td>-259.98</td>\n      <td>-322.475000</td>\n      <td>88.381277</td>\n      <td>...</td>\n      <td>399.97</td>\n      <td>139.99</td>\n      <td>183.833621</td>\n      <td>-514.960000</td>\n      <td>0.343950</td>\n      <td>0.140000</td>\n      <td>0.333333</td>\n      <td>0.577350</td>\n      <td>0.000000</td>\n      <td>0.000000</td>\n    </tr>\n    <tr>\n      <th>112330</th>\n      <td>46569275</td>\n      <td>377.313333</td>\n      <td>390.697752</td>\n      <td>3</td>\n      <td>4.000000</td>\n      <td>4.358899</td>\n      <td>-430.98</td>\n      <td>-348.98</td>\n      <td>-389.980000</td>\n      <td>57.982756</td>\n      <td>...</td>\n      <td>349.98</td>\n      <td>1.00</td>\n      <td>246.766124</td>\n      <td>-605.470000</td>\n      <td>0.224711</td>\n      <td>0.097222</td>\n      <td>0.666667</td>\n      <td>0.577350</td>\n      <td>0.000000</td>\n      <td>0.000000</td>\n    </tr>\n    <tr>\n      <th>112331</th>\n      <td>46601088</td>\n      <td>193.316667</td>\n      <td>101.526598</td>\n      <td>3</td>\n      <td>2.666667</td>\n      <td>2.081666</td>\n      <td>-165.00</td>\n      <td>-19.99</td>\n      <td>-92.495000</td>\n      <td>102.537554</td>\n      <td>...</td>\n      <td>144.98</td>\n      <td>124.99</td>\n      <td>14.135065</td>\n      <td>-174.995000</td>\n      <td>0.435464</td>\n      <td>0.125000</td>\n      <td>0.333333</td>\n      <td>0.577350</td>\n      <td>0.000000</td>\n      <td>0.000000</td>\n    </tr>\n    <tr>\n      <th>112332</th>\n      <td>46632765</td>\n      <td>246.650000</td>\n      <td>40.409983</td>\n      <td>3</td>\n      <td>2.000000</td>\n      <td>1.000000</td>\n      <td>-29.99</td>\n      <td>79.99</td>\n      <td>25.000000</td>\n      <td>77.767604</td>\n      <td>...</td>\n      <td>289.98</td>\n      <td>209.99</td>\n      <td>56.561471</td>\n      <td>10.005000</td>\n      <td>1.041691</td>\n      <td>0.222222</td>\n      <td>0.333333</td>\n      <td>0.577350</td>\n      <td>0.000000</td>\n      <td>0.000000</td>\n    </tr>\n    <tr>\n      <th>112333</th>\n      <td>46668221</td>\n      <td>609.966667</td>\n      <td>653.362917</td>\n      <td>3</td>\n      <td>3.666667</td>\n      <td>3.785939</td>\n      <td>-954.95</td>\n      <td>-294.99</td>\n      <td>-624.970000</td>\n      <td>466.662191</td>\n      <td>...</td>\n      <td>389.98</td>\n      <td>94.99</td>\n      <td>208.589429</td>\n      <td>-1102.445000</td>\n      <td>0.180296</td>\n      <td>0.123967</td>\n      <td>0.333333</td>\n      <td>0.577350</td>\n      <td>0.000000</td>\n      <td>0.000000</td>\n    </tr>\n  </tbody>\n</table>\n<p>112334 rows × 66 columns</p>\n</div>"
     },
     "execution_count": 92,
     "metadata": {},
     "output_type": "execute_result"
    }
   ],
   "source": [
    "www"
   ],
   "metadata": {
    "collapsed": false
   }
  },
  {
   "cell_type": "code",
   "execution_count": null,
   "outputs": [],
   "source": [],
   "metadata": {
    "collapsed": false
   }
  }
 ],
 "metadata": {
  "kernelspec": {
   "display_name": "Python 3",
   "language": "python",
   "name": "python3"
  },
  "language_info": {
   "codemirror_mode": {
    "name": "ipython",
    "version": 2
   },
   "file_extension": ".py",
   "mimetype": "text/x-python",
   "name": "python",
   "nbconvert_exporter": "python",
   "pygments_lexer": "ipython2",
   "version": "2.7.6"
  }
 },
 "nbformat": 4,
 "nbformat_minor": 0
}

{
 "cells": [
  {
   "cell_type": "code",
   "execution_count": 459,
   "id": "39a9cbf0",
   "metadata": {},
   "outputs": [],
   "source": [
    "import pandas as pd\n",
    "import numpy as np\n",
    "import plotly.express as px\n",
    "from sklearn.model_selection import train_test_split\n",
    "import lightgbm\n",
    "from sklearn.model_selection import KFold\n",
    "from sklearn.model_selection import StratifiedKFold\n",
    "from sklearn.model_selection import GroupKFold\n",
    "from sklearn.metrics import f1_score, roc_auc_score, classification_report, roc_curve, auc, recall_score, accuracy_score, precision_score\n",
    "from catboost import CatBoostClassifier\n",
    "import time\n",
    "import os\n",
    "from sklearn.linear_model import LogisticRegression"
   ]
  },
  {
   "cell_type": "code",
   "execution_count": 446,
   "id": "65272c38",
   "metadata": {},
   "outputs": [
    {
     "name": "stderr",
     "output_type": "stream",
     "text": [
      "/tmp/ipykernel_119769/437858164.py:1: DeprecationWarning:\n",
      "\n",
      "Importing display from IPython.core.display is deprecated since IPython 7.14, please import from IPython display\n",
      "\n",
      "/tmp/ipykernel_119769/437858164.py:1: DeprecationWarning:\n",
      "\n",
      "Importing clear_output from IPython.core.display is deprecated since IPython 7.14, please import from IPython display\n",
      "\n"
     ]
    },
    {
     "data": {
      "text/html": [
       "<style>.container { width:85% !important; }</style>"
      ],
      "text/plain": [
       "<IPython.core.display.HTML object>"
      ]
     },
     "metadata": {},
     "output_type": "display_data"
    },
    {
     "data": {
      "text/html": [
       "<style>.prompt { min-width:10ex !important; }</style>"
      ],
      "text/plain": [
       "<IPython.core.display.HTML object>"
      ]
     },
     "metadata": {},
     "output_type": "display_data"
    }
   ],
   "source": [
    "from IPython.core.display import display, HTML, clear_output\n",
    "display(HTML(\"<style>.container { width:85% !important; }</style>\"))\n",
    "display(HTML(\"<style>.prompt { min-width:10ex !important; }</style>\"))\n",
    "pd.set_option('display.max_rows', 1000)\n",
    "pd.set_option('display.max_columns', 1000)\n",
    "pd.set_option('display.float_format', lambda x: '%.6f' % x) "
   ]
  },
  {
   "cell_type": "code",
   "execution_count": 3,
   "id": "e15f4a89",
   "metadata": {},
   "outputs": [],
   "source": [
    "df_with_feats = pd.read_parquet(\"../data/train_with_feats_v4.parquet\")"
   ]
  },
  {
   "cell_type": "code",
   "execution_count": 4,
   "id": "782b80e2",
   "metadata": {},
   "outputs": [],
   "source": [
    "df_train, df_val = train_test_split(df_with_feats, test_size=0.2, random_state=42, stratify=df_with_feats.buy_post)"
   ]
  },
  {
   "cell_type": "code",
   "execution_count": 5,
   "id": "f8ab7ec1",
   "metadata": {},
   "outputs": [],
   "source": [
    "information_value = pd.read_csv('../data/feature_information_value.csv', sep=';')"
   ]
  },
  {
   "cell_type": "markdown",
   "id": "beee52dc",
   "metadata": {},
   "source": [
    "IV < 0,02 — отсутствует; \n",
    "\n",
    "0,02 ≤ IV <0,1 — низкая; \n",
    "\n",
    "0,1 ≤ IV < 0,3 — средняя; \n",
    "\n",
    "\n",
    "IV ≥ 0,3 — высокая. \n"
   ]
  },
  {
   "cell_type": "code",
   "execution_count": 6,
   "id": "fb9398e6",
   "metadata": {},
   "outputs": [
    {
     "data": {
      "text/plain": [
       "42"
      ]
     },
     "execution_count": 6,
     "metadata": {},
     "output_type": "execute_result"
    }
   ],
   "source": [
    "best_iv_feats = information_value[information_value[\"IV\"] >= 0.02].feature.values\n",
    "len(best_iv_feats)"
   ]
  },
  {
   "cell_type": "code",
   "execution_count": 7,
   "id": "6a4d8643",
   "metadata": {},
   "outputs": [
    {
     "data": {
      "text/html": [
       "<div>\n",
       "<style scoped>\n",
       "    .dataframe tbody tr th:only-of-type {\n",
       "        vertical-align: middle;\n",
       "    }\n",
       "\n",
       "    .dataframe tbody tr th {\n",
       "        vertical-align: top;\n",
       "    }\n",
       "\n",
       "    .dataframe thead th {\n",
       "        text-align: right;\n",
       "    }\n",
       "</style>\n",
       "<table border=\"1\" class=\"dataframe\">\n",
       "  <thead>\n",
       "    <tr style=\"text-align: right;\">\n",
       "      <th></th>\n",
       "      <th>feature</th>\n",
       "      <th>IV</th>\n",
       "    </tr>\n",
       "  </thead>\n",
       "  <tbody>\n",
       "    <tr>\n",
       "      <th>62</th>\n",
       "      <td>receipt_count</td>\n",
       "      <td>0.430457</td>\n",
       "    </tr>\n",
       "    <tr>\n",
       "      <th>30</th>\n",
       "      <td>weekends_std</td>\n",
       "      <td>0.243150</td>\n",
       "    </tr>\n",
       "    <tr>\n",
       "      <th>69</th>\n",
       "      <td>strange_std</td>\n",
       "      <td>0.237534</td>\n",
       "    </tr>\n",
       "    <tr>\n",
       "      <th>47</th>\n",
       "      <td>dom_std</td>\n",
       "      <td>0.161640</td>\n",
       "    </tr>\n",
       "    <tr>\n",
       "      <th>1</th>\n",
       "      <td>revenue_sum_count_14d</td>\n",
       "      <td>0.155249</td>\n",
       "    </tr>\n",
       "    <tr>\n",
       "      <th>65</th>\n",
       "      <td>revenue_sum_count_28d</td>\n",
       "      <td>0.155249</td>\n",
       "    </tr>\n",
       "    <tr>\n",
       "      <th>3</th>\n",
       "      <td>revenue_sum_count_7d</td>\n",
       "      <td>0.155249</td>\n",
       "    </tr>\n",
       "    <tr>\n",
       "      <th>35</th>\n",
       "      <td>was_promo_std</td>\n",
       "      <td>0.120205</td>\n",
       "    </tr>\n",
       "    <tr>\n",
       "      <th>46</th>\n",
       "      <td>fun_sum</td>\n",
       "      <td>0.105191</td>\n",
       "    </tr>\n",
       "    <tr>\n",
       "      <th>88</th>\n",
       "      <td>dow_std</td>\n",
       "      <td>0.097692</td>\n",
       "    </tr>\n",
       "    <tr>\n",
       "      <th>97</th>\n",
       "      <td>abs_sum_delta_mean</td>\n",
       "      <td>0.097432</td>\n",
       "    </tr>\n",
       "    <tr>\n",
       "      <th>15</th>\n",
       "      <td>was_rec_std</td>\n",
       "      <td>0.090511</td>\n",
       "    </tr>\n",
       "    <tr>\n",
       "      <th>95</th>\n",
       "      <td>items_count_sum_14d</td>\n",
       "      <td>0.088741</td>\n",
       "    </tr>\n",
       "    <tr>\n",
       "      <th>36</th>\n",
       "      <td>items_count_sum_28d</td>\n",
       "      <td>0.088741</td>\n",
       "    </tr>\n",
       "    <tr>\n",
       "      <th>14</th>\n",
       "      <td>items_count_sum_7d</td>\n",
       "      <td>0.088741</td>\n",
       "    </tr>\n",
       "    <tr>\n",
       "      <th>42</th>\n",
       "      <td>strange_mean</td>\n",
       "      <td>0.085361</td>\n",
       "    </tr>\n",
       "    <tr>\n",
       "      <th>84</th>\n",
       "      <td>sum_delta_mean</td>\n",
       "      <td>0.081003</td>\n",
       "    </tr>\n",
       "    <tr>\n",
       "      <th>72</th>\n",
       "      <td>dom_mean</td>\n",
       "      <td>0.078925</td>\n",
       "    </tr>\n",
       "    <tr>\n",
       "      <th>11</th>\n",
       "      <td>count_delta_max</td>\n",
       "      <td>0.078453</td>\n",
       "    </tr>\n",
       "    <tr>\n",
       "      <th>22</th>\n",
       "      <td>count_delta_mean</td>\n",
       "      <td>0.077059</td>\n",
       "    </tr>\n",
       "    <tr>\n",
       "      <th>101</th>\n",
       "      <td>sum_delta_max</td>\n",
       "      <td>0.065213</td>\n",
       "    </tr>\n",
       "    <tr>\n",
       "      <th>61</th>\n",
       "      <td>first_half_min</td>\n",
       "      <td>0.059577</td>\n",
       "    </tr>\n",
       "    <tr>\n",
       "      <th>76</th>\n",
       "      <td>dom_median</td>\n",
       "      <td>0.057772</td>\n",
       "    </tr>\n",
       "    <tr>\n",
       "      <th>18</th>\n",
       "      <td>abs_count_delta_mean</td>\n",
       "      <td>0.052973</td>\n",
       "    </tr>\n",
       "    <tr>\n",
       "      <th>48</th>\n",
       "      <td>weekends_mean</td>\n",
       "      <td>0.049743</td>\n",
       "    </tr>\n",
       "    <tr>\n",
       "      <th>96</th>\n",
       "      <td>cosine_similarity</td>\n",
       "      <td>0.047049</td>\n",
       "    </tr>\n",
       "    <tr>\n",
       "      <th>68</th>\n",
       "      <td>revenue_sum_sum_14d</td>\n",
       "      <td>0.043770</td>\n",
       "    </tr>\n",
       "    <tr>\n",
       "      <th>81</th>\n",
       "      <td>revenue_sum_sum_28d</td>\n",
       "      <td>0.043770</td>\n",
       "    </tr>\n",
       "    <tr>\n",
       "      <th>21</th>\n",
       "      <td>revenue_sum_sum_7d</td>\n",
       "      <td>0.043770</td>\n",
       "    </tr>\n",
       "    <tr>\n",
       "      <th>66</th>\n",
       "      <td>minutes_std</td>\n",
       "      <td>0.042768</td>\n",
       "    </tr>\n",
       "    <tr>\n",
       "      <th>33</th>\n",
       "      <td>minutes_var</td>\n",
       "      <td>0.042768</td>\n",
       "    </tr>\n",
       "    <tr>\n",
       "      <th>56</th>\n",
       "      <td>count_delta_min</td>\n",
       "      <td>0.037541</td>\n",
       "    </tr>\n",
       "    <tr>\n",
       "      <th>39</th>\n",
       "      <td>was_promo_mean</td>\n",
       "      <td>0.034826</td>\n",
       "    </tr>\n",
       "    <tr>\n",
       "      <th>9</th>\n",
       "      <td>ratio</td>\n",
       "      <td>0.031495</td>\n",
       "    </tr>\n",
       "    <tr>\n",
       "      <th>54</th>\n",
       "      <td>sqm_place_sem</td>\n",
       "      <td>0.030976</td>\n",
       "    </tr>\n",
       "    <tr>\n",
       "      <th>75</th>\n",
       "      <td>minutes_sem</td>\n",
       "      <td>0.030169</td>\n",
       "    </tr>\n",
       "    <tr>\n",
       "      <th>20</th>\n",
       "      <td>diff</td>\n",
       "      <td>0.027565</td>\n",
       "    </tr>\n",
       "    <tr>\n",
       "      <th>38</th>\n",
       "      <td>is_burger_std</td>\n",
       "      <td>0.027302</td>\n",
       "    </tr>\n",
       "    <tr>\n",
       "      <th>52</th>\n",
       "      <td>dow_mean</td>\n",
       "      <td>0.027288</td>\n",
       "    </tr>\n",
       "    <tr>\n",
       "      <th>93</th>\n",
       "      <td>count_delta_std</td>\n",
       "      <td>0.024725</td>\n",
       "    </tr>\n",
       "    <tr>\n",
       "      <th>17</th>\n",
       "      <td>sum_delta_min</td>\n",
       "      <td>0.021761</td>\n",
       "    </tr>\n",
       "    <tr>\n",
       "      <th>103</th>\n",
       "      <td>fun_std</td>\n",
       "      <td>0.021617</td>\n",
       "    </tr>\n",
       "  </tbody>\n",
       "</table>\n",
       "</div>"
      ],
      "text/plain": [
       "                   feature       IV\n",
       "62           receipt_count 0.430457\n",
       "30            weekends_std 0.243150\n",
       "69             strange_std 0.237534\n",
       "47                 dom_std 0.161640\n",
       "1    revenue_sum_count_14d 0.155249\n",
       "65   revenue_sum_count_28d 0.155249\n",
       "3     revenue_sum_count_7d 0.155249\n",
       "35           was_promo_std 0.120205\n",
       "46                 fun_sum 0.105191\n",
       "88                 dow_std 0.097692\n",
       "97      abs_sum_delta_mean 0.097432\n",
       "15             was_rec_std 0.090511\n",
       "95     items_count_sum_14d 0.088741\n",
       "36     items_count_sum_28d 0.088741\n",
       "14      items_count_sum_7d 0.088741\n",
       "42            strange_mean 0.085361\n",
       "84          sum_delta_mean 0.081003\n",
       "72                dom_mean 0.078925\n",
       "11         count_delta_max 0.078453\n",
       "22        count_delta_mean 0.077059\n",
       "101          sum_delta_max 0.065213\n",
       "61          first_half_min 0.059577\n",
       "76              dom_median 0.057772\n",
       "18    abs_count_delta_mean 0.052973\n",
       "48           weekends_mean 0.049743\n",
       "96       cosine_similarity 0.047049\n",
       "68     revenue_sum_sum_14d 0.043770\n",
       "81     revenue_sum_sum_28d 0.043770\n",
       "21      revenue_sum_sum_7d 0.043770\n",
       "66             minutes_std 0.042768\n",
       "33             minutes_var 0.042768\n",
       "56         count_delta_min 0.037541\n",
       "39          was_promo_mean 0.034826\n",
       "9                    ratio 0.031495\n",
       "54           sqm_place_sem 0.030976\n",
       "75             minutes_sem 0.030169\n",
       "20                    diff 0.027565\n",
       "38           is_burger_std 0.027302\n",
       "52                dow_mean 0.027288\n",
       "93         count_delta_std 0.024725\n",
       "17           sum_delta_min 0.021761\n",
       "103                fun_std 0.021617"
      ]
     },
     "execution_count": 7,
     "metadata": {},
     "output_type": "execute_result"
    }
   ],
   "source": [
    "information_value[information_value[\"IV\"] >= 0.02].sort_values(by=\"IV\", ascending=False)"
   ]
  },
  {
   "cell_type": "markdown",
   "id": "9bbc386c",
   "metadata": {},
   "source": [
    "### Modeling [gain]\n",
    "\n",
    "importance by gain"
   ]
  },
  {
   "cell_type": "code",
   "execution_count": 8,
   "id": "eec65e9f",
   "metadata": {
    "scrolled": true
   },
   "outputs": [
    {
     "data": {
      "text/plain": [
       "buy_post\n",
       "1    287276\n",
       "0    112724\n",
       "Name: count, dtype: int64"
      ]
     },
     "execution_count": 8,
     "metadata": {},
     "output_type": "execute_result"
    }
   ],
   "source": [
    "df_train[\"buy_post\"].value_counts()"
   ]
  },
  {
   "cell_type": "code",
   "execution_count": 9,
   "id": "4d94ec6a",
   "metadata": {},
   "outputs": [],
   "source": [
    "scale_pos_weight = 112724/ 287276"
   ]
  },
  {
   "cell_type": "code",
   "execution_count": 10,
   "id": "38a01b7f",
   "metadata": {},
   "outputs": [],
   "source": [
    "params = {\n",
    "    'boosting_type': 'gbdt',\n",
    "    'objective': 'binary',\n",
    "    'metric': \"binary\",\n",
    "    'num_leaves': 50,\n",
    "    'max_depth': 20,\n",
    "    'learning_rate': 0.15,\n",
    "    'colsample_bytree': 0.8,\n",
    "    'subsample': 0.8,\n",
    "    'subsample_freq': 1,\n",
    "    'min_child_samples': 50,\n",
    "    'n_jobs': 4,\n",
    "    'n_estimators': 300,\n",
    "    'scale_pos_weight': scale_pos_weight,\n",
    "    'class_weight': None,\n",
    "    'colsample_bytree': 0.8,\n",
    "    'importance_type': 'gain',\n",
    "    'min_child_samples': 50,\n",
    "    'min_child_weight': 0.001,\n",
    "    'min_split_gain': 0.0,\n",
    "    'random_state': None,\n",
    "    'reg_alpha': 0.0,\n",
    "    'reg_lambda': 0.0,\n",
    "    'subsample_for_bin': 200000,\n",
    "}"
   ]
  },
  {
   "cell_type": "code",
   "execution_count": 11,
   "id": "e90e811b",
   "metadata": {},
   "outputs": [
    {
     "data": {
      "text/plain": [
       "108"
      ]
     },
     "execution_count": 11,
     "metadata": {},
     "output_type": "execute_result"
    }
   ],
   "source": [
    "current_feats = information_value.feature.values\n",
    "len(current_feats)"
   ]
  },
  {
   "cell_type": "code",
   "execution_count": 12,
   "id": "ba093e67",
   "metadata": {},
   "outputs": [],
   "source": [
    "lgbm_model = lightgbm.LGBMModel(**params)"
   ]
  },
  {
   "cell_type": "code",
   "execution_count": 13,
   "id": "fdfe75c6",
   "metadata": {},
   "outputs": [
    {
     "name": "stdout",
     "output_type": "stream",
     "text": [
      "[LightGBM] [Info] Number of positive: 287276, number of negative: 112724\n",
      "[LightGBM] [Info] Auto-choosing col-wise multi-threading, the overhead of testing was 0.296436 seconds.\n",
      "You can set `force_col_wise=true` to remove the overhead.\n",
      "[LightGBM] [Info] Total Bins 22195\n",
      "[LightGBM] [Info] Number of data points in the train set: 400000, number of used features: 108\n",
      "[LightGBM] [Info] [binary:BoostFromScore]: pavg=0.718190 -> initscore=0.935501\n",
      "[LightGBM] [Info] Start training from score 0.935501\n"
     ]
    },
    {
     "data": {
      "text/html": [
       "<style>#sk-container-id-1 {color: black;}#sk-container-id-1 pre{padding: 0;}#sk-container-id-1 div.sk-toggleable {background-color: white;}#sk-container-id-1 label.sk-toggleable__label {cursor: pointer;display: block;width: 100%;margin-bottom: 0;padding: 0.3em;box-sizing: border-box;text-align: center;}#sk-container-id-1 label.sk-toggleable__label-arrow:before {content: \"▸\";float: left;margin-right: 0.25em;color: #696969;}#sk-container-id-1 label.sk-toggleable__label-arrow:hover:before {color: black;}#sk-container-id-1 div.sk-estimator:hover label.sk-toggleable__label-arrow:before {color: black;}#sk-container-id-1 div.sk-toggleable__content {max-height: 0;max-width: 0;overflow: hidden;text-align: left;background-color: #f0f8ff;}#sk-container-id-1 div.sk-toggleable__content pre {margin: 0.2em;color: black;border-radius: 0.25em;background-color: #f0f8ff;}#sk-container-id-1 input.sk-toggleable__control:checked~div.sk-toggleable__content {max-height: 200px;max-width: 100%;overflow: auto;}#sk-container-id-1 input.sk-toggleable__control:checked~label.sk-toggleable__label-arrow:before {content: \"▾\";}#sk-container-id-1 div.sk-estimator input.sk-toggleable__control:checked~label.sk-toggleable__label {background-color: #d4ebff;}#sk-container-id-1 div.sk-label input.sk-toggleable__control:checked~label.sk-toggleable__label {background-color: #d4ebff;}#sk-container-id-1 input.sk-hidden--visually {border: 0;clip: rect(1px 1px 1px 1px);clip: rect(1px, 1px, 1px, 1px);height: 1px;margin: -1px;overflow: hidden;padding: 0;position: absolute;width: 1px;}#sk-container-id-1 div.sk-estimator {font-family: monospace;background-color: #f0f8ff;border: 1px dotted black;border-radius: 0.25em;box-sizing: border-box;margin-bottom: 0.5em;}#sk-container-id-1 div.sk-estimator:hover {background-color: #d4ebff;}#sk-container-id-1 div.sk-parallel-item::after {content: \"\";width: 100%;border-bottom: 1px solid gray;flex-grow: 1;}#sk-container-id-1 div.sk-label:hover label.sk-toggleable__label {background-color: #d4ebff;}#sk-container-id-1 div.sk-serial::before {content: \"\";position: absolute;border-left: 1px solid gray;box-sizing: border-box;top: 0;bottom: 0;left: 50%;z-index: 0;}#sk-container-id-1 div.sk-serial {display: flex;flex-direction: column;align-items: center;background-color: white;padding-right: 0.2em;padding-left: 0.2em;position: relative;}#sk-container-id-1 div.sk-item {position: relative;z-index: 1;}#sk-container-id-1 div.sk-parallel {display: flex;align-items: stretch;justify-content: center;background-color: white;position: relative;}#sk-container-id-1 div.sk-item::before, #sk-container-id-1 div.sk-parallel-item::before {content: \"\";position: absolute;border-left: 1px solid gray;box-sizing: border-box;top: 0;bottom: 0;left: 50%;z-index: -1;}#sk-container-id-1 div.sk-parallel-item {display: flex;flex-direction: column;z-index: 1;position: relative;background-color: white;}#sk-container-id-1 div.sk-parallel-item:first-child::after {align-self: flex-end;width: 50%;}#sk-container-id-1 div.sk-parallel-item:last-child::after {align-self: flex-start;width: 50%;}#sk-container-id-1 div.sk-parallel-item:only-child::after {width: 0;}#sk-container-id-1 div.sk-dashed-wrapped {border: 1px dashed gray;margin: 0 0.4em 0.5em 0.4em;box-sizing: border-box;padding-bottom: 0.4em;background-color: white;}#sk-container-id-1 div.sk-label label {font-family: monospace;font-weight: bold;display: inline-block;line-height: 1.2em;}#sk-container-id-1 div.sk-label-container {text-align: center;}#sk-container-id-1 div.sk-container {/* jupyter's `normalize.less` sets `[hidden] { display: none; }` but bootstrap.min.css set `[hidden] { display: none !important; }` so we also need the `!important` here to be able to override the default hidden behavior on the sphinx rendered scikit-learn.org. See: https://github.com/scikit-learn/scikit-learn/issues/21755 */display: inline-block !important;position: relative;}#sk-container-id-1 div.sk-text-repr-fallback {display: none;}</style><div id=\"sk-container-id-1\" class=\"sk-top-container\"><div class=\"sk-text-repr-fallback\"><pre>LGBMModel(colsample_bytree=0.8, importance_type=&#x27;gain&#x27;, learning_rate=0.15,\n",
       "          max_depth=20, metric=&#x27;binary&#x27;, min_child_samples=50, n_estimators=300,\n",
       "          n_jobs=4, num_leaves=50, objective=&#x27;binary&#x27;,\n",
       "          scale_pos_weight=0.3923892006293599, subsample=0.8, subsample_freq=1)</pre><b>In a Jupyter environment, please rerun this cell to show the HTML representation or trust the notebook. <br />On GitHub, the HTML representation is unable to render, please try loading this page with nbviewer.org.</b></div><div class=\"sk-container\" hidden><div class=\"sk-item\"><div class=\"sk-estimator sk-toggleable\"><input class=\"sk-toggleable__control sk-hidden--visually\" id=\"sk-estimator-id-1\" type=\"checkbox\" checked><label for=\"sk-estimator-id-1\" class=\"sk-toggleable__label sk-toggleable__label-arrow\">LGBMModel</label><div class=\"sk-toggleable__content\"><pre>LGBMModel(colsample_bytree=0.8, importance_type=&#x27;gain&#x27;, learning_rate=0.15,\n",
       "          max_depth=20, metric=&#x27;binary&#x27;, min_child_samples=50, n_estimators=300,\n",
       "          n_jobs=4, num_leaves=50, objective=&#x27;binary&#x27;,\n",
       "          scale_pos_weight=0.3923892006293599, subsample=0.8, subsample_freq=1)</pre></div></div></div></div></div>"
      ],
      "text/plain": [
       "LGBMModel(colsample_bytree=0.8, importance_type='gain', learning_rate=0.15,\n",
       "          max_depth=20, metric='binary', min_child_samples=50, n_estimators=300,\n",
       "          n_jobs=4, num_leaves=50, objective='binary',\n",
       "          scale_pos_weight=0.3923892006293599, subsample=0.8, subsample_freq=1)"
      ]
     },
     "execution_count": 13,
     "metadata": {},
     "output_type": "execute_result"
    }
   ],
   "source": [
    "lgbm_model.fit(df_train[current_feats], df_train[\"buy_post\"], )"
   ]
  },
  {
   "cell_type": "code",
   "execution_count": 14,
   "id": "da2359ab",
   "metadata": {},
   "outputs": [],
   "source": [
    "y_pred_lgbm = lgbm_model.predict(df_val[current_feats])"
   ]
  },
  {
   "cell_type": "code",
   "execution_count": 15,
   "id": "ad623319",
   "metadata": {},
   "outputs": [],
   "source": [
    "def with_cutoff(y_pred, cut_off):\n",
    "    return [int(x > cut_off) for x in y_pred]"
   ]
  },
  {
   "cell_type": "code",
   "execution_count": 16,
   "id": "55d6cbe3",
   "metadata": {
    "scrolled": false
   },
   "outputs": [
    {
     "name": "stdout",
     "output_type": "stream",
     "text": [
      "              precision    recall  f1-score   support\n",
      "\n",
      "           0       0.43      0.68      0.52     28181\n",
      "           1       0.84      0.64      0.72     71819\n",
      "\n",
      "    accuracy                           0.65    100000\n",
      "   macro avg       0.63      0.66      0.62    100000\n",
      "weighted avg       0.72      0.65      0.67    100000\n",
      "\n"
     ]
    }
   ],
   "source": [
    "current_cut_off = 0.5\n",
    "\n",
    "print(classification_report(df_val[\"buy_post\"], with_cutoff(y_pred_lgbm, current_cut_off)))"
   ]
  },
  {
   "cell_type": "code",
   "execution_count": 17,
   "id": "dfda7327",
   "metadata": {},
   "outputs": [
    {
     "data": {
      "text/plain": [
       "0.7234429482972651"
      ]
     },
     "execution_count": 17,
     "metadata": {},
     "output_type": "execute_result"
    }
   ],
   "source": [
    "f1_score(df_val[\"buy_post\"], with_cutoff(y_pred_lgbm, current_cut_off))"
   ]
  },
  {
   "cell_type": "code",
   "execution_count": 18,
   "id": "3b48292a",
   "metadata": {},
   "outputs": [
    {
     "data": {
      "text/plain": [
       "0.7246865524565382"
      ]
     },
     "execution_count": 18,
     "metadata": {},
     "output_type": "execute_result"
    }
   ],
   "source": [
    "roc_auc_score(df_val[\"buy_post\"], y_pred_lgbm)"
   ]
  },
  {
   "cell_type": "code",
   "execution_count": 19,
   "id": "009d2c37",
   "metadata": {},
   "outputs": [],
   "source": [
    "def get_feats_importances(model, type_):\n",
    "    df = pd.DataFrame()\n",
    "    df[\"feature\"] = model.feature_name_\n",
    "    df[type_] = model.feature_importances_\n",
    "    df = df.merge(information_value, on=\"feature\", how=\"inner\")\n",
    "    return df"
   ]
  },
  {
   "cell_type": "code",
   "execution_count": 20,
   "id": "480e8377",
   "metadata": {},
   "outputs": [],
   "source": [
    "imp_gain = get_feats_importances(lgbm_model, \"gain\")"
   ]
  },
  {
   "cell_type": "markdown",
   "id": "de62e86c",
   "metadata": {},
   "source": [
    "### Modeling [splits]\n",
    "\n",
    "importance by splits"
   ]
  },
  {
   "cell_type": "code",
   "execution_count": 21,
   "id": "34ad5846",
   "metadata": {},
   "outputs": [],
   "source": [
    "params = {\n",
    "    'boosting_type': 'gbdt',\n",
    "    'objective': 'binary',\n",
    "    'metric': \"binary\",\n",
    "    'num_leaves': 50,\n",
    "    'max_depth': 20,\n",
    "    'learning_rate': 0.15,\n",
    "    'colsample_bytree': 0.8,\n",
    "    'subsample': 0.8,\n",
    "    'subsample_freq': 1,\n",
    "    'min_child_samples': 50,\n",
    "    'n_jobs': 4,\n",
    "    'n_estimators': 300,\n",
    "    'scale_pos_weight': scale_pos_weight,\n",
    "    'class_weight': None,\n",
    "    'colsample_bytree': 0.8,\n",
    "    'importance_type': 'split',\n",
    "    'min_child_samples': 50,\n",
    "    'min_child_weight': 0.001,\n",
    "    'min_split_gain': 0.0,\n",
    "    'random_state': None,\n",
    "    'reg_alpha': 0.0,\n",
    "    'reg_lambda': 0.0,\n",
    "    'subsample_for_bin': 200000,\n",
    "}"
   ]
  },
  {
   "cell_type": "code",
   "execution_count": 22,
   "id": "5b19019e",
   "metadata": {},
   "outputs": [
    {
     "name": "stdout",
     "output_type": "stream",
     "text": [
      "[LightGBM] [Info] Number of positive: 287276, number of negative: 112724\n",
      "[LightGBM] [Info] Auto-choosing col-wise multi-threading, the overhead of testing was 0.184366 seconds.\n",
      "You can set `force_col_wise=true` to remove the overhead.\n",
      "[LightGBM] [Info] Total Bins 22195\n",
      "[LightGBM] [Info] Number of data points in the train set: 400000, number of used features: 108\n",
      "[LightGBM] [Info] [binary:BoostFromScore]: pavg=0.718190 -> initscore=0.935501\n",
      "[LightGBM] [Info] Start training from score 0.935501\n"
     ]
    }
   ],
   "source": [
    "lgbm_model = lightgbm.LGBMModel(**params)\n",
    "lgbm_model.fit(df_train[current_feats], df_train[\"buy_post\"], )\n",
    "y_pred_lgbm = lgbm_model.predict(df_val[current_feats])"
   ]
  },
  {
   "cell_type": "code",
   "execution_count": 23,
   "id": "0fa89717",
   "metadata": {},
   "outputs": [],
   "source": [
    "imp_splits = get_feats_importances(lgbm_model, \"split\")"
   ]
  },
  {
   "cell_type": "code",
   "execution_count": 24,
   "id": "aee2636a",
   "metadata": {},
   "outputs": [],
   "source": [
    "df_imp = imp_gain.merge(imp_splits[['feature', 'split']], on='feature', how='left')"
   ]
  },
  {
   "cell_type": "markdown",
   "id": "b8752cd4",
   "metadata": {},
   "source": [
    "### Feature selection\n",
    "\n",
    "Выбрать топ 30 фичей по каждому importance"
   ]
  },
  {
   "cell_type": "code",
   "execution_count": 273,
   "id": "2b624b6a",
   "metadata": {},
   "outputs": [],
   "source": [
    "top = 30"
   ]
  },
  {
   "cell_type": "code",
   "execution_count": 274,
   "id": "8c2b03d1",
   "metadata": {
    "scrolled": false
   },
   "outputs": [
    {
     "data": {
      "text/html": [
       "<div>\n",
       "<style scoped>\n",
       "    .dataframe tbody tr th:only-of-type {\n",
       "        vertical-align: middle;\n",
       "    }\n",
       "\n",
       "    .dataframe tbody tr th {\n",
       "        vertical-align: top;\n",
       "    }\n",
       "\n",
       "    .dataframe thead th {\n",
       "        text-align: right;\n",
       "    }\n",
       "</style>\n",
       "<table border=\"1\" class=\"dataframe\">\n",
       "  <thead>\n",
       "    <tr style=\"text-align: right;\">\n",
       "      <th></th>\n",
       "      <th>index</th>\n",
       "      <th>feature</th>\n",
       "      <th>gain</th>\n",
       "      <th>IV</th>\n",
       "      <th>split</th>\n",
       "    </tr>\n",
       "  </thead>\n",
       "  <tbody>\n",
       "    <tr>\n",
       "      <th>0</th>\n",
       "      <td>62</td>\n",
       "      <td>receipt_count</td>\n",
       "      <td>56311.500502</td>\n",
       "      <td>0.430457</td>\n",
       "      <td>224</td>\n",
       "    </tr>\n",
       "    <tr>\n",
       "      <th>1</th>\n",
       "      <td>47</td>\n",
       "      <td>dom_std</td>\n",
       "      <td>16949.701377</td>\n",
       "      <td>0.161640</td>\n",
       "      <td>449</td>\n",
       "    </tr>\n",
       "    <tr>\n",
       "      <th>2</th>\n",
       "      <td>1</td>\n",
       "      <td>revenue_sum_count_14d</td>\n",
       "      <td>16784.860393</td>\n",
       "      <td>0.155249</td>\n",
       "      <td>218</td>\n",
       "    </tr>\n",
       "    <tr>\n",
       "      <th>3</th>\n",
       "      <td>102</td>\n",
       "      <td>first_half_std</td>\n",
       "      <td>11165.476215</td>\n",
       "      <td>0.012299</td>\n",
       "      <td>290</td>\n",
       "    </tr>\n",
       "    <tr>\n",
       "      <th>4</th>\n",
       "      <td>72</td>\n",
       "      <td>dom_mean</td>\n",
       "      <td>7771.655986</td>\n",
       "      <td>0.078925</td>\n",
       "      <td>408</td>\n",
       "    </tr>\n",
       "    <tr>\n",
       "      <th>5</th>\n",
       "      <td>69</td>\n",
       "      <td>strange_std</td>\n",
       "      <td>3399.754175</td>\n",
       "      <td>0.237534</td>\n",
       "      <td>93</td>\n",
       "    </tr>\n",
       "    <tr>\n",
       "      <th>6</th>\n",
       "      <td>76</td>\n",
       "      <td>dom_median</td>\n",
       "      <td>2866.159276</td>\n",
       "      <td>0.057772</td>\n",
       "      <td>260</td>\n",
       "    </tr>\n",
       "    <tr>\n",
       "      <th>7</th>\n",
       "      <td>3</td>\n",
       "      <td>revenue_sum_count_7d</td>\n",
       "      <td>2708.055741</td>\n",
       "      <td>0.155249</td>\n",
       "      <td>24</td>\n",
       "    </tr>\n",
       "    <tr>\n",
       "      <th>8</th>\n",
       "      <td>12</td>\n",
       "      <td>minutes_mean</td>\n",
       "      <td>2701.207575</td>\n",
       "      <td>0.003522</td>\n",
       "      <td>393</td>\n",
       "    </tr>\n",
       "    <tr>\n",
       "      <th>9</th>\n",
       "      <td>105</td>\n",
       "      <td>second_half_min</td>\n",
       "      <td>2368.588671</td>\n",
       "      <td>0.003584</td>\n",
       "      <td>255</td>\n",
       "    </tr>\n",
       "    <tr>\n",
       "      <th>10</th>\n",
       "      <td>46</td>\n",
       "      <td>fun_sum</td>\n",
       "      <td>2316.142232</td>\n",
       "      <td>0.105191</td>\n",
       "      <td>98</td>\n",
       "    </tr>\n",
       "    <tr>\n",
       "      <th>11</th>\n",
       "      <td>42</td>\n",
       "      <td>strange_mean</td>\n",
       "      <td>2241.358869</td>\n",
       "      <td>0.085361</td>\n",
       "      <td>136</td>\n",
       "    </tr>\n",
       "    <tr>\n",
       "      <th>12</th>\n",
       "      <td>96</td>\n",
       "      <td>cosine_similarity</td>\n",
       "      <td>2194.801603</td>\n",
       "      <td>0.047049</td>\n",
       "      <td>313</td>\n",
       "    </tr>\n",
       "    <tr>\n",
       "      <th>13</th>\n",
       "      <td>55</td>\n",
       "      <td>items_receipt_mean</td>\n",
       "      <td>2135.157802</td>\n",
       "      <td>0.008995</td>\n",
       "      <td>246</td>\n",
       "    </tr>\n",
       "    <tr>\n",
       "      <th>14</th>\n",
       "      <td>104</td>\n",
       "      <td>sqm_place_mean</td>\n",
       "      <td>2119.673971</td>\n",
       "      <td>0.002517</td>\n",
       "      <td>314</td>\n",
       "    </tr>\n",
       "    <tr>\n",
       "      <th>15</th>\n",
       "      <td>31</td>\n",
       "      <td>revenue_sum_std_7d</td>\n",
       "      <td>2026.566039</td>\n",
       "      <td>0.005667</td>\n",
       "      <td>287</td>\n",
       "    </tr>\n",
       "    <tr>\n",
       "      <th>16</th>\n",
       "      <td>88</td>\n",
       "      <td>dow_std</td>\n",
       "      <td>1966.466406</td>\n",
       "      <td>0.097692</td>\n",
       "      <td>229</td>\n",
       "    </tr>\n",
       "    <tr>\n",
       "      <th>17</th>\n",
       "      <td>45</td>\n",
       "      <td>drink_size_std</td>\n",
       "      <td>1889.058445</td>\n",
       "      <td>0.008098</td>\n",
       "      <td>230</td>\n",
       "    </tr>\n",
       "    <tr>\n",
       "      <th>18</th>\n",
       "      <td>21</td>\n",
       "      <td>revenue_sum_sum_7d</td>\n",
       "      <td>1882.393075</td>\n",
       "      <td>0.043770</td>\n",
       "      <td>261</td>\n",
       "    </tr>\n",
       "    <tr>\n",
       "      <th>19</th>\n",
       "      <td>2</td>\n",
       "      <td>items_count_std_14d</td>\n",
       "      <td>1786.192909</td>\n",
       "      <td>0.001754</td>\n",
       "      <td>253</td>\n",
       "    </tr>\n",
       "    <tr>\n",
       "      <th>20</th>\n",
       "      <td>75</td>\n",
       "      <td>minutes_sem</td>\n",
       "      <td>1627.498317</td>\n",
       "      <td>0.030169</td>\n",
       "      <td>232</td>\n",
       "    </tr>\n",
       "    <tr>\n",
       "      <th>21</th>\n",
       "      <td>33</td>\n",
       "      <td>minutes_var</td>\n",
       "      <td>1621.148796</td>\n",
       "      <td>0.042768</td>\n",
       "      <td>228</td>\n",
       "    </tr>\n",
       "    <tr>\n",
       "      <th>22</th>\n",
       "      <td>97</td>\n",
       "      <td>abs_sum_delta_mean</td>\n",
       "      <td>1584.721308</td>\n",
       "      <td>0.097432</td>\n",
       "      <td>222</td>\n",
       "    </tr>\n",
       "    <tr>\n",
       "      <th>23</th>\n",
       "      <td>38</td>\n",
       "      <td>is_burger_std</td>\n",
       "      <td>1575.387100</td>\n",
       "      <td>0.027302</td>\n",
       "      <td>221</td>\n",
       "    </tr>\n",
       "    <tr>\n",
       "      <th>24</th>\n",
       "      <td>13</td>\n",
       "      <td>is_burger_mean</td>\n",
       "      <td>1528.010887</td>\n",
       "      <td>0.003036</td>\n",
       "      <td>221</td>\n",
       "    </tr>\n",
       "    <tr>\n",
       "      <th>25</th>\n",
       "      <td>32</td>\n",
       "      <td>is_drink_std</td>\n",
       "      <td>1522.034653</td>\n",
       "      <td>0.015697</td>\n",
       "      <td>179</td>\n",
       "    </tr>\n",
       "    <tr>\n",
       "      <th>26</th>\n",
       "      <td>57</td>\n",
       "      <td>is_potato_mean</td>\n",
       "      <td>1512.050090</td>\n",
       "      <td>0.004363</td>\n",
       "      <td>204</td>\n",
       "    </tr>\n",
       "    <tr>\n",
       "      <th>27</th>\n",
       "      <td>60</td>\n",
       "      <td>fun_mean</td>\n",
       "      <td>1470.941219</td>\n",
       "      <td>0.009084</td>\n",
       "      <td>143</td>\n",
       "    </tr>\n",
       "    <tr>\n",
       "      <th>28</th>\n",
       "      <td>27</td>\n",
       "      <td>is_whopper_mean</td>\n",
       "      <td>1466.440280</td>\n",
       "      <td>0.002882</td>\n",
       "      <td>179</td>\n",
       "    </tr>\n",
       "    <tr>\n",
       "      <th>29</th>\n",
       "      <td>71</td>\n",
       "      <td>second_half_std</td>\n",
       "      <td>1416.684536</td>\n",
       "      <td>0.012744</td>\n",
       "      <td>203</td>\n",
       "    </tr>\n",
       "  </tbody>\n",
       "</table>\n",
       "</div>"
      ],
      "text/plain": [
       "    index                feature         gain       IV  split\n",
       "0      62          receipt_count 56311.500502 0.430457    224\n",
       "1      47                dom_std 16949.701377 0.161640    449\n",
       "2       1  revenue_sum_count_14d 16784.860393 0.155249    218\n",
       "3     102         first_half_std 11165.476215 0.012299    290\n",
       "4      72               dom_mean  7771.655986 0.078925    408\n",
       "5      69            strange_std  3399.754175 0.237534     93\n",
       "6      76             dom_median  2866.159276 0.057772    260\n",
       "7       3   revenue_sum_count_7d  2708.055741 0.155249     24\n",
       "8      12           minutes_mean  2701.207575 0.003522    393\n",
       "9     105        second_half_min  2368.588671 0.003584    255\n",
       "10     46                fun_sum  2316.142232 0.105191     98\n",
       "11     42           strange_mean  2241.358869 0.085361    136\n",
       "12     96      cosine_similarity  2194.801603 0.047049    313\n",
       "13     55     items_receipt_mean  2135.157802 0.008995    246\n",
       "14    104         sqm_place_mean  2119.673971 0.002517    314\n",
       "15     31     revenue_sum_std_7d  2026.566039 0.005667    287\n",
       "16     88                dow_std  1966.466406 0.097692    229\n",
       "17     45         drink_size_std  1889.058445 0.008098    230\n",
       "18     21     revenue_sum_sum_7d  1882.393075 0.043770    261\n",
       "19      2    items_count_std_14d  1786.192909 0.001754    253\n",
       "20     75            minutes_sem  1627.498317 0.030169    232\n",
       "21     33            minutes_var  1621.148796 0.042768    228\n",
       "22     97     abs_sum_delta_mean  1584.721308 0.097432    222\n",
       "23     38          is_burger_std  1575.387100 0.027302    221\n",
       "24     13         is_burger_mean  1528.010887 0.003036    221\n",
       "25     32           is_drink_std  1522.034653 0.015697    179\n",
       "26     57         is_potato_mean  1512.050090 0.004363    204\n",
       "27     60               fun_mean  1470.941219 0.009084    143\n",
       "28     27        is_whopper_mean  1466.440280 0.002882    179\n",
       "29     71        second_half_std  1416.684536 0.012744    203"
      ]
     },
     "execution_count": 274,
     "metadata": {},
     "output_type": "execute_result"
    }
   ],
   "source": [
    "gain_feat_top_30 = df_imp.sort_values(by='gain', ascending=False).reset_index()[:top][\"feature\"].values\n",
    "df_imp.sort_values(by='gain', ascending=False).reset_index()[:top]"
   ]
  },
  {
   "cell_type": "code",
   "execution_count": 275,
   "id": "17febb40",
   "metadata": {},
   "outputs": [
    {
     "data": {
      "text/html": [
       "<div>\n",
       "<style scoped>\n",
       "    .dataframe tbody tr th:only-of-type {\n",
       "        vertical-align: middle;\n",
       "    }\n",
       "\n",
       "    .dataframe tbody tr th {\n",
       "        vertical-align: top;\n",
       "    }\n",
       "\n",
       "    .dataframe thead th {\n",
       "        text-align: right;\n",
       "    }\n",
       "</style>\n",
       "<table border=\"1\" class=\"dataframe\">\n",
       "  <thead>\n",
       "    <tr style=\"text-align: right;\">\n",
       "      <th></th>\n",
       "      <th>index</th>\n",
       "      <th>feature</th>\n",
       "      <th>gain</th>\n",
       "      <th>IV</th>\n",
       "      <th>split</th>\n",
       "    </tr>\n",
       "  </thead>\n",
       "  <tbody>\n",
       "    <tr>\n",
       "      <th>0</th>\n",
       "      <td>47</td>\n",
       "      <td>dom_std</td>\n",
       "      <td>16949.701377</td>\n",
       "      <td>0.161640</td>\n",
       "      <td>449</td>\n",
       "    </tr>\n",
       "    <tr>\n",
       "      <th>1</th>\n",
       "      <td>72</td>\n",
       "      <td>dom_mean</td>\n",
       "      <td>7771.655986</td>\n",
       "      <td>0.078925</td>\n",
       "      <td>408</td>\n",
       "    </tr>\n",
       "    <tr>\n",
       "      <th>2</th>\n",
       "      <td>12</td>\n",
       "      <td>minutes_mean</td>\n",
       "      <td>2701.207575</td>\n",
       "      <td>0.003522</td>\n",
       "      <td>393</td>\n",
       "    </tr>\n",
       "    <tr>\n",
       "      <th>3</th>\n",
       "      <td>104</td>\n",
       "      <td>sqm_place_mean</td>\n",
       "      <td>2119.673971</td>\n",
       "      <td>0.002517</td>\n",
       "      <td>314</td>\n",
       "    </tr>\n",
       "    <tr>\n",
       "      <th>4</th>\n",
       "      <td>96</td>\n",
       "      <td>cosine_similarity</td>\n",
       "      <td>2194.801603</td>\n",
       "      <td>0.047049</td>\n",
       "      <td>313</td>\n",
       "    </tr>\n",
       "    <tr>\n",
       "      <th>5</th>\n",
       "      <td>102</td>\n",
       "      <td>first_half_std</td>\n",
       "      <td>11165.476215</td>\n",
       "      <td>0.012299</td>\n",
       "      <td>290</td>\n",
       "    </tr>\n",
       "    <tr>\n",
       "      <th>6</th>\n",
       "      <td>31</td>\n",
       "      <td>revenue_sum_std_7d</td>\n",
       "      <td>2026.566039</td>\n",
       "      <td>0.005667</td>\n",
       "      <td>287</td>\n",
       "    </tr>\n",
       "    <tr>\n",
       "      <th>7</th>\n",
       "      <td>21</td>\n",
       "      <td>revenue_sum_sum_7d</td>\n",
       "      <td>1882.393075</td>\n",
       "      <td>0.043770</td>\n",
       "      <td>261</td>\n",
       "    </tr>\n",
       "    <tr>\n",
       "      <th>8</th>\n",
       "      <td>76</td>\n",
       "      <td>dom_median</td>\n",
       "      <td>2866.159276</td>\n",
       "      <td>0.057772</td>\n",
       "      <td>260</td>\n",
       "    </tr>\n",
       "    <tr>\n",
       "      <th>9</th>\n",
       "      <td>105</td>\n",
       "      <td>second_half_min</td>\n",
       "      <td>2368.588671</td>\n",
       "      <td>0.003584</td>\n",
       "      <td>255</td>\n",
       "    </tr>\n",
       "    <tr>\n",
       "      <th>10</th>\n",
       "      <td>2</td>\n",
       "      <td>items_count_std_14d</td>\n",
       "      <td>1786.192909</td>\n",
       "      <td>0.001754</td>\n",
       "      <td>253</td>\n",
       "    </tr>\n",
       "    <tr>\n",
       "      <th>11</th>\n",
       "      <td>55</td>\n",
       "      <td>items_receipt_mean</td>\n",
       "      <td>2135.157802</td>\n",
       "      <td>0.008995</td>\n",
       "      <td>246</td>\n",
       "    </tr>\n",
       "    <tr>\n",
       "      <th>12</th>\n",
       "      <td>75</td>\n",
       "      <td>minutes_sem</td>\n",
       "      <td>1627.498317</td>\n",
       "      <td>0.030169</td>\n",
       "      <td>232</td>\n",
       "    </tr>\n",
       "    <tr>\n",
       "      <th>13</th>\n",
       "      <td>45</td>\n",
       "      <td>drink_size_std</td>\n",
       "      <td>1889.058445</td>\n",
       "      <td>0.008098</td>\n",
       "      <td>230</td>\n",
       "    </tr>\n",
       "    <tr>\n",
       "      <th>14</th>\n",
       "      <td>88</td>\n",
       "      <td>dow_std</td>\n",
       "      <td>1966.466406</td>\n",
       "      <td>0.097692</td>\n",
       "      <td>229</td>\n",
       "    </tr>\n",
       "    <tr>\n",
       "      <th>15</th>\n",
       "      <td>33</td>\n",
       "      <td>minutes_var</td>\n",
       "      <td>1621.148796</td>\n",
       "      <td>0.042768</td>\n",
       "      <td>228</td>\n",
       "    </tr>\n",
       "    <tr>\n",
       "      <th>16</th>\n",
       "      <td>62</td>\n",
       "      <td>receipt_count</td>\n",
       "      <td>56311.500502</td>\n",
       "      <td>0.430457</td>\n",
       "      <td>224</td>\n",
       "    </tr>\n",
       "    <tr>\n",
       "      <th>17</th>\n",
       "      <td>97</td>\n",
       "      <td>abs_sum_delta_mean</td>\n",
       "      <td>1584.721308</td>\n",
       "      <td>0.097432</td>\n",
       "      <td>222</td>\n",
       "    </tr>\n",
       "    <tr>\n",
       "      <th>18</th>\n",
       "      <td>13</td>\n",
       "      <td>is_burger_mean</td>\n",
       "      <td>1528.010887</td>\n",
       "      <td>0.003036</td>\n",
       "      <td>221</td>\n",
       "    </tr>\n",
       "    <tr>\n",
       "      <th>19</th>\n",
       "      <td>38</td>\n",
       "      <td>is_burger_std</td>\n",
       "      <td>1575.387100</td>\n",
       "      <td>0.027302</td>\n",
       "      <td>221</td>\n",
       "    </tr>\n",
       "    <tr>\n",
       "      <th>20</th>\n",
       "      <td>1</td>\n",
       "      <td>revenue_sum_count_14d</td>\n",
       "      <td>16784.860393</td>\n",
       "      <td>0.155249</td>\n",
       "      <td>218</td>\n",
       "    </tr>\n",
       "    <tr>\n",
       "      <th>21</th>\n",
       "      <td>17</td>\n",
       "      <td>sum_delta_min</td>\n",
       "      <td>1408.027129</td>\n",
       "      <td>0.021761</td>\n",
       "      <td>207</td>\n",
       "    </tr>\n",
       "    <tr>\n",
       "      <th>22</th>\n",
       "      <td>57</td>\n",
       "      <td>is_potato_mean</td>\n",
       "      <td>1512.050090</td>\n",
       "      <td>0.004363</td>\n",
       "      <td>204</td>\n",
       "    </tr>\n",
       "    <tr>\n",
       "      <th>23</th>\n",
       "      <td>71</td>\n",
       "      <td>second_half_std</td>\n",
       "      <td>1416.684536</td>\n",
       "      <td>0.012744</td>\n",
       "      <td>203</td>\n",
       "    </tr>\n",
       "    <tr>\n",
       "      <th>24</th>\n",
       "      <td>93</td>\n",
       "      <td>count_delta_std</td>\n",
       "      <td>1399.620183</td>\n",
       "      <td>0.024725</td>\n",
       "      <td>202</td>\n",
       "    </tr>\n",
       "    <tr>\n",
       "      <th>25</th>\n",
       "      <td>64</td>\n",
       "      <td>drink_size_mean</td>\n",
       "      <td>1399.165290</td>\n",
       "      <td>0.006832</td>\n",
       "      <td>201</td>\n",
       "    </tr>\n",
       "    <tr>\n",
       "      <th>26</th>\n",
       "      <td>8</td>\n",
       "      <td>is_drink_mean</td>\n",
       "      <td>1401.332417</td>\n",
       "      <td>0.009762</td>\n",
       "      <td>200</td>\n",
       "    </tr>\n",
       "    <tr>\n",
       "      <th>27</th>\n",
       "      <td>61</td>\n",
       "      <td>first_half_min</td>\n",
       "      <td>1388.286712</td>\n",
       "      <td>0.059577</td>\n",
       "      <td>200</td>\n",
       "    </tr>\n",
       "    <tr>\n",
       "      <th>28</th>\n",
       "      <td>52</td>\n",
       "      <td>dow_mean</td>\n",
       "      <td>1410.179130</td>\n",
       "      <td>0.027288</td>\n",
       "      <td>198</td>\n",
       "    </tr>\n",
       "    <tr>\n",
       "      <th>29</th>\n",
       "      <td>101</td>\n",
       "      <td>sum_delta_max</td>\n",
       "      <td>1323.480170</td>\n",
       "      <td>0.065213</td>\n",
       "      <td>186</td>\n",
       "    </tr>\n",
       "  </tbody>\n",
       "</table>\n",
       "</div>"
      ],
      "text/plain": [
       "    index                feature         gain       IV  split\n",
       "0      47                dom_std 16949.701377 0.161640    449\n",
       "1      72               dom_mean  7771.655986 0.078925    408\n",
       "2      12           minutes_mean  2701.207575 0.003522    393\n",
       "3     104         sqm_place_mean  2119.673971 0.002517    314\n",
       "4      96      cosine_similarity  2194.801603 0.047049    313\n",
       "5     102         first_half_std 11165.476215 0.012299    290\n",
       "6      31     revenue_sum_std_7d  2026.566039 0.005667    287\n",
       "7      21     revenue_sum_sum_7d  1882.393075 0.043770    261\n",
       "8      76             dom_median  2866.159276 0.057772    260\n",
       "9     105        second_half_min  2368.588671 0.003584    255\n",
       "10      2    items_count_std_14d  1786.192909 0.001754    253\n",
       "11     55     items_receipt_mean  2135.157802 0.008995    246\n",
       "12     75            minutes_sem  1627.498317 0.030169    232\n",
       "13     45         drink_size_std  1889.058445 0.008098    230\n",
       "14     88                dow_std  1966.466406 0.097692    229\n",
       "15     33            minutes_var  1621.148796 0.042768    228\n",
       "16     62          receipt_count 56311.500502 0.430457    224\n",
       "17     97     abs_sum_delta_mean  1584.721308 0.097432    222\n",
       "18     13         is_burger_mean  1528.010887 0.003036    221\n",
       "19     38          is_burger_std  1575.387100 0.027302    221\n",
       "20      1  revenue_sum_count_14d 16784.860393 0.155249    218\n",
       "21     17          sum_delta_min  1408.027129 0.021761    207\n",
       "22     57         is_potato_mean  1512.050090 0.004363    204\n",
       "23     71        second_half_std  1416.684536 0.012744    203\n",
       "24     93        count_delta_std  1399.620183 0.024725    202\n",
       "25     64        drink_size_mean  1399.165290 0.006832    201\n",
       "26      8          is_drink_mean  1401.332417 0.009762    200\n",
       "27     61         first_half_min  1388.286712 0.059577    200\n",
       "28     52               dow_mean  1410.179130 0.027288    198\n",
       "29    101          sum_delta_max  1323.480170 0.065213    186"
      ]
     },
     "execution_count": 275,
     "metadata": {},
     "output_type": "execute_result"
    }
   ],
   "source": [
    "split_feat_top_30 = df_imp.sort_values(by='split', ascending=False).reset_index()[:top][\"feature\"].values\n",
    "df_imp.sort_values(by='split', ascending=False).reset_index()[:top]"
   ]
  },
  {
   "cell_type": "code",
   "execution_count": 276,
   "id": "91481d7c",
   "metadata": {},
   "outputs": [],
   "source": [
    "best_feats_by_importance = list(set(gain_feat_top_30).union(split_feat_top_30))"
   ]
  },
  {
   "cell_type": "code",
   "execution_count": 277,
   "id": "a400ff1d",
   "metadata": {},
   "outputs": [
    {
     "data": {
      "text/plain": [
       "37"
      ]
     },
     "execution_count": 277,
     "metadata": {},
     "output_type": "execute_result"
    }
   ],
   "source": [
    "len(best_feats_by_importance)"
   ]
  },
  {
   "cell_type": "markdown",
   "id": "c47d8879",
   "metadata": {},
   "source": [
    "### Train best model\n",
    "\n",
    "Обучение модели ligthgbm"
   ]
  },
  {
   "cell_type": "code",
   "execution_count": 278,
   "id": "ccd8cd6b",
   "metadata": {},
   "outputs": [],
   "source": [
    "def plot_roc_auc_curve(y_true, y_pred, renderer='notebook'):\n",
    "    fpr, tpr, thresholds = roc_curve(y_true, y_pred)\n",
    "    fig = px.area(\n",
    "        x=fpr, y=tpr,\n",
    "        title=f'ROC Curve (AUC={auc(fpr, tpr):.4f})',\n",
    "        labels=dict(x='False Positive Rate', y='True Positive Rate'),\n",
    "        width=700, height=500\n",
    "    )\n",
    "    fig.add_shape(\n",
    "        type='line', line=dict(dash='dash'),\n",
    "        x0=0, x1=1, y0=0, y1=1\n",
    "    )\n",
    "\n",
    "    fig.update_yaxes(scaleanchor=\"x\", scaleratio=1)\n",
    "    fig.update_xaxes(constrain='domain')\n",
    "    fig.show(renderer=renderer)"
   ]
  },
  {
   "cell_type": "code",
   "execution_count": 359,
   "id": "2dc788de",
   "metadata": {},
   "outputs": [],
   "source": [
    "params = {\n",
    "    'boosting_type': 'gbdt',\n",
    "    'objective': 'binary',\n",
    "    'metric': \"binary\",\n",
    "    'num_leaves': 25,\n",
    "    'max_depth': 10,\n",
    "    'learning_rate': 0.2,\n",
    "    'colsample_bytree': 0.8,\n",
    "    'subsample': 0.8,\n",
    "    'subsample_freq': 1,\n",
    "    'min_child_samples': 50,\n",
    "    'n_jobs': 4,\n",
    "    'n_estimators': 120,\n",
    "    'class_weight': None,\n",
    "    'colsample_bytree': 0.8,\n",
    "    'importance_type': 'split',\n",
    "    'min_child_samples': 25,\n",
    "    'min_child_weight': 0.001,\n",
    "    'min_split_gain': 0.0,\n",
    "    'random_state': 42,\n",
    "    'reg_alpha': 0.0,\n",
    "    'reg_lambda': 0.0,\n",
    "    'subsample_for_bin': 200000,\n",
    "    'scale_pos_weight': 0.41,\n",
    "    'scale_pos_weight': scale_pos_weight,\n",
    "}"
   ]
  },
  {
   "cell_type": "code",
   "execution_count": 447,
   "id": "c5be9406",
   "metadata": {},
   "outputs": [
    {
     "data": {
      "text/plain": [
       "0.3923892006293599"
      ]
     },
     "execution_count": 447,
     "metadata": {},
     "output_type": "execute_result"
    }
   ],
   "source": [
    "scale_pos_weight"
   ]
  },
  {
   "cell_type": "code",
   "execution_count": 448,
   "id": "dbefc156",
   "metadata": {},
   "outputs": [],
   "source": [
    "current_feats = best_feats_by_importance"
   ]
  },
  {
   "cell_type": "code",
   "execution_count": 449,
   "id": "9d74eea4",
   "metadata": {},
   "outputs": [
    {
     "name": "stdout",
     "output_type": "stream",
     "text": [
      "[LightGBM] [Info] Number of positive: 287276, number of negative: 112724\n",
      "[LightGBM] [Info] Auto-choosing col-wise multi-threading, the overhead of testing was 0.041062 seconds.\n",
      "You can set `force_col_wise=true` to remove the overhead.\n",
      "[LightGBM] [Info] Total Bins 8172\n",
      "[LightGBM] [Info] Number of data points in the train set: 400000, number of used features: 37\n",
      "[LightGBM] [Info] [binary:BoostFromScore]: pavg=0.718190 -> initscore=0.935501\n",
      "[LightGBM] [Info] Start training from score 0.935501\n"
     ]
    }
   ],
   "source": [
    "lgbm_model = lightgbm.LGBMModel(**params)\n",
    "lgbm_model.fit(df_train[current_feats], df_train[\"buy_post\"], )\n",
    "y_pred_lgbm = lgbm_model.predict(df_val[current_feats])"
   ]
  },
  {
   "cell_type": "code",
   "execution_count": 450,
   "id": "3210113c",
   "metadata": {},
   "outputs": [],
   "source": [
    "y_pred_lgbm = lgbm_model.predict(df_val[current_feats])\n",
    "y_train_lgbm = lgbm_model.predict(df_train[current_feats])"
   ]
  },
  {
   "cell_type": "code",
   "execution_count": 460,
   "id": "5a1ff061",
   "metadata": {
    "scrolled": false
   },
   "outputs": [
    {
     "name": "stdout",
     "output_type": "stream",
     "text": [
      "              precision    recall  f1-score   support\n",
      "\n",
      "           0       0.41      0.76      0.53     28181\n",
      "           1       0.86      0.56      0.68     71819\n",
      "\n",
      "    accuracy                           0.62    100000\n",
      "   macro avg       0.63      0.66      0.60    100000\n",
      "weighted avg       0.73      0.62      0.64    100000\n",
      "\n",
      "              precision    recall  f1-score   support\n",
      "\n",
      "           0       0.42      0.79      0.55    112724\n",
      "           1       0.87      0.57      0.69    287276\n",
      "\n",
      "    accuracy                           0.63    400000\n",
      "   macro avg       0.65      0.68      0.62    400000\n",
      "weighted avg       0.75      0.63      0.65    400000\n",
      "\n",
      "f1 score - 0.6801659555884032\n",
      "recall score - 0.5638201590108467\n",
      "precision score - 0.8570128468327372\n",
      "accuracy score - 0.61918\n",
      "roc_auc score - 0.7272419712871481\n"
     ]
    }
   ],
   "source": [
    "current_cut_off = 0.53\n",
    "\n",
    "\n",
    "print(classification_report(df_val[\"buy_post\"], with_cutoff(y_pred_lgbm, current_cut_off)))\n",
    "print(classification_report(df_train[\"buy_post\"], with_cutoff(y_train_lgbm, current_cut_off)))\n",
    "print(f\"f1 score - {f1_score(df_val['buy_post'], with_cutoff(y_pred_lgbm, current_cut_off))}\")\n",
    "print(f\"recall score - {recall_score(df_val['buy_post'], with_cutoff(y_pred_lgbm, current_cut_off))}\")\n",
    "print(f\"precision score - {precision_score(df_val['buy_post'], with_cutoff(y_pred_lgbm, current_cut_off))}\")\n",
    "print(f\"accuracy score - {accuracy_score(df_val['buy_post'], with_cutoff(y_pred_lgbm, current_cut_off))}\")\n",
    "print(f\"roc_auc score - {roc_auc_score(df_val['buy_post'], y_pred_lgbm)}\")"
   ]
  },
  {
   "cell_type": "code",
   "execution_count": 452,
   "id": "2ab91388",
   "metadata": {},
   "outputs": [
    {
     "data": {
      "image/png": "[encoded data removed]"
     },
     "metadata": {},
     "output_type": "display_data"
    }
   ],
   "source": [
    "plot_roc_auc_curve(df_val['buy_post'], y_pred_lgbm, 'png')"
   ]
  },
  {
   "cell_type": "code",
   "execution_count": 453,
   "id": "7cb49d0a",
   "metadata": {},
   "outputs": [
    {
     "name": "stdout",
     "output_type": "stream",
     "text": [
      "              precision    recall  f1-score   support\n",
      "\n",
      "           0       0.42      0.71      0.53     28181\n",
      "           1       0.85      0.61      0.71     71819\n",
      "\n",
      "    accuracy                           0.64    100000\n",
      "   macro avg       0.63      0.66      0.62    100000\n",
      "weighted avg       0.73      0.64      0.66    100000\n",
      "\n",
      "f1 score - 0.7103061817712033\n",
      "roc_auc score - 0.7272419712871481\n"
     ]
    }
   ],
   "source": [
    "current_cut_off = 0.5\n",
    "\n",
    "print(classification_report(df_val[\"buy_post\"], with_cutoff(y_pred_lgbm, current_cut_off)))\n",
    "print(f\"f1 score - {f1_score(df_val['buy_post'], with_cutoff(y_pred_lgbm, current_cut_off))}\")\n",
    "print(f\"roc_auc score - {roc_auc_score(df_val['buy_post'], y_pred_lgbm)}\")"
   ]
  },
  {
   "cell_type": "markdown",
   "id": "b36c9570",
   "metadata": {},
   "source": [
    "### Test\n",
    "\n",
    "\n",
    "Отправка тестовых данных"
   ]
  },
  {
   "cell_type": "code",
   "execution_count": 454,
   "id": "5f150226",
   "metadata": {},
   "outputs": [],
   "source": [
    "df_test = pd.read_parquet(\"../data/test_with_feats_v4.parquet\")"
   ]
  },
  {
   "cell_type": "code",
   "execution_count": 455,
   "id": "f794559d",
   "metadata": {},
   "outputs": [],
   "source": [
    "y_test_pred = lgbm_model.predict(df_test[current_feats])"
   ]
  },
  {
   "cell_type": "code",
   "execution_count": 456,
   "id": "80328b4a",
   "metadata": {},
   "outputs": [],
   "source": [
    "df_test[\"buy_post\"] = with_cutoff(y_test_pred, current_cut_off)"
   ]
  },
  {
   "cell_type": "code",
   "execution_count": 457,
   "id": "7820afc2",
   "metadata": {},
   "outputs": [
    {
     "data": {
      "text/html": [
       "<div>\n",
       "<style scoped>\n",
       "    .dataframe tbody tr th:only-of-type {\n",
       "        vertical-align: middle;\n",
       "    }\n",
       "\n",
       "    .dataframe tbody tr th {\n",
       "        vertical-align: top;\n",
       "    }\n",
       "\n",
       "    .dataframe thead th {\n",
       "        text-align: right;\n",
       "    }\n",
       "</style>\n",
       "<table border=\"1\" class=\"dataframe\">\n",
       "  <thead>\n",
       "    <tr style=\"text-align: right;\">\n",
       "      <th></th>\n",
       "      <th>customer_id</th>\n",
       "      <th>buy_post</th>\n",
       "    </tr>\n",
       "  </thead>\n",
       "  <tbody>\n",
       "    <tr>\n",
       "      <th>count</th>\n",
       "      <td>112334.000000</td>\n",
       "      <td>112334.000000</td>\n",
       "    </tr>\n",
       "    <tr>\n",
       "      <th>mean</th>\n",
       "      <td>20748611.321951</td>\n",
       "      <td>0.446009</td>\n",
       "    </tr>\n",
       "    <tr>\n",
       "      <th>std</th>\n",
       "      <td>11582578.505840</td>\n",
       "      <td>0.497079</td>\n",
       "    </tr>\n",
       "    <tr>\n",
       "      <th>min</th>\n",
       "      <td>52341.000000</td>\n",
       "      <td>0.000000</td>\n",
       "    </tr>\n",
       "    <tr>\n",
       "      <th>25%</th>\n",
       "      <td>11041231.250000</td>\n",
       "      <td>0.000000</td>\n",
       "    </tr>\n",
       "    <tr>\n",
       "      <th>50%</th>\n",
       "      <td>22155898.000000</td>\n",
       "      <td>0.000000</td>\n",
       "    </tr>\n",
       "    <tr>\n",
       "      <th>75%</th>\n",
       "      <td>28861910.500000</td>\n",
       "      <td>1.000000</td>\n",
       "    </tr>\n",
       "    <tr>\n",
       "      <th>max</th>\n",
       "      <td>46668221.000000</td>\n",
       "      <td>1.000000</td>\n",
       "    </tr>\n",
       "  </tbody>\n",
       "</table>\n",
       "</div>"
      ],
      "text/plain": [
       "          customer_id      buy_post\n",
       "count   112334.000000 112334.000000\n",
       "mean  20748611.321951      0.446009\n",
       "std   11582578.505840      0.497079\n",
       "min      52341.000000      0.000000\n",
       "25%   11041231.250000      0.000000\n",
       "50%   22155898.000000      0.000000\n",
       "75%   28861910.500000      1.000000\n",
       "max   46668221.000000      1.000000"
      ]
     },
     "execution_count": 457,
     "metadata": {},
     "output_type": "execute_result"
    }
   ],
   "source": [
    "df_test[[\"customer_id\", \"buy_post\"]].describe()"
   ]
  },
  {
   "cell_type": "code",
   "execution_count": 458,
   "id": "e00e6033",
   "metadata": {},
   "outputs": [
    {
     "data": {
      "text/plain": [
       "37"
      ]
     },
     "execution_count": 458,
     "metadata": {},
     "output_type": "execute_result"
    }
   ],
   "source": [
    "len(current_feats)"
   ]
  },
  {
   "cell_type": "code",
   "execution_count": 445,
   "id": "37a6181b",
   "metadata": {},
   "outputs": [],
   "source": [
    "df_test[[\"customer_id\", \"buy_post\"]].to_csv(\"top37_by_imp_feats_lgbm_53cut.csv\", sep=';', index=False)"
   ]
  },
  {
   "cell_type": "code",
   "execution_count": null,
   "id": "1cc6d6f3",
   "metadata": {},
   "outputs": [],
   "source": []
  }
 ],
 "metadata": {
  "kernelspec": {
   "display_name": "hackaton_venv",
   "language": "python",
   "name": "hackaton_venv"
  },
  "language_info": {
   "codemirror_mode": {
    "name": "ipython",
    "version": 3
   },
   "file_extension": ".py",
   "mimetype": "text/x-python",
   "name": "python",
   "nbconvert_exporter": "python",
   "pygments_lexer": "ipython3",
   "version": "3.9.12"
  }
 },
 "nbformat": 4,
 "nbformat_minor": 5
}

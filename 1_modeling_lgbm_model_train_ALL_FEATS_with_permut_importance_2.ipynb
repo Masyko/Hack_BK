{
 "cells": [
  {
   "cell_type": "code",
   "execution_count": 1,
   "id": "39a9cbf0",
   "metadata": {},
   "outputs": [],
   "source": [
    "import pandas as pd\n",
    "import numpy as np\n",
    "import plotly.express as px\n",
    "from sklearn.model_selection import train_test_split\n",
    "import lightgbm\n",
    "from sklearn.model_selection import KFold\n",
    "from sklearn.model_selection import StratifiedKFold\n",
    "from sklearn.model_selection import GroupKFold\n",
    "from sklearn.metrics import f1_score, roc_auc_score, classification_report\n",
    "from catboost import CatBoostClassifier\n",
    "import time\n",
    "import os\n",
    "from sklearn.linear_model import LogisticRegression"
   ]
  },
  {
   "cell_type": "code",
   "execution_count": 2,
   "id": "65272c38",
   "metadata": {},
   "outputs": [
    {
     "name": "stderr",
     "output_type": "stream",
     "text": [
      "/tmp/ipykernel_77061/437858164.py:1: DeprecationWarning: Importing display from IPython.core.display is deprecated since IPython 7.14, please import from IPython display\n",
      "  from IPython.core.display import display, HTML, clear_output\n",
      "/tmp/ipykernel_77061/437858164.py:1: DeprecationWarning: Importing clear_output from IPython.core.display is deprecated since IPython 7.14, please import from IPython display\n",
      "  from IPython.core.display import display, HTML, clear_output\n"
     ]
    },
    {
     "data": {
      "text/html": [
       "<style>.container { width:85% !important; }</style>"
      ],
      "text/plain": [
       "<IPython.core.display.HTML object>"
      ]
     },
     "metadata": {},
     "output_type": "display_data"
    },
    {
     "data": {
      "text/html": [
       "<style>.prompt { min-width:10ex !important; }</style>"
      ],
      "text/plain": [
       "<IPython.core.display.HTML object>"
      ]
     },
     "metadata": {},
     "output_type": "display_data"
    }
   ],
   "source": [
    "from IPython.core.display import display, HTML, clear_output\n",
    "display(HTML(\"<style>.container { width:85% !important; }</style>\"))\n",
    "display(HTML(\"<style>.prompt { min-width:10ex !important; }</style>\"))\n",
    "pd.set_option('display.max_rows', 1000)\n",
    "pd.set_option('display.max_columns', 1000)\n",
    "pd.set_option('display.float_format', lambda x: '%.6f' % x) "
   ]
  },
  {
   "cell_type": "code",
   "execution_count": 3,
   "id": "e15f4a89",
   "metadata": {},
   "outputs": [],
   "source": [
    "df_with_feats = pd.read_parquet(\"../data/train_with_feats_v4.parquet\")"
   ]
  },
  {
   "cell_type": "code",
   "execution_count": 4,
   "id": "782b80e2",
   "metadata": {},
   "outputs": [],
   "source": [
    "df_train, df_val = train_test_split(df_with_feats, test_size=0.2, random_state=42, stratify=df_with_feats.buy_post)"
   ]
  },
  {
   "cell_type": "code",
   "execution_count": 5,
   "id": "f8ab7ec1",
   "metadata": {},
   "outputs": [],
   "source": [
    "information_value = pd.read_csv('../data/feature_information_value.csv', sep=';')"
   ]
  },
  {
   "cell_type": "markdown",
   "id": "beee52dc",
   "metadata": {},
   "source": [
    "IV < 0,02 — отсутствует; \n",
    "\n",
    "0,02 ≤ IV <0,1 — низкая; \n",
    "\n",
    "0,1 ≤ IV < 0,3 — средняя; \n",
    "\n",
    "\n",
    "IV ≥ 0,3 — высокая. \n"
   ]
  },
  {
   "cell_type": "code",
   "execution_count": 6,
   "id": "fb9398e6",
   "metadata": {},
   "outputs": [
    {
     "data": {
      "text/plain": [
       "42"
      ]
     },
     "execution_count": 6,
     "metadata": {},
     "output_type": "execute_result"
    }
   ],
   "source": [
    "best_iv_feats = information_value[information_value[\"IV\"] >= 0.02].feature.values\n",
    "len(best_iv_feats)"
   ]
  },
  {
   "cell_type": "code",
   "execution_count": 7,
   "id": "6a4d8643",
   "metadata": {},
   "outputs": [
    {
     "data": {
      "text/html": [
       "<div>\n",
       "<style scoped>\n",
       "    .dataframe tbody tr th:only-of-type {\n",
       "        vertical-align: middle;\n",
       "    }\n",
       "\n",
       "    .dataframe tbody tr th {\n",
       "        vertical-align: top;\n",
       "    }\n",
       "\n",
       "    .dataframe thead th {\n",
       "        text-align: right;\n",
       "    }\n",
       "</style>\n",
       "<table border=\"1\" class=\"dataframe\">\n",
       "  <thead>\n",
       "    <tr style=\"text-align: right;\">\n",
       "      <th></th>\n",
       "      <th>feature</th>\n",
       "      <th>IV</th>\n",
       "    </tr>\n",
       "  </thead>\n",
       "  <tbody>\n",
       "    <tr>\n",
       "      <th>62</th>\n",
       "      <td>receipt_count</td>\n",
       "      <td>0.430457</td>\n",
       "    </tr>\n",
       "    <tr>\n",
       "      <th>30</th>\n",
       "      <td>weekends_std</td>\n",
       "      <td>0.243150</td>\n",
       "    </tr>\n",
       "    <tr>\n",
       "      <th>69</th>\n",
       "      <td>strange_std</td>\n",
       "      <td>0.237534</td>\n",
       "    </tr>\n",
       "    <tr>\n",
       "      <th>47</th>\n",
       "      <td>dom_std</td>\n",
       "      <td>0.161640</td>\n",
       "    </tr>\n",
       "    <tr>\n",
       "      <th>1</th>\n",
       "      <td>revenue_sum_count_14d</td>\n",
       "      <td>0.155249</td>\n",
       "    </tr>\n",
       "    <tr>\n",
       "      <th>65</th>\n",
       "      <td>revenue_sum_count_28d</td>\n",
       "      <td>0.155249</td>\n",
       "    </tr>\n",
       "    <tr>\n",
       "      <th>3</th>\n",
       "      <td>revenue_sum_count_7d</td>\n",
       "      <td>0.155249</td>\n",
       "    </tr>\n",
       "    <tr>\n",
       "      <th>35</th>\n",
       "      <td>was_promo_std</td>\n",
       "      <td>0.120205</td>\n",
       "    </tr>\n",
       "    <tr>\n",
       "      <th>46</th>\n",
       "      <td>fun_sum</td>\n",
       "      <td>0.105191</td>\n",
       "    </tr>\n",
       "    <tr>\n",
       "      <th>88</th>\n",
       "      <td>dow_std</td>\n",
       "      <td>0.097692</td>\n",
       "    </tr>\n",
       "    <tr>\n",
       "      <th>97</th>\n",
       "      <td>abs_sum_delta_mean</td>\n",
       "      <td>0.097432</td>\n",
       "    </tr>\n",
       "    <tr>\n",
       "      <th>15</th>\n",
       "      <td>was_rec_std</td>\n",
       "      <td>0.090511</td>\n",
       "    </tr>\n",
       "    <tr>\n",
       "      <th>95</th>\n",
       "      <td>items_count_sum_14d</td>\n",
       "      <td>0.088741</td>\n",
       "    </tr>\n",
       "    <tr>\n",
       "      <th>36</th>\n",
       "      <td>items_count_sum_28d</td>\n",
       "      <td>0.088741</td>\n",
       "    </tr>\n",
       "    <tr>\n",
       "      <th>14</th>\n",
       "      <td>items_count_sum_7d</td>\n",
       "      <td>0.088741</td>\n",
       "    </tr>\n",
       "    <tr>\n",
       "      <th>42</th>\n",
       "      <td>strange_mean</td>\n",
       "      <td>0.085361</td>\n",
       "    </tr>\n",
       "    <tr>\n",
       "      <th>84</th>\n",
       "      <td>sum_delta_mean</td>\n",
       "      <td>0.081003</td>\n",
       "    </tr>\n",
       "    <tr>\n",
       "      <th>72</th>\n",
       "      <td>dom_mean</td>\n",
       "      <td>0.078925</td>\n",
       "    </tr>\n",
       "    <tr>\n",
       "      <th>11</th>\n",
       "      <td>count_delta_max</td>\n",
       "      <td>0.078453</td>\n",
       "    </tr>\n",
       "    <tr>\n",
       "      <th>22</th>\n",
       "      <td>count_delta_mean</td>\n",
       "      <td>0.077059</td>\n",
       "    </tr>\n",
       "    <tr>\n",
       "      <th>101</th>\n",
       "      <td>sum_delta_max</td>\n",
       "      <td>0.065213</td>\n",
       "    </tr>\n",
       "    <tr>\n",
       "      <th>61</th>\n",
       "      <td>first_half_min</td>\n",
       "      <td>0.059577</td>\n",
       "    </tr>\n",
       "    <tr>\n",
       "      <th>76</th>\n",
       "      <td>dom_median</td>\n",
       "      <td>0.057772</td>\n",
       "    </tr>\n",
       "    <tr>\n",
       "      <th>18</th>\n",
       "      <td>abs_count_delta_mean</td>\n",
       "      <td>0.052973</td>\n",
       "    </tr>\n",
       "    <tr>\n",
       "      <th>48</th>\n",
       "      <td>weekends_mean</td>\n",
       "      <td>0.049743</td>\n",
       "    </tr>\n",
       "    <tr>\n",
       "      <th>96</th>\n",
       "      <td>cosine_similarity</td>\n",
       "      <td>0.047049</td>\n",
       "    </tr>\n",
       "    <tr>\n",
       "      <th>68</th>\n",
       "      <td>revenue_sum_sum_14d</td>\n",
       "      <td>0.043770</td>\n",
       "    </tr>\n",
       "    <tr>\n",
       "      <th>81</th>\n",
       "      <td>revenue_sum_sum_28d</td>\n",
       "      <td>0.043770</td>\n",
       "    </tr>\n",
       "    <tr>\n",
       "      <th>21</th>\n",
       "      <td>revenue_sum_sum_7d</td>\n",
       "      <td>0.043770</td>\n",
       "    </tr>\n",
       "    <tr>\n",
       "      <th>66</th>\n",
       "      <td>minutes_std</td>\n",
       "      <td>0.042768</td>\n",
       "    </tr>\n",
       "    <tr>\n",
       "      <th>33</th>\n",
       "      <td>minutes_var</td>\n",
       "      <td>0.042768</td>\n",
       "    </tr>\n",
       "    <tr>\n",
       "      <th>56</th>\n",
       "      <td>count_delta_min</td>\n",
       "      <td>0.037541</td>\n",
       "    </tr>\n",
       "    <tr>\n",
       "      <th>39</th>\n",
       "      <td>was_promo_mean</td>\n",
       "      <td>0.034826</td>\n",
       "    </tr>\n",
       "    <tr>\n",
       "      <th>9</th>\n",
       "      <td>ratio</td>\n",
       "      <td>0.031495</td>\n",
       "    </tr>\n",
       "    <tr>\n",
       "      <th>54</th>\n",
       "      <td>sqm_place_sem</td>\n",
       "      <td>0.030976</td>\n",
       "    </tr>\n",
       "    <tr>\n",
       "      <th>75</th>\n",
       "      <td>minutes_sem</td>\n",
       "      <td>0.030169</td>\n",
       "    </tr>\n",
       "    <tr>\n",
       "      <th>20</th>\n",
       "      <td>diff</td>\n",
       "      <td>0.027565</td>\n",
       "    </tr>\n",
       "    <tr>\n",
       "      <th>38</th>\n",
       "      <td>is_burger_std</td>\n",
       "      <td>0.027302</td>\n",
       "    </tr>\n",
       "    <tr>\n",
       "      <th>52</th>\n",
       "      <td>dow_mean</td>\n",
       "      <td>0.027288</td>\n",
       "    </tr>\n",
       "    <tr>\n",
       "      <th>93</th>\n",
       "      <td>count_delta_std</td>\n",
       "      <td>0.024725</td>\n",
       "    </tr>\n",
       "    <tr>\n",
       "      <th>17</th>\n",
       "      <td>sum_delta_min</td>\n",
       "      <td>0.021761</td>\n",
       "    </tr>\n",
       "    <tr>\n",
       "      <th>103</th>\n",
       "      <td>fun_std</td>\n",
       "      <td>0.021617</td>\n",
       "    </tr>\n",
       "  </tbody>\n",
       "</table>\n",
       "</div>"
      ],
      "text/plain": [
       "                   feature       IV\n",
       "62           receipt_count 0.430457\n",
       "30            weekends_std 0.243150\n",
       "69             strange_std 0.237534\n",
       "47                 dom_std 0.161640\n",
       "1    revenue_sum_count_14d 0.155249\n",
       "65   revenue_sum_count_28d 0.155249\n",
       "3     revenue_sum_count_7d 0.155249\n",
       "35           was_promo_std 0.120205\n",
       "46                 fun_sum 0.105191\n",
       "88                 dow_std 0.097692\n",
       "97      abs_sum_delta_mean 0.097432\n",
       "15             was_rec_std 0.090511\n",
       "95     items_count_sum_14d 0.088741\n",
       "36     items_count_sum_28d 0.088741\n",
       "14      items_count_sum_7d 0.088741\n",
       "42            strange_mean 0.085361\n",
       "84          sum_delta_mean 0.081003\n",
       "72                dom_mean 0.078925\n",
       "11         count_delta_max 0.078453\n",
       "22        count_delta_mean 0.077059\n",
       "101          sum_delta_max 0.065213\n",
       "61          first_half_min 0.059577\n",
       "76              dom_median 0.057772\n",
       "18    abs_count_delta_mean 0.052973\n",
       "48           weekends_mean 0.049743\n",
       "96       cosine_similarity 0.047049\n",
       "68     revenue_sum_sum_14d 0.043770\n",
       "81     revenue_sum_sum_28d 0.043770\n",
       "21      revenue_sum_sum_7d 0.043770\n",
       "66             minutes_std 0.042768\n",
       "33             minutes_var 0.042768\n",
       "56         count_delta_min 0.037541\n",
       "39          was_promo_mean 0.034826\n",
       "9                    ratio 0.031495\n",
       "54           sqm_place_sem 0.030976\n",
       "75             minutes_sem 0.030169\n",
       "20                    diff 0.027565\n",
       "38           is_burger_std 0.027302\n",
       "52                dow_mean 0.027288\n",
       "93         count_delta_std 0.024725\n",
       "17           sum_delta_min 0.021761\n",
       "103                fun_std 0.021617"
      ]
     },
     "execution_count": 7,
     "metadata": {},
     "output_type": "execute_result"
    }
   ],
   "source": [
    "information_value[information_value[\"IV\"] >= 0.02].sort_values(by=\"IV\", ascending=False)"
   ]
  },
  {
   "cell_type": "markdown",
   "id": "e902fe45",
   "metadata": {},
   "source": [
    "### Modeling [gain]\n",
    "\n",
    "importance by gain"
   ]
  },
  {
   "cell_type": "code",
   "execution_count": 8,
   "id": "eec65e9f",
   "metadata": {
    "scrolled": false
   },
   "outputs": [
    {
     "data": {
      "text/plain": [
       "buy_post\n",
       "1    287276\n",
       "0    112724\n",
       "Name: count, dtype: int64"
      ]
     },
     "execution_count": 8,
     "metadata": {},
     "output_type": "execute_result"
    }
   ],
   "source": [
    "df_train[\"buy_post\"].value_counts()"
   ]
  },
  {
   "cell_type": "code",
   "execution_count": 9,
   "id": "4d94ec6a",
   "metadata": {},
   "outputs": [],
   "source": [
    "scale_pos_weight = 112724/ 287276"
   ]
  },
  {
   "cell_type": "code",
   "execution_count": 10,
   "id": "38a01b7f",
   "metadata": {},
   "outputs": [],
   "source": [
    "params = {\n",
    "    'boosting_type': 'gbdt',\n",
    "    'objective': 'binary',\n",
    "    'metric': \"binary\",\n",
    "    'num_leaves': 50,\n",
    "    'max_depth': 20,\n",
    "    'learning_rate': 0.15,\n",
    "    'colsample_bytree': 0.8,\n",
    "    'subsample': 0.8,\n",
    "    'subsample_freq': 1,\n",
    "    'min_child_samples': 50,\n",
    "    'n_jobs': 4,\n",
    "    'n_estimators': 300,\n",
    "    'scale_pos_weight': scale_pos_weight,\n",
    "    'class_weight': None,\n",
    "    'colsample_bytree': 0.8,\n",
    "    'importance_type': 'gain',\n",
    "    'min_child_samples': 50,\n",
    "    'min_child_weight': 0.001,\n",
    "    'min_split_gain': 0.0,\n",
    "    'random_state': None,\n",
    "    'reg_alpha': 0.0,\n",
    "    'reg_lambda': 0.0,\n",
    "    'subsample_for_bin': 200000,\n",
    "}"
   ]
  },
  {
   "cell_type": "code",
   "execution_count": 11,
   "id": "e90e811b",
   "metadata": {},
   "outputs": [
    {
     "data": {
      "text/plain": [
       "108"
      ]
     },
     "execution_count": 11,
     "metadata": {},
     "output_type": "execute_result"
    }
   ],
   "source": [
    "current_feats = information_value.feature.values\n",
    "len(current_feats)"
   ]
  },
  {
   "cell_type": "code",
   "execution_count": 12,
   "id": "ba093e67",
   "metadata": {},
   "outputs": [],
   "source": [
    "lgbm_model = lightgbm.LGBMModel(**params)"
   ]
  },
  {
   "cell_type": "code",
   "execution_count": 13,
   "id": "fdfe75c6",
   "metadata": {},
   "outputs": [
    {
     "name": "stdout",
     "output_type": "stream",
     "text": [
      "[LightGBM] [Info] Number of positive: 287276, number of negative: 112724\n",
      "[LightGBM] [Info] Auto-choosing col-wise multi-threading, the overhead of testing was 0.267005 seconds.\n",
      "You can set `force_col_wise=true` to remove the overhead.\n",
      "[LightGBM] [Info] Total Bins 22195\n",
      "[LightGBM] [Info] Number of data points in the train set: 400000, number of used features: 108\n",
      "[LightGBM] [Info] [binary:BoostFromScore]: pavg=0.718190 -> initscore=0.935501\n",
      "[LightGBM] [Info] Start training from score 0.935501\n"
     ]
    },
    {
     "data": {
      "text/html": [
       "<style>#sk-container-id-1 {color: black;}#sk-container-id-1 pre{padding: 0;}#sk-container-id-1 div.sk-toggleable {background-color: white;}#sk-container-id-1 label.sk-toggleable__label {cursor: pointer;display: block;width: 100%;margin-bottom: 0;padding: 0.3em;box-sizing: border-box;text-align: center;}#sk-container-id-1 label.sk-toggleable__label-arrow:before {content: \"▸\";float: left;margin-right: 0.25em;color: #696969;}#sk-container-id-1 label.sk-toggleable__label-arrow:hover:before {color: black;}#sk-container-id-1 div.sk-estimator:hover label.sk-toggleable__label-arrow:before {color: black;}#sk-container-id-1 div.sk-toggleable__content {max-height: 0;max-width: 0;overflow: hidden;text-align: left;background-color: #f0f8ff;}#sk-container-id-1 div.sk-toggleable__content pre {margin: 0.2em;color: black;border-radius: 0.25em;background-color: #f0f8ff;}#sk-container-id-1 input.sk-toggleable__control:checked~div.sk-toggleable__content {max-height: 200px;max-width: 100%;overflow: auto;}#sk-container-id-1 input.sk-toggleable__control:checked~label.sk-toggleable__label-arrow:before {content: \"▾\";}#sk-container-id-1 div.sk-estimator input.sk-toggleable__control:checked~label.sk-toggleable__label {background-color: #d4ebff;}#sk-container-id-1 div.sk-label input.sk-toggleable__control:checked~label.sk-toggleable__label {background-color: #d4ebff;}#sk-container-id-1 input.sk-hidden--visually {border: 0;clip: rect(1px 1px 1px 1px);clip: rect(1px, 1px, 1px, 1px);height: 1px;margin: -1px;overflow: hidden;padding: 0;position: absolute;width: 1px;}#sk-container-id-1 div.sk-estimator {font-family: monospace;background-color: #f0f8ff;border: 1px dotted black;border-radius: 0.25em;box-sizing: border-box;margin-bottom: 0.5em;}#sk-container-id-1 div.sk-estimator:hover {background-color: #d4ebff;}#sk-container-id-1 div.sk-parallel-item::after {content: \"\";width: 100%;border-bottom: 1px solid gray;flex-grow: 1;}#sk-container-id-1 div.sk-label:hover label.sk-toggleable__label {background-color: #d4ebff;}#sk-container-id-1 div.sk-serial::before {content: \"\";position: absolute;border-left: 1px solid gray;box-sizing: border-box;top: 0;bottom: 0;left: 50%;z-index: 0;}#sk-container-id-1 div.sk-serial {display: flex;flex-direction: column;align-items: center;background-color: white;padding-right: 0.2em;padding-left: 0.2em;position: relative;}#sk-container-id-1 div.sk-item {position: relative;z-index: 1;}#sk-container-id-1 div.sk-parallel {display: flex;align-items: stretch;justify-content: center;background-color: white;position: relative;}#sk-container-id-1 div.sk-item::before, #sk-container-id-1 div.sk-parallel-item::before {content: \"\";position: absolute;border-left: 1px solid gray;box-sizing: border-box;top: 0;bottom: 0;left: 50%;z-index: -1;}#sk-container-id-1 div.sk-parallel-item {display: flex;flex-direction: column;z-index: 1;position: relative;background-color: white;}#sk-container-id-1 div.sk-parallel-item:first-child::after {align-self: flex-end;width: 50%;}#sk-container-id-1 div.sk-parallel-item:last-child::after {align-self: flex-start;width: 50%;}#sk-container-id-1 div.sk-parallel-item:only-child::after {width: 0;}#sk-container-id-1 div.sk-dashed-wrapped {border: 1px dashed gray;margin: 0 0.4em 0.5em 0.4em;box-sizing: border-box;padding-bottom: 0.4em;background-color: white;}#sk-container-id-1 div.sk-label label {font-family: monospace;font-weight: bold;display: inline-block;line-height: 1.2em;}#sk-container-id-1 div.sk-label-container {text-align: center;}#sk-container-id-1 div.sk-container {/* jupyter's `normalize.less` sets `[hidden] { display: none; }` but bootstrap.min.css set `[hidden] { display: none !important; }` so we also need the `!important` here to be able to override the default hidden behavior on the sphinx rendered scikit-learn.org. See: https://github.com/scikit-learn/scikit-learn/issues/21755 */display: inline-block !important;position: relative;}#sk-container-id-1 div.sk-text-repr-fallback {display: none;}</style><div id=\"sk-container-id-1\" class=\"sk-top-container\"><div class=\"sk-text-repr-fallback\"><pre>LGBMModel(colsample_bytree=0.8, importance_type=&#x27;gain&#x27;, learning_rate=0.15,\n",
       "          max_depth=20, metric=&#x27;binary&#x27;, min_child_samples=50, n_estimators=300,\n",
       "          n_jobs=4, num_leaves=50, objective=&#x27;binary&#x27;,\n",
       "          scale_pos_weight=0.3923892006293599, subsample=0.8, subsample_freq=1)</pre><b>In a Jupyter environment, please rerun this cell to show the HTML representation or trust the notebook. <br />On GitHub, the HTML representation is unable to render, please try loading this page with nbviewer.org.</b></div><div class=\"sk-container\" hidden><div class=\"sk-item\"><div class=\"sk-estimator sk-toggleable\"><input class=\"sk-toggleable__control sk-hidden--visually\" id=\"sk-estimator-id-1\" type=\"checkbox\" checked><label for=\"sk-estimator-id-1\" class=\"sk-toggleable__label sk-toggleable__label-arrow\">LGBMModel</label><div class=\"sk-toggleable__content\"><pre>LGBMModel(colsample_bytree=0.8, importance_type=&#x27;gain&#x27;, learning_rate=0.15,\n",
       "          max_depth=20, metric=&#x27;binary&#x27;, min_child_samples=50, n_estimators=300,\n",
       "          n_jobs=4, num_leaves=50, objective=&#x27;binary&#x27;,\n",
       "          scale_pos_weight=0.3923892006293599, subsample=0.8, subsample_freq=1)</pre></div></div></div></div></div>"
      ],
      "text/plain": [
       "LGBMModel(colsample_bytree=0.8, importance_type='gain', learning_rate=0.15,\n",
       "          max_depth=20, metric='binary', min_child_samples=50, n_estimators=300,\n",
       "          n_jobs=4, num_leaves=50, objective='binary',\n",
       "          scale_pos_weight=0.3923892006293599, subsample=0.8, subsample_freq=1)"
      ]
     },
     "execution_count": 13,
     "metadata": {},
     "output_type": "execute_result"
    }
   ],
   "source": [
    "lgbm_model.fit(df_train[current_feats], df_train[\"buy_post\"], )"
   ]
  },
  {
   "cell_type": "code",
   "execution_count": 14,
   "id": "da2359ab",
   "metadata": {},
   "outputs": [],
   "source": [
    "y_pred_lgbm = lgbm_model.predict(df_val[current_feats])"
   ]
  },
  {
   "cell_type": "code",
   "execution_count": 15,
   "id": "ad623319",
   "metadata": {},
   "outputs": [],
   "source": [
    "def with_cutoff(y_pred, cut_off):\n",
    "    return [int(x > cut_off) for x in y_pred]"
   ]
  },
  {
   "cell_type": "code",
   "execution_count": 16,
   "id": "55d6cbe3",
   "metadata": {
    "scrolled": false
   },
   "outputs": [
    {
     "name": "stdout",
     "output_type": "stream",
     "text": [
      "              precision    recall  f1-score   support\n",
      "\n",
      "           0       0.43      0.68      0.52     28181\n",
      "           1       0.84      0.64      0.72     71819\n",
      "\n",
      "    accuracy                           0.65    100000\n",
      "   macro avg       0.63      0.66      0.62    100000\n",
      "weighted avg       0.72      0.65      0.67    100000\n",
      "\n"
     ]
    }
   ],
   "source": [
    "current_cut_off = 0.5\n",
    "\n",
    "print(classification_report(df_val[\"buy_post\"], with_cutoff(y_pred_lgbm, current_cut_off)))"
   ]
  },
  {
   "cell_type": "code",
   "execution_count": 17,
   "id": "dfda7327",
   "metadata": {},
   "outputs": [
    {
     "data": {
      "text/plain": [
       "0.7234429482972651"
      ]
     },
     "execution_count": 17,
     "metadata": {},
     "output_type": "execute_result"
    }
   ],
   "source": [
    "f1_score(df_val[\"buy_post\"], with_cutoff(y_pred_lgbm, current_cut_off))"
   ]
  },
  {
   "cell_type": "code",
   "execution_count": 18,
   "id": "3b48292a",
   "metadata": {},
   "outputs": [
    {
     "data": {
      "text/plain": [
       "0.7246865524565382"
      ]
     },
     "execution_count": 18,
     "metadata": {},
     "output_type": "execute_result"
    }
   ],
   "source": [
    "roc_auc_score(df_val[\"buy_post\"], y_pred_lgbm)"
   ]
  },
  {
   "cell_type": "code",
   "execution_count": 85,
   "id": "009d2c37",
   "metadata": {},
   "outputs": [],
   "source": [
    "def get_feats_importances(model, type_):\n",
    "    df = pd.DataFrame()\n",
    "    df[\"feature\"] = model.feature_name_\n",
    "    df[type_] = model.feature_importances_\n",
    "    df = df.merge(information_value, on=\"feature\", how=\"inner\")\n",
    "    return df"
   ]
  },
  {
   "cell_type": "code",
   "execution_count": 86,
   "id": "480e8377",
   "metadata": {},
   "outputs": [],
   "source": [
    "imp_gain = get_feats_importances(lgbm_model, \"gain\")"
   ]
  },
  {
   "cell_type": "markdown",
   "id": "c3120eea",
   "metadata": {},
   "source": [
    "### Modeling [splits]\n",
    "\n",
    "\n",
    "importance by splits"
   ]
  },
  {
   "cell_type": "code",
   "execution_count": 87,
   "id": "319578f9",
   "metadata": {},
   "outputs": [],
   "source": [
    "params = {\n",
    "    'boosting_type': 'gbdt',\n",
    "    'objective': 'binary',\n",
    "    'metric': \"binary\",\n",
    "    'num_leaves': 50,\n",
    "    'max_depth': 20,\n",
    "    'learning_rate': 0.15,\n",
    "    'colsample_bytree': 0.8,\n",
    "    'subsample': 0.8,\n",
    "    'subsample_freq': 1,\n",
    "    'min_child_samples': 50,\n",
    "    'n_jobs': 4,\n",
    "    'n_estimators': 300,\n",
    "    'scale_pos_weight': scale_pos_weight,\n",
    "    'class_weight': None,\n",
    "    'colsample_bytree': 0.8,\n",
    "    'importance_type': 'split',\n",
    "    'min_child_samples': 50,\n",
    "    'min_child_weight': 0.001,\n",
    "    'min_split_gain': 0.0,\n",
    "    'random_state': None,\n",
    "    'reg_alpha': 0.0,\n",
    "    'reg_lambda': 0.0,\n",
    "    'subsample_for_bin': 200000,\n",
    "}"
   ]
  },
  {
   "cell_type": "code",
   "execution_count": 88,
   "id": "967f97de",
   "metadata": {},
   "outputs": [
    {
     "name": "stdout",
     "output_type": "stream",
     "text": [
      "[LightGBM] [Info] Number of positive: 287276, number of negative: 112724\n",
      "[LightGBM] [Info] Auto-choosing col-wise multi-threading, the overhead of testing was 0.151100 seconds.\n",
      "You can set `force_col_wise=true` to remove the overhead.\n",
      "[LightGBM] [Info] Total Bins 22195\n",
      "[LightGBM] [Info] Number of data points in the train set: 400000, number of used features: 108\n",
      "[LightGBM] [Info] [binary:BoostFromScore]: pavg=0.718190 -> initscore=0.935501\n",
      "[LightGBM] [Info] Start training from score 0.935501\n"
     ]
    }
   ],
   "source": [
    "lgbm_model = lightgbm.LGBMModel(**params)\n",
    "lgbm_model.fit(df_train[current_feats], df_train[\"buy_post\"], )\n",
    "y_pred_lgbm = lgbm_model.predict(df_val[current_feats])"
   ]
  },
  {
   "cell_type": "code",
   "execution_count": 89,
   "id": "7649cb3a",
   "metadata": {},
   "outputs": [],
   "source": [
    "imp_splits = get_feats_importances(lgbm_model, \"split\")"
   ]
  },
  {
   "cell_type": "code",
   "execution_count": 91,
   "id": "28a53a22",
   "metadata": {},
   "outputs": [],
   "source": [
    "df_imp = imp_gain.merge(imp_splits[['feature', 'split']], on='feature', how='left')"
   ]
  },
  {
   "cell_type": "markdown",
   "id": "92b3c492",
   "metadata": {},
   "source": [
    "### Modeling [permutaion]\n",
    "\n",
    "premutaion importance"
   ]
  },
  {
   "cell_type": "code",
   "execution_count": 90,
   "id": "054b03dd",
   "metadata": {},
   "outputs": [],
   "source": [
    "from sklearn.inspection import permutation_importance"
   ]
  },
  {
   "cell_type": "code",
   "execution_count": 98,
   "id": "6cea13de",
   "metadata": {},
   "outputs": [],
   "source": [
    "lgbm_for_permut = lightgbm.LGBMClassifier(**params)"
   ]
  },
  {
   "cell_type": "code",
   "execution_count": 99,
   "id": "31123191",
   "metadata": {},
   "outputs": [
    {
     "name": "stdout",
     "output_type": "stream",
     "text": [
      "[LightGBM] [Info] Number of positive: 287276, number of negative: 112724\n",
      "[LightGBM] [Info] Auto-choosing col-wise multi-threading, the overhead of testing was 0.143210 seconds.\n",
      "You can set `force_col_wise=true` to remove the overhead.\n",
      "[LightGBM] [Info] Total Bins 22195\n",
      "[LightGBM] [Info] Number of data points in the train set: 400000, number of used features: 108\n",
      "[LightGBM] [Info] [binary:BoostFromScore]: pavg=0.718190 -> initscore=0.935501\n",
      "[LightGBM] [Info] Start training from score 0.935501\n"
     ]
    },
    {
     "data": {
      "text/html": [
       "<style>#sk-container-id-8 {color: black;}#sk-container-id-8 pre{padding: 0;}#sk-container-id-8 div.sk-toggleable {background-color: white;}#sk-container-id-8 label.sk-toggleable__label {cursor: pointer;display: block;width: 100%;margin-bottom: 0;padding: 0.3em;box-sizing: border-box;text-align: center;}#sk-container-id-8 label.sk-toggleable__label-arrow:before {content: \"▸\";float: left;margin-right: 0.25em;color: #696969;}#sk-container-id-8 label.sk-toggleable__label-arrow:hover:before {color: black;}#sk-container-id-8 div.sk-estimator:hover label.sk-toggleable__label-arrow:before {color: black;}#sk-container-id-8 div.sk-toggleable__content {max-height: 0;max-width: 0;overflow: hidden;text-align: left;background-color: #f0f8ff;}#sk-container-id-8 div.sk-toggleable__content pre {margin: 0.2em;color: black;border-radius: 0.25em;background-color: #f0f8ff;}#sk-container-id-8 input.sk-toggleable__control:checked~div.sk-toggleable__content {max-height: 200px;max-width: 100%;overflow: auto;}#sk-container-id-8 input.sk-toggleable__control:checked~label.sk-toggleable__label-arrow:before {content: \"▾\";}#sk-container-id-8 div.sk-estimator input.sk-toggleable__control:checked~label.sk-toggleable__label {background-color: #d4ebff;}#sk-container-id-8 div.sk-label input.sk-toggleable__control:checked~label.sk-toggleable__label {background-color: #d4ebff;}#sk-container-id-8 input.sk-hidden--visually {border: 0;clip: rect(1px 1px 1px 1px);clip: rect(1px, 1px, 1px, 1px);height: 1px;margin: -1px;overflow: hidden;padding: 0;position: absolute;width: 1px;}#sk-container-id-8 div.sk-estimator {font-family: monospace;background-color: #f0f8ff;border: 1px dotted black;border-radius: 0.25em;box-sizing: border-box;margin-bottom: 0.5em;}#sk-container-id-8 div.sk-estimator:hover {background-color: #d4ebff;}#sk-container-id-8 div.sk-parallel-item::after {content: \"\";width: 100%;border-bottom: 1px solid gray;flex-grow: 1;}#sk-container-id-8 div.sk-label:hover label.sk-toggleable__label {background-color: #d4ebff;}#sk-container-id-8 div.sk-serial::before {content: \"\";position: absolute;border-left: 1px solid gray;box-sizing: border-box;top: 0;bottom: 0;left: 50%;z-index: 0;}#sk-container-id-8 div.sk-serial {display: flex;flex-direction: column;align-items: center;background-color: white;padding-right: 0.2em;padding-left: 0.2em;position: relative;}#sk-container-id-8 div.sk-item {position: relative;z-index: 1;}#sk-container-id-8 div.sk-parallel {display: flex;align-items: stretch;justify-content: center;background-color: white;position: relative;}#sk-container-id-8 div.sk-item::before, #sk-container-id-8 div.sk-parallel-item::before {content: \"\";position: absolute;border-left: 1px solid gray;box-sizing: border-box;top: 0;bottom: 0;left: 50%;z-index: -1;}#sk-container-id-8 div.sk-parallel-item {display: flex;flex-direction: column;z-index: 1;position: relative;background-color: white;}#sk-container-id-8 div.sk-parallel-item:first-child::after {align-self: flex-end;width: 50%;}#sk-container-id-8 div.sk-parallel-item:last-child::after {align-self: flex-start;width: 50%;}#sk-container-id-8 div.sk-parallel-item:only-child::after {width: 0;}#sk-container-id-8 div.sk-dashed-wrapped {border: 1px dashed gray;margin: 0 0.4em 0.5em 0.4em;box-sizing: border-box;padding-bottom: 0.4em;background-color: white;}#sk-container-id-8 div.sk-label label {font-family: monospace;font-weight: bold;display: inline-block;line-height: 1.2em;}#sk-container-id-8 div.sk-label-container {text-align: center;}#sk-container-id-8 div.sk-container {/* jupyter's `normalize.less` sets `[hidden] { display: none; }` but bootstrap.min.css set `[hidden] { display: none !important; }` so we also need the `!important` here to be able to override the default hidden behavior on the sphinx rendered scikit-learn.org. See: https://github.com/scikit-learn/scikit-learn/issues/21755 */display: inline-block !important;position: relative;}#sk-container-id-8 div.sk-text-repr-fallback {display: none;}</style><div id=\"sk-container-id-8\" class=\"sk-top-container\"><div class=\"sk-text-repr-fallback\"><pre>LGBMClassifier(colsample_bytree=0.8, learning_rate=0.15, max_depth=20,\n",
       "               metric=&#x27;binary&#x27;, min_child_samples=50, n_estimators=300,\n",
       "               n_jobs=4, num_leaves=50, objective=&#x27;binary&#x27;,\n",
       "               scale_pos_weight=0.3923892006293599, subsample=0.8,\n",
       "               subsample_freq=1)</pre><b>In a Jupyter environment, please rerun this cell to show the HTML representation or trust the notebook. <br />On GitHub, the HTML representation is unable to render, please try loading this page with nbviewer.org.</b></div><div class=\"sk-container\" hidden><div class=\"sk-item\"><div class=\"sk-estimator sk-toggleable\"><input class=\"sk-toggleable__control sk-hidden--visually\" id=\"sk-estimator-id-8\" type=\"checkbox\" checked><label for=\"sk-estimator-id-8\" class=\"sk-toggleable__label sk-toggleable__label-arrow\">LGBMClassifier</label><div class=\"sk-toggleable__content\"><pre>LGBMClassifier(colsample_bytree=0.8, learning_rate=0.15, max_depth=20,\n",
       "               metric=&#x27;binary&#x27;, min_child_samples=50, n_estimators=300,\n",
       "               n_jobs=4, num_leaves=50, objective=&#x27;binary&#x27;,\n",
       "               scale_pos_weight=0.3923892006293599, subsample=0.8,\n",
       "               subsample_freq=1)</pre></div></div></div></div></div>"
      ],
      "text/plain": [
       "LGBMClassifier(colsample_bytree=0.8, learning_rate=0.15, max_depth=20,\n",
       "               metric='binary', min_child_samples=50, n_estimators=300,\n",
       "               n_jobs=4, num_leaves=50, objective='binary',\n",
       "               scale_pos_weight=0.3923892006293599, subsample=0.8,\n",
       "               subsample_freq=1)"
      ]
     },
     "execution_count": 99,
     "metadata": {},
     "output_type": "execute_result"
    }
   ],
   "source": [
    "lgbm_for_permut.fit(df_train[current_feats], df_train[\"buy_post\"])"
   ]
  },
  {
   "cell_type": "code",
   "execution_count": 100,
   "id": "2efa5853",
   "metadata": {},
   "outputs": [],
   "source": [
    "r = permutation_importance(lgbm_for_permut, df_val[current_feats], df_val[\"buy_post\"], n_repeats=30,random_state=0, scoring=[\"f1\"])"
   ]
  },
  {
   "cell_type": "code",
   "execution_count": 102,
   "id": "a7118d44",
   "metadata": {},
   "outputs": [],
   "source": [
    "df_permut = pd.DataFrame()\n",
    "df_permut[\"feature\"] = lgbm_for_permut.feature_name_\n",
    "df_permut[\"permut\"] = r[\"f1\"][\"importances_mean\"]"
   ]
  },
  {
   "cell_type": "code",
   "execution_count": 103,
   "id": "d4acfb8a",
   "metadata": {},
   "outputs": [],
   "source": [
    "df_imp = df_imp.merge(df_permut[['feature', 'permut']], on='feature', how='left')"
   ]
  },
  {
   "cell_type": "markdown",
   "id": "9e127ef8",
   "metadata": {},
   "source": [
    "### Feature selection\n",
    "\n",
    "Отбор фичей - выбрать какой то топ фичей по каждому imporatnce и взять объединение этих признаков"
   ]
  },
  {
   "cell_type": "code",
   "execution_count": 196,
   "id": "54aa67cb",
   "metadata": {},
   "outputs": [],
   "source": [
    "top = 20"
   ]
  },
  {
   "cell_type": "code",
   "execution_count": 197,
   "id": "44cb0d35",
   "metadata": {},
   "outputs": [],
   "source": [
    "gain_feat_top_30 = df_imp.sort_values(by='gain', ascending=False).reset_index()[:top][\"feature\"].values"
   ]
  },
  {
   "cell_type": "code",
   "execution_count": 198,
   "id": "0bab6eb0",
   "metadata": {},
   "outputs": [],
   "source": [
    "split_feat_top_30 = df_imp.sort_values(by='split', ascending=False).reset_index()[:top][\"feature\"].values"
   ]
  },
  {
   "cell_type": "code",
   "execution_count": 199,
   "id": "7f343ba0",
   "metadata": {},
   "outputs": [],
   "source": [
    "permut_feat_top_30 = df_imp.sort_values(by='permut', ascending=False).reset_index()[:top][\"feature\"].values"
   ]
  },
  {
   "cell_type": "code",
   "execution_count": 200,
   "id": "947f8fdc",
   "metadata": {},
   "outputs": [
    {
     "data": {
      "text/plain": [
       "31"
      ]
     },
     "execution_count": 200,
     "metadata": {},
     "output_type": "execute_result"
    }
   ],
   "source": [
    "best_feats_by_importance = list(set(split_feat_top_30).union(permut_feat_top_30))\n",
    "len(best_feats_by_importance)"
   ]
  },
  {
   "cell_type": "markdown",
   "id": "31b2a186",
   "metadata": {},
   "source": [
    "### Modeling\n",
    "\n",
    "Построение модели классификации lightgbm"
   ]
  },
  {
   "cell_type": "code",
   "execution_count": 181,
   "id": "c825afd1",
   "metadata": {},
   "outputs": [],
   "source": [
    "def plot_roc_auc_curve(y_true, y_pred):\n",
    "    from sklearn.metrics import f1_score, roc_auc_score, classification_report, roc_curve, auc\n",
    "    fpr, tpr, thresholds = roc_curve(y_true, y_pred)\n",
    "    fig = px.area(\n",
    "        x=fpr, y=tpr,\n",
    "        title=f'ROC Curve (AUC={auc(fpr, tpr):.4f})',\n",
    "        labels=dict(x='False Positive Rate', y='True Positive Rate'),\n",
    "        width=700, height=500\n",
    "    )\n",
    "    fig.add_shape(\n",
    "        type='line', line=dict(dash='dash'),\n",
    "        x0=0, x1=1, y0=0, y1=1\n",
    "    )\n",
    "\n",
    "    fig.update_yaxes(scaleanchor=\"x\", scaleratio=1)\n",
    "    fig.update_xaxes(constrain='domain')\n",
    "    fig.show()"
   ]
  },
  {
   "cell_type": "code",
   "execution_count": 173,
   "id": "edad800e",
   "metadata": {},
   "outputs": [],
   "source": [
    "params = {\n",
    "    'boosting_type': 'gbdt',\n",
    "    'objective': 'binary',\n",
    "    'metric': \"binary\",\n",
    "    'num_leaves': 50,\n",
    "    'max_depth': 20,\n",
    "    'learning_rate': 0.15,\n",
    "    'colsample_bytree': 0.8,\n",
    "    'subsample': 0.8,\n",
    "    'subsample_freq': 1,\n",
    "    'min_child_samples': 50,\n",
    "    'n_jobs': 4,\n",
    "    'n_estimators': 300,\n",
    "    'scale_pos_weight': scale_pos_weight,\n",
    "    'class_weight': None,\n",
    "    'colsample_bytree': 0.8,\n",
    "    'importance_type': 'split',\n",
    "    'min_child_samples': 50,\n",
    "    'min_child_weight': 0.001,\n",
    "    'min_split_gain': 0.0,\n",
    "    'random_state': None,\n",
    "    'reg_alpha': 0.0,\n",
    "    'reg_lambda': 0.0,\n",
    "    'subsample_for_bin': 200000,\n",
    "}"
   ]
  },
  {
   "cell_type": "code",
   "execution_count": 174,
   "id": "b208aecb",
   "metadata": {},
   "outputs": [],
   "source": [
    "current_feats = best_feats_by_importance"
   ]
  },
  {
   "cell_type": "code",
   "execution_count": 175,
   "id": "44b73cc9",
   "metadata": {},
   "outputs": [
    {
     "name": "stdout",
     "output_type": "stream",
     "text": [
      "[LightGBM] [Info] Number of positive: 287276, number of negative: 112724\n",
      "[LightGBM] [Info] Auto-choosing col-wise multi-threading, the overhead of testing was 0.013791 seconds.\n",
      "You can set `force_col_wise=true` to remove the overhead.\n",
      "[LightGBM] [Info] Total Bins 3254\n",
      "[LightGBM] [Info] Number of data points in the train set: 400000, number of used features: 15\n",
      "[LightGBM] [Info] [binary:BoostFromScore]: pavg=0.718190 -> initscore=0.935501\n",
      "[LightGBM] [Info] Start training from score 0.935501\n"
     ]
    }
   ],
   "source": [
    "lgbm_model = lightgbm.LGBMModel(**params)\n",
    "lgbm_model.fit(df_train[current_feats], df_train[\"buy_post\"], )\n",
    "y_pred_lgbm = lgbm_model.predict(df_val[current_feats])"
   ]
  },
  {
   "cell_type": "code",
   "execution_count": 176,
   "id": "ebe1c374",
   "metadata": {},
   "outputs": [],
   "source": [
    "y_pred_lgbm = lgbm_model.predict(df_val[current_feats])"
   ]
  },
  {
   "cell_type": "code",
   "execution_count": 185,
   "id": "46355817",
   "metadata": {},
   "outputs": [
    {
     "name": "stdout",
     "output_type": "stream",
     "text": [
      "              precision    recall  f1-score   support\n",
      "\n",
      "           0       0.41      0.76      0.53     28181\n",
      "           1       0.86      0.56      0.68     71819\n",
      "\n",
      "    accuracy                           0.62    100000\n",
      "   macro avg       0.63      0.66      0.60    100000\n",
      "weighted avg       0.73      0.62      0.64    100000\n",
      "\n",
      "f1 score - 0.6798915370343941\n",
      "roc_auc score - 0.7243413687929148\n"
     ]
    }
   ],
   "source": [
    "current_cut_off = 0.54\n",
    "\n",
    "print(classification_report(df_val[\"buy_post\"], with_cutoff(y_pred_lgbm, current_cut_off)))\n",
    "print(f\"f1 score - {f1_score(df_val['buy_post'], with_cutoff(y_pred_lgbm, current_cut_off))}\")\n",
    "print(f\"roc_auc score - {roc_auc_score(df_val['buy_post'], y_pred_lgbm)}\")"
   ]
  },
  {
   "cell_type": "markdown",
   "id": "01d15e52",
   "metadata": {},
   "source": [
    "### Test\n",
    "\n",
    "Тестирование и отправка решения"
   ]
  },
  {
   "cell_type": "code",
   "execution_count": 160,
   "id": "5f150226",
   "metadata": {},
   "outputs": [],
   "source": [
    "df_test = pd.read_parquet(\"../data/test_with_feats_v4.parquet\")"
   ]
  },
  {
   "cell_type": "code",
   "execution_count": 161,
   "id": "f794559d",
   "metadata": {},
   "outputs": [],
   "source": [
    "y_test_pred = lgbm_model.predict(df_test[current_feats])"
   ]
  },
  {
   "cell_type": "code",
   "execution_count": 162,
   "id": "80328b4a",
   "metadata": {},
   "outputs": [],
   "source": [
    "df_test[\"buy_post\"] = with_cutoff(y_test_pred, current_cut_off)"
   ]
  },
  {
   "cell_type": "code",
   "execution_count": 163,
   "id": "7820afc2",
   "metadata": {},
   "outputs": [
    {
     "data": {
      "text/html": [
       "<div>\n",
       "<style scoped>\n",
       "    .dataframe tbody tr th:only-of-type {\n",
       "        vertical-align: middle;\n",
       "    }\n",
       "\n",
       "    .dataframe tbody tr th {\n",
       "        vertical-align: top;\n",
       "    }\n",
       "\n",
       "    .dataframe thead th {\n",
       "        text-align: right;\n",
       "    }\n",
       "</style>\n",
       "<table border=\"1\" class=\"dataframe\">\n",
       "  <thead>\n",
       "    <tr style=\"text-align: right;\">\n",
       "      <th></th>\n",
       "      <th>customer_id</th>\n",
       "      <th>buy_post</th>\n",
       "    </tr>\n",
       "  </thead>\n",
       "  <tbody>\n",
       "    <tr>\n",
       "      <th>count</th>\n",
       "      <td>112334.000000</td>\n",
       "      <td>112334.000000</td>\n",
       "    </tr>\n",
       "    <tr>\n",
       "      <th>mean</th>\n",
       "      <td>20748611.321951</td>\n",
       "      <td>0.385582</td>\n",
       "    </tr>\n",
       "    <tr>\n",
       "      <th>std</th>\n",
       "      <td>11582578.505840</td>\n",
       "      <td>0.486735</td>\n",
       "    </tr>\n",
       "    <tr>\n",
       "      <th>min</th>\n",
       "      <td>52341.000000</td>\n",
       "      <td>0.000000</td>\n",
       "    </tr>\n",
       "    <tr>\n",
       "      <th>25%</th>\n",
       "      <td>11041231.250000</td>\n",
       "      <td>0.000000</td>\n",
       "    </tr>\n",
       "    <tr>\n",
       "      <th>50%</th>\n",
       "      <td>22155898.000000</td>\n",
       "      <td>0.000000</td>\n",
       "    </tr>\n",
       "    <tr>\n",
       "      <th>75%</th>\n",
       "      <td>28861910.500000</td>\n",
       "      <td>1.000000</td>\n",
       "    </tr>\n",
       "    <tr>\n",
       "      <th>max</th>\n",
       "      <td>46668221.000000</td>\n",
       "      <td>1.000000</td>\n",
       "    </tr>\n",
       "  </tbody>\n",
       "</table>\n",
       "</div>"
      ],
      "text/plain": [
       "          customer_id      buy_post\n",
       "count   112334.000000 112334.000000\n",
       "mean  20748611.321951      0.385582\n",
       "std   11582578.505840      0.486735\n",
       "min      52341.000000      0.000000\n",
       "25%   11041231.250000      0.000000\n",
       "50%   22155898.000000      0.000000\n",
       "75%   28861910.500000      1.000000\n",
       "max   46668221.000000      1.000000"
      ]
     },
     "execution_count": 163,
     "metadata": {},
     "output_type": "execute_result"
    }
   ],
   "source": [
    "df_test[[\"customer_id\", \"buy_post\"]].describe()"
   ]
  },
  {
   "cell_type": "code",
   "execution_count": 164,
   "id": "e00e6033",
   "metadata": {
    "scrolled": true
   },
   "outputs": [
    {
     "data": {
      "text/plain": [
       "17"
      ]
     },
     "execution_count": 164,
     "metadata": {},
     "output_type": "execute_result"
    }
   ],
   "source": [
    "len(current_feats)"
   ]
  },
  {
   "cell_type": "code",
   "execution_count": 166,
   "id": "37a6181b",
   "metadata": {},
   "outputs": [],
   "source": [
    "df_test[[\"customer_id\", \"buy_post\"]].to_csv(\"top17_feats_by_all_imp_lgbm_55.csv\", sep=';', index=False)"
   ]
  },
  {
   "cell_type": "code",
   "execution_count": null,
   "id": "1cc6d6f3",
   "metadata": {},
   "outputs": [],
   "source": []
  }
 ],
 "metadata": {
  "kernelspec": {
   "display_name": "hackaton_venv",
   "language": "python",
   "name": "hackaton_venv"
  },
  "language_info": {
   "codemirror_mode": {
    "name": "ipython",
    "version": 3
   },
   "file_extension": ".py",
   "mimetype": "text/x-python",
   "name": "python",
   "nbconvert_exporter": "python",
   "pygments_lexer": "ipython3",
   "version": "3.9.12"
  }
 },
 "nbformat": 4,
 "nbformat_minor": 5
}
